{
 "metadata": {
  "language_info": {
   "codemirror_mode": {
    "name": "ipython",
    "version": 3
   },
   "file_extension": ".py",
   "mimetype": "text/x-python",
   "name": "python",
   "nbconvert_exporter": "python",
   "pygments_lexer": "ipython3",
   "version": "3.6.10-final"
  },
  "orig_nbformat": 2,
  "kernelspec": {
   "name": "python361064bitmsdscapstoneconda8d6407b59370461aa891780727d57a0a",
   "display_name": "Python 3.6.10 64-bit ('msds_capstone': conda)",
   "language": "python"
  }
 },
 "nbformat": 4,
 "nbformat_minor": 2,
 "cells": [
  {
   "cell_type": "code",
   "execution_count": 1,
   "metadata": {
    "tags": []
   },
   "outputs": [
    {
     "output_type": "stream",
     "name": "stdout",
     "text": [
      "Imported auto_timeseries version:0.0.25. Call by using:\n\nats = auto_timeseries(score_type='rmse', forecast_period=forecast_period,\n                time_interval='Month',\n                non_seasonal_pdq=None, seasonality=False, seasonal_period=12,\n                model_type=['Prophet'],\n                verbose=2)\nats.fit(traindata, ts_column,target)\nats.predict(testdata, forecast_period)\n\n"
     ]
    }
   ],
   "source": [
    "import pandas as pd\n",
    "\n",
    "dev = True  # Set to false when using production version of library\n",
    "if dev:\n",
    "    # Path to Dev version of autots library\n",
    "    sys.path.append(os.environ['DEV_AUTOTS'])\n",
    "    %load_ext autoreload\n",
    "    %autoreload 2\n",
    "\n",
    "from auto_ts import auto_timeseries as ATS"
   ]
  },
  {
   "cell_type": "markdown",
   "metadata": {},
   "source": [
    "# Load Dataset"
   ]
  },
  {
   "cell_type": "code",
   "execution_count": 2,
   "metadata": {
    "tags": []
   },
   "outputs": [
    {
     "output_type": "stream",
     "name": "stdout",
     "text": [
      "<class 'pandas.core.frame.DataFrame'>\nRangeIndex: 144 entries, 0 to 143\nData columns (total 2 columns):\n #   Column      Non-Null Count  Dtype \n---  ------      --------------  ----- \n 0   Month       144 non-null    object\n 1   Passengers  144 non-null    int64 \ndtypes: int64(1), object(1)\nmemory usage: 2.4+ KB\n"
     ]
    }
   ],
   "source": [
    "file_path=\"https://raw.githubusercontent.com/jbrownlee/Datasets/master/airline-passengers.csv\"\n",
    "dataset = pd.read_csv(file_path, engine='python')\n",
    "dataset.info()"
   ]
  },
  {
   "cell_type": "code",
   "execution_count": 3,
   "metadata": {},
   "outputs": [
    {
     "output_type": "execute_result",
     "data": {
      "text/plain": [
       "     Month  Passengers\n",
       "0  1949-01         112\n",
       "1  1949-02         118\n",
       "2  1949-03         132\n",
       "3  1949-04         129\n",
       "4  1949-05         121"
      ],
      "text/html": "<div>\n<style scoped>\n    .dataframe tbody tr th:only-of-type {\n        vertical-align: middle;\n    }\n\n    .dataframe tbody tr th {\n        vertical-align: top;\n    }\n\n    .dataframe thead th {\n        text-align: right;\n    }\n</style>\n<table border=\"1\" class=\"dataframe\">\n  <thead>\n    <tr style=\"text-align: right;\">\n      <th></th>\n      <th>Month</th>\n      <th>Passengers</th>\n    </tr>\n  </thead>\n  <tbody>\n    <tr>\n      <th>0</th>\n      <td>1949-01</td>\n      <td>112</td>\n    </tr>\n    <tr>\n      <th>1</th>\n      <td>1949-02</td>\n      <td>118</td>\n    </tr>\n    <tr>\n      <th>2</th>\n      <td>1949-03</td>\n      <td>132</td>\n    </tr>\n    <tr>\n      <th>3</th>\n      <td>1949-04</td>\n      <td>129</td>\n    </tr>\n    <tr>\n      <th>4</th>\n      <td>1949-05</td>\n      <td>121</td>\n    </tr>\n  </tbody>\n</table>\n</div>"
     },
     "metadata": {},
     "execution_count": 3
    }
   ],
   "source": [
    "dataset.head()"
   ]
  },
  {
   "cell_type": "code",
   "execution_count": 4,
   "metadata": {
    "tags": []
   },
   "outputs": [
    {
     "output_type": "execute_result",
     "data": {
      "text/plain": [
       "<matplotlib.axes._subplots.AxesSubplot at 0x1b369c879b0>"
      ]
     },
     "metadata": {},
     "execution_count": 4
    },
    {
     "output_type": "display_data",
     "data": {
      "text/plain": "<Figure size 432x288 with 1 Axes>",
      "image/svg+xml": "<?xml version=\"1.0\" encoding=\"utf-8\" standalone=\"no\"?>\r\n<!DOCTYPE svg PUBLIC \"-//W3C//DTD SVG 1.1//EN\"\r\n  \"http://www.w3.org/Graphics/SVG/1.1/DTD/svg11.dtd\">\r\n<!-- Created with matplotlib (https://matplotlib.org/) -->\r\n<svg height=\"251.399844pt\" version=\"1.1\" viewBox=\"0 0 377.051094 251.399844\" width=\"377.051094pt\" xmlns=\"http://www.w3.org/2000/svg\" xmlns:xlink=\"http://www.w3.org/1999/xlink\">\r\n <defs>\r\n  <style type=\"text/css\">\r\n*{stroke-linecap:butt;stroke-linejoin:round;}\r\n  </style>\r\n </defs>\r\n <g id=\"figure_1\">\r\n  <g id=\"patch_1\">\r\n   <path d=\"M 0 251.399844 \r\nL 377.051094 251.399844 \r\nL 377.051094 0 \r\nL 0 0 \r\nz\r\n\" style=\"fill:#ffffff;\"/>\r\n  </g>\r\n  <g id=\"axes_1\">\r\n   <g id=\"patch_2\">\r\n    <path d=\"M 35.051094 224.64 \r\nL 369.851094 224.64 \r\nL 369.851094 7.2 \r\nL 35.051094 7.2 \r\nz\r\n\" style=\"fill:#ffffff;\"/>\r\n   </g>\r\n   <g id=\"matplotlib.axis_1\">\r\n    <g id=\"xtick_1\">\r\n     <g id=\"text_1\">\r\n      <!-- 0 -->\r\n      <defs>\r\n       <path d=\"M 4.15625 35.296875 \r\nQ 4.15625 48 6.765625 55.734375 \r\nQ 9.375 63.484375 14.515625 67.671875 \r\nQ 19.671875 71.875 27.484375 71.875 \r\nQ 33.25 71.875 37.59375 69.546875 \r\nQ 41.9375 67.234375 44.765625 62.859375 \r\nQ 47.609375 58.5 49.21875 52.21875 \r\nQ 50.828125 45.953125 50.828125 35.296875 \r\nQ 50.828125 22.703125 48.234375 14.96875 \r\nQ 45.65625 7.234375 40.5 3 \r\nQ 35.359375 -1.21875 27.484375 -1.21875 \r\nQ 17.140625 -1.21875 11.234375 6.203125 \r\nQ 4.15625 15.140625 4.15625 35.296875 \r\nz\r\nM 13.1875 35.296875 \r\nQ 13.1875 17.671875 17.3125 11.828125 \r\nQ 21.4375 6 27.484375 6 \r\nQ 33.546875 6 37.671875 11.859375 \r\nQ 41.796875 17.71875 41.796875 35.296875 \r\nQ 41.796875 52.984375 37.671875 58.78125 \r\nQ 33.546875 64.59375 27.390625 64.59375 \r\nQ 21.34375 64.59375 17.71875 59.46875 \r\nQ 13.1875 52.9375 13.1875 35.296875 \r\nz\r\n\" id=\"ArialMT-48\"/>\r\n      </defs>\r\n      <g style=\"fill:#262626;\" transform=\"translate(47.21076 242.013594)scale(0.11 -0.11)\">\r\n       <use xlink:href=\"#ArialMT-48\"/>\r\n      </g>\r\n     </g>\r\n    </g>\r\n    <g id=\"xtick_2\">\r\n     <g id=\"text_2\">\r\n      <!-- 20 -->\r\n      <defs>\r\n       <path d=\"M 50.34375 8.453125 \r\nL 50.34375 0 \r\nL 3.03125 0 \r\nQ 2.9375 3.171875 4.046875 6.109375 \r\nQ 5.859375 10.9375 9.828125 15.625 \r\nQ 13.8125 20.3125 21.34375 26.46875 \r\nQ 33.015625 36.03125 37.109375 41.625 \r\nQ 41.21875 47.21875 41.21875 52.203125 \r\nQ 41.21875 57.421875 37.46875 61 \r\nQ 33.734375 64.59375 27.734375 64.59375 \r\nQ 21.390625 64.59375 17.578125 60.78125 \r\nQ 13.765625 56.984375 13.71875 50.25 \r\nL 4.6875 51.171875 \r\nQ 5.609375 61.28125 11.65625 66.578125 \r\nQ 17.71875 71.875 27.9375 71.875 \r\nQ 38.234375 71.875 44.234375 66.15625 \r\nQ 50.25 60.453125 50.25 52 \r\nQ 50.25 47.703125 48.484375 43.546875 \r\nQ 46.734375 39.40625 42.65625 34.8125 \r\nQ 38.578125 30.21875 29.109375 22.21875 \r\nQ 21.1875 15.578125 18.9375 13.203125 \r\nQ 16.703125 10.84375 15.234375 8.453125 \r\nz\r\n\" id=\"ArialMT-50\"/>\r\n      </defs>\r\n      <g style=\"fill:#262626;\" transform=\"translate(86.720585 242.013594)scale(0.11 -0.11)\">\r\n       <use xlink:href=\"#ArialMT-50\"/>\r\n       <use x=\"55.615234\" xlink:href=\"#ArialMT-48\"/>\r\n      </g>\r\n     </g>\r\n    </g>\r\n    <g id=\"xtick_3\">\r\n     <g id=\"text_3\">\r\n      <!-- 40 -->\r\n      <defs>\r\n       <path d=\"M 32.328125 0 \r\nL 32.328125 17.140625 \r\nL 1.265625 17.140625 \r\nL 1.265625 25.203125 \r\nL 33.9375 71.578125 \r\nL 41.109375 71.578125 \r\nL 41.109375 25.203125 \r\nL 50.78125 25.203125 \r\nL 50.78125 17.140625 \r\nL 41.109375 17.140625 \r\nL 41.109375 0 \r\nz\r\nM 32.328125 25.203125 \r\nL 32.328125 57.46875 \r\nL 9.90625 25.203125 \r\nz\r\n\" id=\"ArialMT-52\"/>\r\n      </defs>\r\n      <g style=\"fill:#262626;\" transform=\"translate(129.288926 242.013594)scale(0.11 -0.11)\">\r\n       <use xlink:href=\"#ArialMT-52\"/>\r\n       <use x=\"55.615234\" xlink:href=\"#ArialMT-48\"/>\r\n      </g>\r\n     </g>\r\n    </g>\r\n    <g id=\"xtick_4\">\r\n     <g id=\"text_4\">\r\n      <!-- 60 -->\r\n      <defs>\r\n       <path d=\"M 49.75 54.046875 \r\nL 41.015625 53.375 \r\nQ 39.84375 58.546875 37.703125 60.890625 \r\nQ 34.125 64.65625 28.90625 64.65625 \r\nQ 24.703125 64.65625 21.53125 62.3125 \r\nQ 17.390625 59.28125 14.984375 53.46875 \r\nQ 12.59375 47.65625 12.5 36.921875 \r\nQ 15.671875 41.75 20.265625 44.09375 \r\nQ 24.859375 46.4375 29.890625 46.4375 \r\nQ 38.671875 46.4375 44.84375 39.96875 \r\nQ 51.03125 33.5 51.03125 23.25 \r\nQ 51.03125 16.5 48.125 10.71875 \r\nQ 45.21875 4.9375 40.140625 1.859375 \r\nQ 35.0625 -1.21875 28.609375 -1.21875 \r\nQ 17.625 -1.21875 10.6875 6.859375 \r\nQ 3.765625 14.9375 3.765625 33.5 \r\nQ 3.765625 54.25 11.421875 63.671875 \r\nQ 18.109375 71.875 29.4375 71.875 \r\nQ 37.890625 71.875 43.28125 67.140625 \r\nQ 48.6875 62.40625 49.75 54.046875 \r\nz\r\nM 13.875 23.1875 \r\nQ 13.875 18.65625 15.796875 14.5 \r\nQ 17.71875 10.359375 21.1875 8.171875 \r\nQ 24.65625 6 28.46875 6 \r\nQ 34.03125 6 38.03125 10.484375 \r\nQ 42.046875 14.984375 42.046875 22.703125 \r\nQ 42.046875 30.125 38.078125 34.390625 \r\nQ 34.125 38.671875 28.125 38.671875 \r\nQ 22.171875 38.671875 18.015625 34.390625 \r\nQ 13.875 30.125 13.875 23.1875 \r\nz\r\n\" id=\"ArialMT-54\"/>\r\n      </defs>\r\n      <g style=\"fill:#262626;\" transform=\"translate(171.857267 242.013594)scale(0.11 -0.11)\">\r\n       <use xlink:href=\"#ArialMT-54\"/>\r\n       <use x=\"55.615234\" xlink:href=\"#ArialMT-48\"/>\r\n      </g>\r\n     </g>\r\n    </g>\r\n    <g id=\"xtick_5\">\r\n     <g id=\"text_5\">\r\n      <!-- 80 -->\r\n      <defs>\r\n       <path d=\"M 17.671875 38.8125 \r\nQ 12.203125 40.828125 9.5625 44.53125 \r\nQ 6.9375 48.25 6.9375 53.421875 \r\nQ 6.9375 61.234375 12.546875 66.546875 \r\nQ 18.171875 71.875 27.484375 71.875 \r\nQ 36.859375 71.875 42.578125 66.421875 \r\nQ 48.296875 60.984375 48.296875 53.171875 \r\nQ 48.296875 48.1875 45.671875 44.5 \r\nQ 43.0625 40.828125 37.75 38.8125 \r\nQ 44.34375 36.671875 47.78125 31.875 \r\nQ 51.21875 27.09375 51.21875 20.453125 \r\nQ 51.21875 11.28125 44.71875 5.03125 \r\nQ 38.234375 -1.21875 27.640625 -1.21875 \r\nQ 17.046875 -1.21875 10.546875 5.046875 \r\nQ 4.046875 11.328125 4.046875 20.703125 \r\nQ 4.046875 27.6875 7.59375 32.390625 \r\nQ 11.140625 37.109375 17.671875 38.8125 \r\nz\r\nM 15.921875 53.71875 \r\nQ 15.921875 48.640625 19.1875 45.40625 \r\nQ 22.46875 42.1875 27.6875 42.1875 \r\nQ 32.765625 42.1875 36.015625 45.375 \r\nQ 39.265625 48.578125 39.265625 53.21875 \r\nQ 39.265625 58.0625 35.90625 61.359375 \r\nQ 32.5625 64.65625 27.59375 64.65625 \r\nQ 22.5625 64.65625 19.234375 61.421875 \r\nQ 15.921875 58.203125 15.921875 53.71875 \r\nz\r\nM 13.09375 20.65625 \r\nQ 13.09375 16.890625 14.875 13.375 \r\nQ 16.65625 9.859375 20.171875 7.921875 \r\nQ 23.6875 6 27.734375 6 \r\nQ 34.03125 6 38.125 10.046875 \r\nQ 42.234375 14.109375 42.234375 20.359375 \r\nQ 42.234375 26.703125 38.015625 30.859375 \r\nQ 33.796875 35.015625 27.4375 35.015625 \r\nQ 21.234375 35.015625 17.15625 30.90625 \r\nQ 13.09375 26.8125 13.09375 20.65625 \r\nz\r\n\" id=\"ArialMT-56\"/>\r\n      </defs>\r\n      <g style=\"fill:#262626;\" transform=\"translate(214.425607 242.013594)scale(0.11 -0.11)\">\r\n       <use xlink:href=\"#ArialMT-56\"/>\r\n       <use x=\"55.615234\" xlink:href=\"#ArialMT-48\"/>\r\n      </g>\r\n     </g>\r\n    </g>\r\n    <g id=\"xtick_6\">\r\n     <g id=\"text_6\">\r\n      <!-- 100 -->\r\n      <defs>\r\n       <path d=\"M 37.25 0 \r\nL 28.46875 0 \r\nL 28.46875 56 \r\nQ 25.296875 52.984375 20.140625 49.953125 \r\nQ 14.984375 46.921875 10.890625 45.40625 \r\nL 10.890625 53.90625 \r\nQ 18.265625 57.375 23.78125 62.296875 \r\nQ 29.296875 67.234375 31.59375 71.875 \r\nL 37.25 71.875 \r\nz\r\n\" id=\"ArialMT-49\"/>\r\n      </defs>\r\n      <g style=\"fill:#262626;\" transform=\"translate(253.935432 242.013594)scale(0.11 -0.11)\">\r\n       <use xlink:href=\"#ArialMT-49\"/>\r\n       <use x=\"55.615234\" xlink:href=\"#ArialMT-48\"/>\r\n       <use x=\"111.230469\" xlink:href=\"#ArialMT-48\"/>\r\n      </g>\r\n     </g>\r\n    </g>\r\n    <g id=\"xtick_7\">\r\n     <g id=\"text_7\">\r\n      <!-- 120 -->\r\n      <g style=\"fill:#262626;\" transform=\"translate(296.503773 242.013594)scale(0.11 -0.11)\">\r\n       <use xlink:href=\"#ArialMT-49\"/>\r\n       <use x=\"55.615234\" xlink:href=\"#ArialMT-50\"/>\r\n       <use x=\"111.230469\" xlink:href=\"#ArialMT-48\"/>\r\n      </g>\r\n     </g>\r\n    </g>\r\n    <g id=\"xtick_8\">\r\n     <g id=\"text_8\">\r\n      <!-- 140 -->\r\n      <g style=\"fill:#262626;\" transform=\"translate(339.072114 242.013594)scale(0.11 -0.11)\">\r\n       <use xlink:href=\"#ArialMT-49\"/>\r\n       <use x=\"55.615234\" xlink:href=\"#ArialMT-52\"/>\r\n       <use x=\"111.230469\" xlink:href=\"#ArialMT-48\"/>\r\n      </g>\r\n     </g>\r\n    </g>\r\n   </g>\r\n   <g id=\"matplotlib.axis_2\">\r\n    <g id=\"ytick_1\">\r\n     <g id=\"text_9\">\r\n      <!-- 100 -->\r\n      <g style=\"fill:#262626;\" transform=\"translate(7.2 220.219591)scale(0.11 -0.11)\">\r\n       <use xlink:href=\"#ArialMT-49\"/>\r\n       <use x=\"55.615234\" xlink:href=\"#ArialMT-48\"/>\r\n       <use x=\"111.230469\" xlink:href=\"#ArialMT-48\"/>\r\n      </g>\r\n     </g>\r\n    </g>\r\n    <g id=\"ytick_2\">\r\n     <g id=\"text_10\">\r\n      <!-- 200 -->\r\n      <g style=\"fill:#262626;\" transform=\"translate(7.2 182.058833)scale(0.11 -0.11)\">\r\n       <use xlink:href=\"#ArialMT-50\"/>\r\n       <use x=\"55.615234\" xlink:href=\"#ArialMT-48\"/>\r\n       <use x=\"111.230469\" xlink:href=\"#ArialMT-48\"/>\r\n      </g>\r\n     </g>\r\n    </g>\r\n    <g id=\"ytick_3\">\r\n     <g id=\"text_11\">\r\n      <!-- 300 -->\r\n      <defs>\r\n       <path d=\"M 4.203125 18.890625 \r\nL 12.984375 20.0625 \r\nQ 14.5 12.59375 18.140625 9.296875 \r\nQ 21.78125 6 27 6 \r\nQ 33.203125 6 37.46875 10.296875 \r\nQ 41.75 14.59375 41.75 20.953125 \r\nQ 41.75 27 37.796875 30.921875 \r\nQ 33.84375 34.859375 27.734375 34.859375 \r\nQ 25.25 34.859375 21.53125 33.890625 \r\nL 22.515625 41.609375 \r\nQ 23.390625 41.5 23.921875 41.5 \r\nQ 29.546875 41.5 34.03125 44.421875 \r\nQ 38.53125 47.359375 38.53125 53.46875 \r\nQ 38.53125 58.296875 35.25 61.46875 \r\nQ 31.984375 64.65625 26.8125 64.65625 \r\nQ 21.6875 64.65625 18.265625 61.421875 \r\nQ 14.84375 58.203125 13.875 51.765625 \r\nL 5.078125 53.328125 \r\nQ 6.6875 62.15625 12.390625 67.015625 \r\nQ 18.109375 71.875 26.609375 71.875 \r\nQ 32.46875 71.875 37.390625 69.359375 \r\nQ 42.328125 66.84375 44.9375 62.5 \r\nQ 47.5625 58.15625 47.5625 53.265625 \r\nQ 47.5625 48.640625 45.0625 44.828125 \r\nQ 42.578125 41.015625 37.703125 38.765625 \r\nQ 44.046875 37.3125 47.5625 32.6875 \r\nQ 51.078125 28.078125 51.078125 21.140625 \r\nQ 51.078125 11.765625 44.234375 5.25 \r\nQ 37.40625 -1.265625 26.953125 -1.265625 \r\nQ 17.53125 -1.265625 11.296875 4.34375 \r\nQ 5.078125 9.96875 4.203125 18.890625 \r\nz\r\n\" id=\"ArialMT-51\"/>\r\n      </defs>\r\n      <g style=\"fill:#262626;\" transform=\"translate(7.2 143.898075)scale(0.11 -0.11)\">\r\n       <use xlink:href=\"#ArialMT-51\"/>\r\n       <use x=\"55.615234\" xlink:href=\"#ArialMT-48\"/>\r\n       <use x=\"111.230469\" xlink:href=\"#ArialMT-48\"/>\r\n      </g>\r\n     </g>\r\n    </g>\r\n    <g id=\"ytick_4\">\r\n     <g id=\"text_12\">\r\n      <!-- 400 -->\r\n      <g style=\"fill:#262626;\" transform=\"translate(7.2 105.737316)scale(0.11 -0.11)\">\r\n       <use xlink:href=\"#ArialMT-52\"/>\r\n       <use x=\"55.615234\" xlink:href=\"#ArialMT-48\"/>\r\n       <use x=\"111.230469\" xlink:href=\"#ArialMT-48\"/>\r\n      </g>\r\n     </g>\r\n    </g>\r\n    <g id=\"ytick_5\">\r\n     <g id=\"text_13\">\r\n      <!-- 500 -->\r\n      <defs>\r\n       <path d=\"M 4.15625 18.75 \r\nL 13.375 19.53125 \r\nQ 14.40625 12.796875 18.140625 9.390625 \r\nQ 21.875 6 27.15625 6 \r\nQ 33.5 6 37.890625 10.78125 \r\nQ 42.28125 15.578125 42.28125 23.484375 \r\nQ 42.28125 31 38.0625 35.34375 \r\nQ 33.84375 39.703125 27 39.703125 \r\nQ 22.75 39.703125 19.328125 37.765625 \r\nQ 15.921875 35.84375 13.96875 32.765625 \r\nL 5.71875 33.84375 \r\nL 12.640625 70.609375 \r\nL 48.25 70.609375 \r\nL 48.25 62.203125 \r\nL 19.671875 62.203125 \r\nL 15.828125 42.96875 \r\nQ 22.265625 47.46875 29.34375 47.46875 \r\nQ 38.71875 47.46875 45.15625 40.96875 \r\nQ 51.609375 34.46875 51.609375 24.265625 \r\nQ 51.609375 14.546875 45.953125 7.46875 \r\nQ 39.0625 -1.21875 27.15625 -1.21875 \r\nQ 17.390625 -1.21875 11.203125 4.25 \r\nQ 5.03125 9.71875 4.15625 18.75 \r\nz\r\n\" id=\"ArialMT-53\"/>\r\n      </defs>\r\n      <g style=\"fill:#262626;\" transform=\"translate(7.2 67.576558)scale(0.11 -0.11)\">\r\n       <use xlink:href=\"#ArialMT-53\"/>\r\n       <use x=\"55.615234\" xlink:href=\"#ArialMT-48\"/>\r\n       <use x=\"111.230469\" xlink:href=\"#ArialMT-48\"/>\r\n      </g>\r\n     </g>\r\n    </g>\r\n    <g id=\"ytick_6\">\r\n     <g id=\"text_14\">\r\n      <!-- 600 -->\r\n      <g style=\"fill:#262626;\" transform=\"translate(7.2 29.4158)scale(0.11 -0.11)\">\r\n       <use xlink:href=\"#ArialMT-54\"/>\r\n       <use x=\"55.615234\" xlink:href=\"#ArialMT-48\"/>\r\n       <use x=\"111.230469\" xlink:href=\"#ArialMT-48\"/>\r\n      </g>\r\n     </g>\r\n    </g>\r\n   </g>\r\n   <g id=\"line2d_1\">\r\n    <path clip-path=\"url(#p56f5df71b9)\" d=\"M 50.269276 211.703503 \r\nL 52.397693 209.413857 \r\nL 54.52611 204.071351 \r\nL 56.654527 205.216174 \r\nL 58.782944 208.269035 \r\nL 60.911361 202.926529 \r\nL 63.039778 197.96563 \r\nL 65.168195 197.96563 \r\nL 67.296612 202.544921 \r\nL 69.425029 209.03225 \r\nL 71.553446 214.756364 \r\nL 73.681863 209.413857 \r\nL 75.81028 210.55868 \r\nL 77.938697 206.360997 \r\nL 80.067114 200.636883 \r\nL 82.195531 202.926529 \r\nL 84.323948 206.742604 \r\nL 86.452365 197.584022 \r\nL 88.580782 189.570263 \r\nL 90.709199 189.570263 \r\nL 92.837616 194.149554 \r\nL 94.966033 203.689744 \r\nL 97.09445 210.940288 \r\nL 99.222867 201.018491 \r\nL 103.479702 197.202415 \r\nL 105.608119 186.517403 \r\nL 107.736536 192.241516 \r\nL 109.864953 188.807048 \r\nL 111.99337 186.517403 \r\nL 114.121787 178.503643 \r\nL 116.250204 178.503643 \r\nL 118.378621 184.227757 \r\nL 120.507038 192.623124 \r\nL 122.635455 198.728845 \r\nL 124.763872 191.096694 \r\nL 126.892289 189.188656 \r\nL 129.020706 185.754187 \r\nL 131.149123 180.793289 \r\nL 133.27754 185.37258 \r\nL 135.405957 184.609365 \r\nL 137.534374 171.253099 \r\nL 141.791208 162.094517 \r\nL 143.919625 174.687568 \r\nL 146.048042 181.556504 \r\nL 148.176459 188.807048 \r\nL 150.304876 180.411681 \r\nL 152.433293 179.648466 \r\nL 154.56171 179.648466 \r\nL 156.690127 164.384163 \r\nL 158.818544 164.76577 \r\nL 160.946962 167.055416 \r\nL 163.075379 161.71291 \r\nL 165.203796 153.699151 \r\nL 167.332213 150.64629 \r\nL 169.46063 164.002555 \r\nL 171.589047 173.924352 \r\nL 173.717464 185.754187 \r\nL 175.845881 177.740428 \r\nL 177.974298 176.595605 \r\nL 180.102715 182.701327 \r\nL 182.231132 164.76577 \r\nL 184.359549 167.818631 \r\nL 186.487966 165.147378 \r\nL 188.616383 153.699151 \r\nL 190.7448 139.198062 \r\nL 192.873217 142.632531 \r\nL 195.001634 155.607188 \r\nL 197.130051 167.055416 \r\nL 199.258468 176.977213 \r\nL 201.386885 167.055416 \r\nL 203.515302 162.094517 \r\nL 205.643719 165.528986 \r\nL 207.772136 152.554328 \r\nL 209.900553 151.791113 \r\nL 212.02897 151.409505 \r\nL 214.157387 134.237164 \r\nL 216.285804 115.538392 \r\nL 218.414222 122.025721 \r\nL 220.542639 135.381987 \r\nL 224.799473 164.002555 \r\nL 226.92789 148.356644 \r\nL 229.056307 146.066999 \r\nL 231.184724 148.738252 \r\nL 233.313141 133.473949 \r\nL 235.441558 135.000379 \r\nL 237.569975 133.092341 \r\nL 239.698392 111.722317 \r\nL 241.826809 96.839621 \r\nL 243.955226 99.892482 \r\nL 248.21206 137.671632 \r\nL 250.340477 151.027898 \r\nL 252.468894 137.671632 \r\nL 254.597311 134.237164 \r\nL 256.725728 139.57967 \r\nL 258.854145 118.591253 \r\nL 260.982562 121.644114 \r\nL 263.110979 118.972861 \r\nL 265.239396 93.405153 \r\nL 267.367813 76.996027 \r\nL 269.49623 76.232812 \r\nL 271.624647 100.274089 \r\nL 273.753065 122.025721 \r\nL 275.881482 138.05324 \r\nL 278.009899 126.223405 \r\nL 280.138316 124.696974 \r\nL 282.266733 133.092341 \r\nL 284.39515 116.301608 \r\nL 286.523567 121.644114 \r\nL 288.651984 115.92 \r\nL 290.780401 88.444254 \r\nL 292.908818 67.07423 \r\nL 295.037235 61.731723 \r\nL 297.165652 100.274089 \r\nL 299.294069 117.44643 \r\nL 301.422486 136.145202 \r\nL 303.550903 125.841797 \r\nL 305.67932 117.064823 \r\nL 307.807737 123.933759 \r\nL 309.936154 99.510874 \r\nL 312.064571 103.32695 \r\nL 314.192988 94.168368 \r\nL 316.321405 74.324774 \r\nL 318.449822 45.322597 \r\nL 320.578239 41.124914 \r\nL 322.706656 77.759242 \r\nL 324.835073 99.129266 \r\nL 326.96349 116.301608 \r\nL 329.091907 99.892482 \r\nL 331.220325 95.313191 \r\nL 333.348742 105.234988 \r\nL 335.477159 94.549975 \r\nL 337.605576 78.522457 \r\nL 339.733993 74.324774 \r\nL 341.86241 50.283496 \r\nL 343.990827 17.083636 \r\nL 346.119244 23.189358 \r\nL 348.247661 60.586901 \r\nL 350.376078 78.522457 \r\nL 352.504495 105.616595 \r\nL 354.632912 89.589077 \r\nL 354.632912 89.589077 \r\n\" style=\"fill:none;stroke:#4c72b0;stroke-linecap:round;stroke-width:1.5;\"/>\r\n   </g>\r\n   <g id=\"patch_3\">\r\n    <path d=\"M 35.051094 224.64 \r\nL 35.051094 7.2 \r\n\" style=\"fill:none;stroke:#262626;stroke-linecap:square;stroke-linejoin:miter;stroke-width:1.25;\"/>\r\n   </g>\r\n   <g id=\"patch_4\">\r\n    <path d=\"M 369.851094 224.64 \r\nL 369.851094 7.2 \r\n\" style=\"fill:none;stroke:#262626;stroke-linecap:square;stroke-linejoin:miter;stroke-width:1.25;\"/>\r\n   </g>\r\n   <g id=\"patch_5\">\r\n    <path d=\"M 35.051094 224.64 \r\nL 369.851094 224.64 \r\n\" style=\"fill:none;stroke:#262626;stroke-linecap:square;stroke-linejoin:miter;stroke-width:1.25;\"/>\r\n   </g>\r\n   <g id=\"patch_6\">\r\n    <path d=\"M 35.051094 7.2 \r\nL 369.851094 7.2 \r\n\" style=\"fill:none;stroke:#262626;stroke-linecap:square;stroke-linejoin:miter;stroke-width:1.25;\"/>\r\n   </g>\r\n  </g>\r\n </g>\r\n <defs>\r\n  <clipPath id=\"p56f5df71b9\">\r\n   <rect height=\"217.44\" width=\"334.8\" x=\"35.051094\" y=\"7.2\"/>\r\n  </clipPath>\r\n </defs>\r\n</svg>\r\n",
      "image/png": "[encoded data removed]"
     },
     "metadata": {}
    }
   ],
   "source": [
    "dataset['Passengers'].plot()"
   ]
  },
  {
   "cell_type": "markdown",
   "metadata": {},
   "source": [
    "# Train Model"
   ]
  },
  {
   "cell_type": "code",
   "execution_count": 5,
   "metadata": {},
   "outputs": [],
   "source": [
    "ts_column = 'Month'\n",
    "target = 'Passengers'\n",
    "sep = ','"
   ]
  },
  {
   "cell_type": "code",
   "execution_count": 6,
   "metadata": {},
   "outputs": [],
   "source": [
    "FORECAST_PERIOD = 12"
   ]
  },
  {
   "cell_type": "code",
   "execution_count": 7,
   "metadata": {},
   "outputs": [],
   "source": [
    "automl_model = ATS(\n",
    "    score_type='rmse',\n",
    "    forecast_period=FORECAST_PERIOD, time_interval='Month',\n",
    "    model_type='best', verbose=0\n",
    ")\n",
    "        "
   ]
  },
  {
   "cell_type": "code",
   "execution_count": 8,
   "metadata": {
    "tags": []
   },
   "outputs": [
    {
     "output_type": "stream",
     "name": "stdout",
     "text": [
      "Start of Fit.....\n",
      "    Target variable = Passengers\n",
      "Start of loading of data.....\n",
      "Input is data frame. Performing Time Series Analysis\n",
      "ts_column: Month sep: , target: Passengers\n",
      "    Dataframe loaded successfully. Shape of data set = (144, 1)\n",
      "Time Interval is given as Month\n",
      "\u001b[1mWARNING: Running best models will take time... Be Patient...\u001b[0m\n",
      "\n",
      "\n",
      "==================================================\n",
      "Building Prophet Model\n",
      "==================================================\n",
      "\n",
      "\n",
      "\u001b[1m\n",
      "Running Facebook Prophet Model...\u001b[0m\n",
      "INFO:numexpr.utils:NumExpr defaulting to 8 threads.\n",
      "  Starting Prophet Fit\n",
      "  End of Prophet Fit\n",
      "  Starting Prophet Cross Validation\n",
      "  End of Prophet Cross Validation\n",
      "WARNING: All folds did not have the same number of observations in the validation sets.\n",
      "Num Test Obs Per fold\n",
      "cutoff\n",
      "1955-10-04    47\n",
      "1956-12-12    48\n",
      "Name: ds, dtype: int64\n",
      "    RMSE = 37.17\n",
      "    Std Deviation of Originals = 119.97\n",
      "    Normalized RMSE = 31%\n",
      "    RMSE = 43.50\n",
      "    Std Deviation of Originals = 119.97\n",
      "    Normalized RMSE = 36%\n",
      "\n",
      "\n",
      "==================================================\n",
      "Building Auto SARIMAX Model\n",
      "==================================================\n",
      "\n",
      "\n",
      "\u001b[1m\n",
      "Running Auto SARIMAX Model...\u001b[0m\n",
      "Performing stepwise search to minimize aic\n",
      "Fit ARIMA(0,1,0)x(0,0,0,0) [intercept=True]; AIC=1415.278, BIC=1421.203, Time=0.022 seconds\n",
      "Fit ARIMA(1,1,0)x(0,0,0,0) [intercept=True]; AIC=1403.473, BIC=1412.361, Time=0.070 seconds\n",
      "Fit ARIMA(0,1,1)x(0,0,0,0) [intercept=True]; AIC=1398.827, BIC=1407.716, Time=0.104 seconds\n",
      "Fit ARIMA(0,1,0)x(0,0,0,0) [intercept=False]; AIC=1413.909, BIC=1416.872, Time=0.015 seconds\n",
      "Fit ARIMA(1,1,1)x(0,0,0,0) [intercept=True]; AIC=1396.121, BIC=1407.972, Time=0.212 seconds\n",
      "Fit ARIMA(2,1,1)x(0,0,0,0) [intercept=True]; AIC=1361.693, BIC=1376.507, Time=0.282 seconds\n",
      "Near non-invertible roots for order (2, 1, 1)(0, 0, 0, 0); setting score to inf (at least one inverse root too close to the border of the unit circle: 1.000)\n",
      "Fit ARIMA(1,1,2)x(0,0,0,0) [intercept=True]; AIC=1371.827, BIC=1386.641, Time=0.194 seconds\n",
      "Near non-invertible roots for order (1, 1, 2)(0, 0, 0, 0); setting score to inf (at least one inverse root too close to the border of the unit circle: 0.998)\n",
      "Fit ARIMA(0,1,2)x(0,0,0,0) [intercept=True]; AIC=1398.386, BIC=1410.237, Time=0.145 seconds\n",
      "Fit ARIMA(2,1,0)x(0,0,0,0) [intercept=True]; AIC=1397.975, BIC=1409.827, Time=0.086 seconds\n",
      "Fit ARIMA(2,1,2)x(0,0,0,0) [intercept=True]; AIC=1344.044, BIC=1361.821, Time=0.505 seconds\n",
      "Near non-invertible roots for order (2, 1, 2)(0, 0, 0, 0); setting score to inf (at least one inverse root too close to the border of the unit circle: 0.999)\n",
      "Total fit time: 1.651 seconds\n",
      "\u001b[1mRefitting data with previously found best parameters\u001b[0m\n",
      "    Best aic metric = 1340.0\n",
      "\n",
      "\n",
      "==================================================\n",
      "Building VAR Model\n",
      "==================================================\n",
      "\n",
      "\n",
      "\u001b[1m\n",
      "No VAR model created since no explanatory variables given in data set\u001b[0m\n",
      "\n",
      "\n",
      "==================================================\n",
      "Building ML Model\n",
      "==================================================\n",
      "\n",
      "\n",
      "\u001b[1m\n",
      "No predictors available. Skipping Machine Learning model...\u001b[0m\n",
      "\u001b[1m\n",
      "Best Model is: \u001b[0mProphet\n",
      "    Best Model (Mean CV) Score: 40.33\n",
      "\n",
      "\n",
      "--------------------------------------------------\n",
      "Total time taken: 17.586853742599487 seconds.\n",
      "--------------------------------------------------\n",
      "\n",
      "\n"
     ]
    },
    {
     "output_type": "execute_result",
     "data": {
      "text/plain": [
       "<auto_ts.auto_timeseries at 0x1b37213e7b8>"
      ]
     },
     "metadata": {},
     "execution_count": 8
    }
   ],
   "source": [
    "automl_model.fit(\n",
    "    traindata=dataset,\n",
    "    # traindata=file_path,  # Alternately, you can specify the file directly\n",
    "    ts_column=ts_column,\n",
    "    target=target,\n",
    "    cv=3,\n",
    "    sep=sep)        "
   ]
  },
  {
   "cell_type": "markdown",
   "metadata": {},
   "source": [
    "# Evaluate Results"
   ]
  },
  {
   "cell_type": "code",
   "execution_count": 9,
   "metadata": {},
   "outputs": [
    {
     "output_type": "execute_result",
     "data": {
      "text/plain": [
       "           name       rmse\n",
       "0       Prophet  40.332305\n",
       "1  auto_SARIMAX  63.260274\n",
       "2           VAR        inf\n",
       "3            ML        inf"
      ],
      "text/html": "<div>\n<style scoped>\n    .dataframe tbody tr th:only-of-type {\n        vertical-align: middle;\n    }\n\n    .dataframe tbody tr th {\n        vertical-align: top;\n    }\n\n    .dataframe thead th {\n        text-align: right;\n    }\n</style>\n<table border=\"1\" class=\"dataframe\">\n  <thead>\n    <tr style=\"text-align: right;\">\n      <th></th>\n      <th>name</th>\n      <th>rmse</th>\n    </tr>\n  </thead>\n  <tbody>\n    <tr>\n      <th>0</th>\n      <td>Prophet</td>\n      <td>40.332305</td>\n    </tr>\n    <tr>\n      <th>1</th>\n      <td>auto_SARIMAX</td>\n      <td>63.260274</td>\n    </tr>\n    <tr>\n      <th>2</th>\n      <td>VAR</td>\n      <td>inf</td>\n    </tr>\n    <tr>\n      <th>3</th>\n      <td>ML</td>\n      <td>inf</td>\n    </tr>\n  </tbody>\n</table>\n</div>"
     },
     "metadata": {},
     "execution_count": 9
    }
   ],
   "source": [
    "automl_model.get_leaderboard()"
   ]
  },
  {
   "cell_type": "code",
   "execution_count": 10,
   "metadata": {},
   "outputs": [
    {
     "output_type": "execute_result",
     "data": {
      "text/plain": [
       "<matplotlib.axes._subplots.AxesSubplot at 0x1b3739765f8>"
      ]
     },
     "metadata": {},
     "execution_count": 10
    },
    {
     "output_type": "display_data",
     "data": {
      "text/plain": "<Figure size 432x288 with 1 Axes>",
      "image/svg+xml": "<?xml version=\"1.0\" encoding=\"utf-8\" standalone=\"no\"?>\r\n<!DOCTYPE svg PUBLIC \"-//W3C//DTD SVG 1.1//EN\"\r\n  \"http://www.w3.org/Graphics/SVG/1.1/DTD/svg11.dtd\">\r\n<!-- Created with matplotlib (https://matplotlib.org/) -->\r\n<svg height=\"266.508281pt\" version=\"1.1\" viewBox=\"0 0 385.908437 266.508281\" width=\"385.908437pt\" xmlns=\"http://www.w3.org/2000/svg\" xmlns:xlink=\"http://www.w3.org/1999/xlink\">\r\n <defs>\r\n  <style type=\"text/css\">\r\n*{stroke-linecap:butt;stroke-linejoin:round;}\r\n  </style>\r\n </defs>\r\n <g id=\"figure_1\">\r\n  <g id=\"patch_1\">\r\n   <path d=\"M 0 266.508281 \r\nL 385.908437 266.508281 \r\nL 385.908437 0 \r\nL 0 0 \r\nz\r\n\" style=\"fill:#ffffff;\"/>\r\n  </g>\r\n  <g id=\"axes_1\">\r\n   <g id=\"patch_2\">\r\n    <path d=\"M 43.908438 224.64 \r\nL 378.708438 224.64 \r\nL 378.708438 7.2 \r\nL 43.908438 7.2 \r\nz\r\n\" style=\"fill:#ffffff;\"/>\r\n   </g>\r\n   <g id=\"matplotlib.axis_1\">\r\n    <g id=\"xtick_1\">\r\n     <g id=\"text_1\">\r\n      <!-- Prophet -->\r\n      <defs>\r\n       <path d=\"M 7.71875 0 \r\nL 7.71875 71.578125 \r\nL 34.71875 71.578125 \r\nQ 41.84375 71.578125 45.609375 70.90625 \r\nQ 50.875 70.015625 54.4375 67.546875 \r\nQ 58.015625 65.09375 60.1875 60.640625 \r\nQ 62.359375 56.203125 62.359375 50.875 \r\nQ 62.359375 41.75 56.546875 35.421875 \r\nQ 50.734375 29.109375 35.546875 29.109375 \r\nL 17.1875 29.109375 \r\nL 17.1875 0 \r\nz\r\nM 17.1875 37.546875 \r\nL 35.6875 37.546875 \r\nQ 44.875 37.546875 48.734375 40.96875 \r\nQ 52.59375 44.390625 52.59375 50.59375 \r\nQ 52.59375 55.078125 50.3125 58.265625 \r\nQ 48.046875 61.46875 44.34375 62.5 \r\nQ 41.9375 63.140625 35.5 63.140625 \r\nL 17.1875 63.140625 \r\nz\r\n\" id=\"ArialMT-80\"/>\r\n       <path d=\"M 6.5 0 \r\nL 6.5 51.859375 \r\nL 14.40625 51.859375 \r\nL 14.40625 44 \r\nQ 17.4375 49.515625 20 51.265625 \r\nQ 22.5625 53.03125 25.640625 53.03125 \r\nQ 30.078125 53.03125 34.671875 50.203125 \r\nL 31.640625 42.046875 \r\nQ 28.421875 43.953125 25.203125 43.953125 \r\nQ 22.3125 43.953125 20.015625 42.21875 \r\nQ 17.71875 40.484375 16.75 37.40625 \r\nQ 15.28125 32.71875 15.28125 27.15625 \r\nL 15.28125 0 \r\nz\r\n\" id=\"ArialMT-114\"/>\r\n       <path d=\"M 3.328125 25.921875 \r\nQ 3.328125 40.328125 11.328125 47.265625 \r\nQ 18.015625 53.03125 27.640625 53.03125 \r\nQ 38.328125 53.03125 45.109375 46.015625 \r\nQ 51.90625 39.015625 51.90625 26.65625 \r\nQ 51.90625 16.65625 48.90625 10.90625 \r\nQ 45.90625 5.171875 40.15625 2 \r\nQ 34.421875 -1.171875 27.640625 -1.171875 \r\nQ 16.75 -1.171875 10.03125 5.8125 \r\nQ 3.328125 12.796875 3.328125 25.921875 \r\nz\r\nM 12.359375 25.921875 \r\nQ 12.359375 15.96875 16.703125 11.015625 \r\nQ 21.046875 6.0625 27.640625 6.0625 \r\nQ 34.1875 6.0625 38.53125 11.03125 \r\nQ 42.875 16.015625 42.875 26.21875 \r\nQ 42.875 35.84375 38.5 40.796875 \r\nQ 34.125 45.75 27.640625 45.75 \r\nQ 21.046875 45.75 16.703125 40.8125 \r\nQ 12.359375 35.890625 12.359375 25.921875 \r\nz\r\n\" id=\"ArialMT-111\"/>\r\n       <path d=\"M 6.59375 -19.875 \r\nL 6.59375 51.859375 \r\nL 14.59375 51.859375 \r\nL 14.59375 45.125 \r\nQ 17.4375 49.078125 21 51.046875 \r\nQ 24.5625 53.03125 29.640625 53.03125 \r\nQ 36.28125 53.03125 41.359375 49.609375 \r\nQ 46.4375 46.1875 49.015625 39.953125 \r\nQ 51.609375 33.734375 51.609375 26.3125 \r\nQ 51.609375 18.359375 48.75 11.984375 \r\nQ 45.90625 5.609375 40.453125 2.21875 \r\nQ 35.015625 -1.171875 29 -1.171875 \r\nQ 24.609375 -1.171875 21.109375 0.6875 \r\nQ 17.625 2.546875 15.375 5.375 \r\nL 15.375 -19.875 \r\nz\r\nM 14.546875 25.640625 \r\nQ 14.546875 15.625 18.59375 10.84375 \r\nQ 22.65625 6.0625 28.421875 6.0625 \r\nQ 34.28125 6.0625 38.453125 11.015625 \r\nQ 42.625 15.96875 42.625 26.375 \r\nQ 42.625 36.28125 38.546875 41.203125 \r\nQ 34.46875 46.140625 28.8125 46.140625 \r\nQ 23.1875 46.140625 18.859375 40.890625 \r\nQ 14.546875 35.640625 14.546875 25.640625 \r\nz\r\n\" id=\"ArialMT-112\"/>\r\n       <path d=\"M 6.59375 0 \r\nL 6.59375 71.578125 \r\nL 15.375 71.578125 \r\nL 15.375 45.90625 \r\nQ 21.53125 53.03125 30.90625 53.03125 \r\nQ 36.671875 53.03125 40.921875 50.75 \r\nQ 45.171875 48.484375 47 44.484375 \r\nQ 48.828125 40.484375 48.828125 32.859375 \r\nL 48.828125 0 \r\nL 40.046875 0 \r\nL 40.046875 32.859375 \r\nQ 40.046875 39.453125 37.1875 42.453125 \r\nQ 34.328125 45.453125 29.109375 45.453125 \r\nQ 25.203125 45.453125 21.75 43.421875 \r\nQ 18.3125 41.40625 16.84375 37.9375 \r\nQ 15.375 34.46875 15.375 28.375 \r\nL 15.375 0 \r\nz\r\n\" id=\"ArialMT-104\"/>\r\n       <path d=\"M 42.09375 16.703125 \r\nL 51.171875 15.578125 \r\nQ 49.03125 7.625 43.21875 3.21875 \r\nQ 37.40625 -1.171875 28.375 -1.171875 \r\nQ 17 -1.171875 10.328125 5.828125 \r\nQ 3.65625 12.84375 3.65625 25.484375 \r\nQ 3.65625 38.578125 10.390625 45.796875 \r\nQ 17.140625 53.03125 27.875 53.03125 \r\nQ 38.28125 53.03125 44.875 45.953125 \r\nQ 51.46875 38.875 51.46875 26.03125 \r\nQ 51.46875 25.25 51.421875 23.6875 \r\nL 12.75 23.6875 \r\nQ 13.234375 15.140625 17.578125 10.59375 \r\nQ 21.921875 6.0625 28.421875 6.0625 \r\nQ 33.25 6.0625 36.671875 8.59375 \r\nQ 40.09375 11.140625 42.09375 16.703125 \r\nz\r\nM 13.234375 30.90625 \r\nL 42.1875 30.90625 \r\nQ 41.609375 37.453125 38.875 40.71875 \r\nQ 34.671875 45.796875 27.984375 45.796875 \r\nQ 21.921875 45.796875 17.796875 41.75 \r\nQ 13.671875 37.703125 13.234375 30.90625 \r\nz\r\n\" id=\"ArialMT-101\"/>\r\n       <path d=\"M 25.78125 7.859375 \r\nL 27.046875 0.09375 \r\nQ 23.34375 -0.6875 20.40625 -0.6875 \r\nQ 15.625 -0.6875 12.984375 0.828125 \r\nQ 10.359375 2.34375 9.28125 4.8125 \r\nQ 8.203125 7.28125 8.203125 15.1875 \r\nL 8.203125 45.015625 \r\nL 1.765625 45.015625 \r\nL 1.765625 51.859375 \r\nL 8.203125 51.859375 \r\nL 8.203125 64.703125 \r\nL 16.9375 69.96875 \r\nL 16.9375 51.859375 \r\nL 25.78125 51.859375 \r\nL 25.78125 45.015625 \r\nL 16.9375 45.015625 \r\nL 16.9375 14.703125 \r\nQ 16.9375 10.9375 17.40625 9.859375 \r\nQ 17.875 8.796875 18.921875 8.15625 \r\nQ 19.96875 7.515625 21.921875 7.515625 \r\nQ 23.390625 7.515625 25.78125 7.859375 \r\nz\r\n\" id=\"ArialMT-116\"/>\r\n      </defs>\r\n      <g style=\"fill:#262626;\" transform=\"translate(66.496406 242.013594)scale(0.11 -0.11)\">\r\n       <use xlink:href=\"#ArialMT-80\"/>\r\n       <use x=\"66.699219\" xlink:href=\"#ArialMT-114\"/>\r\n       <use x=\"100\" xlink:href=\"#ArialMT-111\"/>\r\n       <use x=\"155.615234\" xlink:href=\"#ArialMT-112\"/>\r\n       <use x=\"211.230469\" xlink:href=\"#ArialMT-104\"/>\r\n       <use x=\"266.845703\" xlink:href=\"#ArialMT-101\"/>\r\n       <use x=\"322.460938\" xlink:href=\"#ArialMT-116\"/>\r\n      </g>\r\n     </g>\r\n    </g>\r\n    <g id=\"xtick_2\">\r\n     <g id=\"text_2\">\r\n      <!-- auto_SARIMAX -->\r\n      <defs>\r\n       <path d=\"M 40.4375 6.390625 \r\nQ 35.546875 2.25 31.03125 0.53125 \r\nQ 26.515625 -1.171875 21.34375 -1.171875 \r\nQ 12.796875 -1.171875 8.203125 3 \r\nQ 3.609375 7.171875 3.609375 13.671875 \r\nQ 3.609375 17.484375 5.34375 20.625 \r\nQ 7.078125 23.78125 9.890625 25.6875 \r\nQ 12.703125 27.59375 16.21875 28.5625 \r\nQ 18.796875 29.25 24.03125 29.890625 \r\nQ 34.671875 31.15625 39.703125 32.90625 \r\nQ 39.75 34.71875 39.75 35.203125 \r\nQ 39.75 40.578125 37.25 42.78125 \r\nQ 33.890625 45.75 27.25 45.75 \r\nQ 21.046875 45.75 18.09375 43.578125 \r\nQ 15.140625 41.40625 13.71875 35.890625 \r\nL 5.125 37.0625 \r\nQ 6.296875 42.578125 8.984375 45.96875 \r\nQ 11.671875 49.359375 16.75 51.1875 \r\nQ 21.828125 53.03125 28.515625 53.03125 \r\nQ 35.15625 53.03125 39.296875 51.46875 \r\nQ 43.453125 49.90625 45.40625 47.53125 \r\nQ 47.359375 45.171875 48.140625 41.546875 \r\nQ 48.578125 39.3125 48.578125 33.453125 \r\nL 48.578125 21.734375 \r\nQ 48.578125 9.46875 49.140625 6.21875 \r\nQ 49.703125 2.984375 51.375 0 \r\nL 42.1875 0 \r\nQ 40.828125 2.734375 40.4375 6.390625 \r\nz\r\nM 39.703125 26.03125 \r\nQ 34.90625 24.078125 25.34375 22.703125 \r\nQ 19.921875 21.921875 17.671875 20.9375 \r\nQ 15.4375 19.96875 14.203125 18.09375 \r\nQ 12.984375 16.21875 12.984375 13.921875 \r\nQ 12.984375 10.40625 15.640625 8.0625 \r\nQ 18.3125 5.71875 23.4375 5.71875 \r\nQ 28.515625 5.71875 32.46875 7.9375 \r\nQ 36.421875 10.15625 38.28125 14.015625 \r\nQ 39.703125 17 39.703125 22.796875 \r\nz\r\n\" id=\"ArialMT-97\"/>\r\n       <path d=\"M 40.578125 0 \r\nL 40.578125 7.625 \r\nQ 34.515625 -1.171875 24.125 -1.171875 \r\nQ 19.53125 -1.171875 15.546875 0.578125 \r\nQ 11.578125 2.34375 9.640625 5 \r\nQ 7.71875 7.671875 6.9375 11.53125 \r\nQ 6.390625 14.109375 6.390625 19.734375 \r\nL 6.390625 51.859375 \r\nL 15.1875 51.859375 \r\nL 15.1875 23.09375 \r\nQ 15.1875 16.21875 15.71875 13.8125 \r\nQ 16.546875 10.359375 19.234375 8.375 \r\nQ 21.921875 6.390625 25.875 6.390625 \r\nQ 29.828125 6.390625 33.296875 8.421875 \r\nQ 36.765625 10.453125 38.203125 13.9375 \r\nQ 39.65625 17.4375 39.65625 24.078125 \r\nL 39.65625 51.859375 \r\nL 48.4375 51.859375 \r\nL 48.4375 0 \r\nz\r\n\" id=\"ArialMT-117\"/>\r\n       <path d=\"M -1.515625 -19.875 \r\nL -1.515625 -13.53125 \r\nL 56.734375 -13.53125 \r\nL 56.734375 -19.875 \r\nz\r\n\" id=\"ArialMT-95\"/>\r\n       <path d=\"M 4.5 23 \r\nL 13.421875 23.78125 \r\nQ 14.0625 18.40625 16.375 14.96875 \r\nQ 18.703125 11.53125 23.578125 9.40625 \r\nQ 28.46875 7.28125 34.578125 7.28125 \r\nQ 39.984375 7.28125 44.140625 8.890625 \r\nQ 48.296875 10.5 50.3125 13.296875 \r\nQ 52.34375 16.109375 52.34375 19.4375 \r\nQ 52.34375 22.796875 50.390625 25.3125 \r\nQ 48.4375 27.828125 43.953125 29.546875 \r\nQ 41.0625 30.671875 31.203125 33.03125 \r\nQ 21.34375 35.40625 17.390625 37.5 \r\nQ 12.25 40.1875 9.734375 44.15625 \r\nQ 7.234375 48.140625 7.234375 53.078125 \r\nQ 7.234375 58.5 10.296875 63.203125 \r\nQ 13.375 67.921875 19.28125 70.359375 \r\nQ 25.203125 72.796875 32.421875 72.796875 \r\nQ 40.375 72.796875 46.453125 70.234375 \r\nQ 52.546875 67.671875 55.8125 62.6875 \r\nQ 59.078125 57.71875 59.328125 51.421875 \r\nL 50.25 50.734375 \r\nQ 49.515625 57.515625 45.28125 60.984375 \r\nQ 41.0625 64.453125 32.8125 64.453125 \r\nQ 24.21875 64.453125 20.28125 61.296875 \r\nQ 16.359375 58.15625 16.359375 53.71875 \r\nQ 16.359375 49.859375 19.140625 47.359375 \r\nQ 21.875 44.875 33.421875 42.265625 \r\nQ 44.96875 39.65625 49.265625 37.703125 \r\nQ 55.515625 34.8125 58.484375 30.390625 \r\nQ 61.46875 25.984375 61.46875 20.21875 \r\nQ 61.46875 14.5 58.203125 9.4375 \r\nQ 54.9375 4.390625 48.796875 1.578125 \r\nQ 42.671875 -1.21875 35.015625 -1.21875 \r\nQ 25.296875 -1.21875 18.71875 1.609375 \r\nQ 12.15625 4.4375 8.421875 10.125 \r\nQ 4.6875 15.828125 4.5 23 \r\nz\r\n\" id=\"ArialMT-83\"/>\r\n       <path d=\"M -0.140625 0 \r\nL 27.34375 71.578125 \r\nL 37.546875 71.578125 \r\nL 66.84375 0 \r\nL 56.0625 0 \r\nL 47.703125 21.6875 \r\nL 17.78125 21.6875 \r\nL 9.90625 0 \r\nz\r\nM 20.515625 29.390625 \r\nL 44.78125 29.390625 \r\nL 37.3125 49.21875 \r\nQ 33.890625 58.25 32.234375 64.0625 \r\nQ 30.859375 57.171875 28.375 50.390625 \r\nz\r\n\" id=\"ArialMT-65\"/>\r\n       <path d=\"M 7.859375 0 \r\nL 7.859375 71.578125 \r\nL 39.59375 71.578125 \r\nQ 49.171875 71.578125 54.140625 69.640625 \r\nQ 59.125 67.71875 62.109375 62.828125 \r\nQ 65.09375 57.953125 65.09375 52.046875 \r\nQ 65.09375 44.4375 60.15625 39.203125 \r\nQ 55.21875 33.984375 44.921875 32.5625 \r\nQ 48.6875 30.765625 50.640625 29 \r\nQ 54.78125 25.203125 58.5 19.484375 \r\nL 70.953125 0 \r\nL 59.03125 0 \r\nL 49.5625 14.890625 \r\nQ 45.40625 21.34375 42.71875 24.75 \r\nQ 40.046875 28.171875 37.921875 29.53125 \r\nQ 35.796875 30.90625 33.59375 31.453125 \r\nQ 31.984375 31.78125 28.328125 31.78125 \r\nL 17.328125 31.78125 \r\nL 17.328125 0 \r\nz\r\nM 17.328125 39.984375 \r\nL 37.703125 39.984375 \r\nQ 44.1875 39.984375 47.84375 41.328125 \r\nQ 51.515625 42.671875 53.421875 45.625 \r\nQ 55.328125 48.578125 55.328125 52.046875 \r\nQ 55.328125 57.125 51.640625 60.390625 \r\nQ 47.953125 63.671875 39.984375 63.671875 \r\nL 17.328125 63.671875 \r\nz\r\n\" id=\"ArialMT-82\"/>\r\n       <path d=\"M 9.328125 0 \r\nL 9.328125 71.578125 \r\nL 18.796875 71.578125 \r\nL 18.796875 0 \r\nz\r\n\" id=\"ArialMT-73\"/>\r\n       <path d=\"M 7.421875 0 \r\nL 7.421875 71.578125 \r\nL 21.6875 71.578125 \r\nL 38.625 20.90625 \r\nQ 40.96875 13.8125 42.046875 10.296875 \r\nQ 43.265625 14.203125 45.84375 21.78125 \r\nL 62.984375 71.578125 \r\nL 75.734375 71.578125 \r\nL 75.734375 0 \r\nL 66.609375 0 \r\nL 66.609375 59.90625 \r\nL 45.796875 0 \r\nL 37.25 0 \r\nL 16.546875 60.9375 \r\nL 16.546875 0 \r\nz\r\n\" id=\"ArialMT-77\"/>\r\n       <path d=\"M 0.4375 0 \r\nL 28.125 37.3125 \r\nL 3.71875 71.578125 \r\nL 14.984375 71.578125 \r\nL 27.984375 53.21875 \r\nQ 32.03125 47.515625 33.734375 44.4375 \r\nQ 36.140625 48.34375 39.40625 52.59375 \r\nL 53.8125 71.578125 \r\nL 64.109375 71.578125 \r\nL 38.96875 37.84375 \r\nL 66.0625 0 \r\nL 54.34375 0 \r\nL 36.328125 25.53125 \r\nQ 34.8125 27.734375 33.203125 30.328125 \r\nQ 30.8125 26.421875 29.78125 24.953125 \r\nL 11.8125 0 \r\nz\r\n\" id=\"ArialMT-88\"/>\r\n      </defs>\r\n      <g style=\"fill:#262626;\" transform=\"translate(130.940391 242.147656)scale(0.11 -0.11)\">\r\n       <use xlink:href=\"#ArialMT-97\"/>\r\n       <use x=\"55.615234\" xlink:href=\"#ArialMT-117\"/>\r\n       <use x=\"111.230469\" xlink:href=\"#ArialMT-116\"/>\r\n       <use x=\"139.013672\" xlink:href=\"#ArialMT-111\"/>\r\n       <use x=\"194.628906\" xlink:href=\"#ArialMT-95\"/>\r\n       <use x=\"250.244141\" xlink:href=\"#ArialMT-83\"/>\r\n       <use x=\"316.943359\" xlink:href=\"#ArialMT-65\"/>\r\n       <use x=\"383.642578\" xlink:href=\"#ArialMT-82\"/>\r\n       <use x=\"455.859375\" xlink:href=\"#ArialMT-73\"/>\r\n       <use x=\"483.642578\" xlink:href=\"#ArialMT-77\"/>\r\n       <use x=\"566.943359\" xlink:href=\"#ArialMT-65\"/>\r\n       <use x=\"633.642578\" xlink:href=\"#ArialMT-88\"/>\r\n      </g>\r\n     </g>\r\n    </g>\r\n    <g id=\"xtick_3\">\r\n     <g id=\"text_3\">\r\n      <!-- VAR -->\r\n      <defs>\r\n       <path d=\"M 28.171875 0 \r\nL 0.4375 71.578125 \r\nL 10.6875 71.578125 \r\nL 29.296875 19.578125 \r\nQ 31.546875 13.328125 33.0625 7.859375 \r\nQ 34.71875 13.71875 36.921875 19.578125 \r\nL 56.25 71.578125 \r\nL 65.921875 71.578125 \r\nL 37.890625 0 \r\nz\r\n\" id=\"ArialMT-86\"/>\r\n      </defs>\r\n      <g style=\"fill:#262626;\" transform=\"translate(241.855078 242.013594)scale(0.11 -0.11)\">\r\n       <use xlink:href=\"#ArialMT-86\"/>\r\n       <use x=\"66.589844\" xlink:href=\"#ArialMT-65\"/>\r\n       <use x=\"133.289062\" xlink:href=\"#ArialMT-82\"/>\r\n      </g>\r\n     </g>\r\n    </g>\r\n    <g id=\"xtick_4\">\r\n     <g id=\"text_4\">\r\n      <!-- ML -->\r\n      <defs>\r\n       <path d=\"M 7.328125 0 \r\nL 7.328125 71.578125 \r\nL 16.796875 71.578125 \r\nL 16.796875 8.453125 \r\nL 52.046875 8.453125 \r\nL 52.046875 0 \r\nz\r\n\" id=\"ArialMT-76\"/>\r\n      </defs>\r\n      <g style=\"fill:#262626;\" transform=\"translate(329.218594 242.013594)scale(0.11 -0.11)\">\r\n       <use xlink:href=\"#ArialMT-77\"/>\r\n       <use x=\"83.300781\" xlink:href=\"#ArialMT-76\"/>\r\n      </g>\r\n     </g>\r\n    </g>\r\n    <g id=\"text_5\">\r\n     <!-- Model -->\r\n     <defs>\r\n      <path d=\"M 40.234375 0 \r\nL 40.234375 6.546875 \r\nQ 35.296875 -1.171875 25.734375 -1.171875 \r\nQ 19.53125 -1.171875 14.328125 2.25 \r\nQ 9.125 5.671875 6.265625 11.796875 \r\nQ 3.421875 17.921875 3.421875 25.875 \r\nQ 3.421875 33.640625 6 39.96875 \r\nQ 8.59375 46.296875 13.765625 49.65625 \r\nQ 18.953125 53.03125 25.34375 53.03125 \r\nQ 30.03125 53.03125 33.6875 51.046875 \r\nQ 37.359375 49.078125 39.65625 45.90625 \r\nL 39.65625 71.578125 \r\nL 48.390625 71.578125 \r\nL 48.390625 0 \r\nz\r\nM 12.453125 25.875 \r\nQ 12.453125 15.921875 16.640625 10.984375 \r\nQ 20.84375 6.0625 26.5625 6.0625 \r\nQ 32.328125 6.0625 36.34375 10.765625 \r\nQ 40.375 15.484375 40.375 25.140625 \r\nQ 40.375 35.796875 36.265625 40.765625 \r\nQ 32.171875 45.75 26.171875 45.75 \r\nQ 20.3125 45.75 16.375 40.96875 \r\nQ 12.453125 36.1875 12.453125 25.875 \r\nz\r\n\" id=\"ArialMT-100\"/>\r\n      <path d=\"M 6.390625 0 \r\nL 6.390625 71.578125 \r\nL 15.1875 71.578125 \r\nL 15.1875 0 \r\nz\r\n\" id=\"ArialMT-108\"/>\r\n     </defs>\r\n     <g style=\"fill:#262626;\" transform=\"translate(194.967813 256.923281)scale(0.12 -0.12)\">\r\n      <use xlink:href=\"#ArialMT-77\"/>\r\n      <use x=\"83.300781\" xlink:href=\"#ArialMT-111\"/>\r\n      <use x=\"138.916016\" xlink:href=\"#ArialMT-100\"/>\r\n      <use x=\"194.53125\" xlink:href=\"#ArialMT-101\"/>\r\n      <use x=\"250.146484\" xlink:href=\"#ArialMT-108\"/>\r\n     </g>\r\n    </g>\r\n   </g>\r\n   <g id=\"matplotlib.axis_2\">\r\n    <g id=\"ytick_1\">\r\n     <g id=\"text_6\">\r\n      <!-- 40 -->\r\n      <defs>\r\n       <path d=\"M 32.328125 0 \r\nL 32.328125 17.140625 \r\nL 1.265625 17.140625 \r\nL 1.265625 25.203125 \r\nL 33.9375 71.578125 \r\nL 41.109375 71.578125 \r\nL 41.109375 25.203125 \r\nL 50.78125 25.203125 \r\nL 50.78125 17.140625 \r\nL 41.109375 17.140625 \r\nL 41.109375 0 \r\nz\r\nM 32.328125 25.203125 \r\nL 32.328125 57.46875 \r\nL 9.90625 25.203125 \r\nz\r\n\" id=\"ArialMT-52\"/>\r\n       <path d=\"M 4.15625 35.296875 \r\nQ 4.15625 48 6.765625 55.734375 \r\nQ 9.375 63.484375 14.515625 67.671875 \r\nQ 19.671875 71.875 27.484375 71.875 \r\nQ 33.25 71.875 37.59375 69.546875 \r\nQ 41.9375 67.234375 44.765625 62.859375 \r\nQ 47.609375 58.5 49.21875 52.21875 \r\nQ 50.828125 45.953125 50.828125 35.296875 \r\nQ 50.828125 22.703125 48.234375 14.96875 \r\nQ 45.65625 7.234375 40.5 3 \r\nQ 35.359375 -1.21875 27.484375 -1.21875 \r\nQ 17.140625 -1.21875 11.234375 6.203125 \r\nQ 4.15625 15.140625 4.15625 35.296875 \r\nz\r\nM 13.1875 35.296875 \r\nQ 13.1875 17.671875 17.3125 11.828125 \r\nQ 21.4375 6 27.484375 6 \r\nQ 33.546875 6 37.671875 11.859375 \r\nQ 41.796875 17.71875 41.796875 35.296875 \r\nQ 41.796875 52.984375 37.671875 58.78125 \r\nQ 33.546875 64.59375 27.390625 64.59375 \r\nQ 21.34375 64.59375 17.71875 59.46875 \r\nQ 13.1875 52.9375 13.1875 35.296875 \r\nz\r\n\" id=\"ArialMT-48\"/>\r\n      </defs>\r\n      <g style=\"fill:#262626;\" transform=\"translate(22.174375 200.719475)scale(0.11 -0.11)\">\r\n       <use xlink:href=\"#ArialMT-52\"/>\r\n       <use x=\"55.615234\" xlink:href=\"#ArialMT-48\"/>\r\n      </g>\r\n     </g>\r\n    </g>\r\n    <g id=\"ytick_2\">\r\n     <g id=\"text_7\">\r\n      <!-- 45 -->\r\n      <defs>\r\n       <path d=\"M 4.15625 18.75 \r\nL 13.375 19.53125 \r\nQ 14.40625 12.796875 18.140625 9.390625 \r\nQ 21.875 6 27.15625 6 \r\nQ 33.5 6 37.890625 10.78125 \r\nQ 42.28125 15.578125 42.28125 23.484375 \r\nQ 42.28125 31 38.0625 35.34375 \r\nQ 33.84375 39.703125 27 39.703125 \r\nQ 22.75 39.703125 19.328125 37.765625 \r\nQ 15.921875 35.84375 13.96875 32.765625 \r\nL 5.71875 33.84375 \r\nL 12.640625 70.609375 \r\nL 48.25 70.609375 \r\nL 48.25 62.203125 \r\nL 19.671875 62.203125 \r\nL 15.828125 42.96875 \r\nQ 22.265625 47.46875 29.34375 47.46875 \r\nQ 38.71875 47.46875 45.15625 40.96875 \r\nQ 51.609375 34.46875 51.609375 24.265625 \r\nQ 51.609375 14.546875 45.953125 7.46875 \r\nQ 39.0625 -1.21875 27.15625 -1.21875 \r\nQ 17.390625 -1.21875 11.203125 4.25 \r\nQ 5.03125 9.71875 4.15625 18.75 \r\nz\r\n\" id=\"ArialMT-53\"/>\r\n      </defs>\r\n      <g style=\"fill:#262626;\" transform=\"translate(22.174375 169.013831)scale(0.11 -0.11)\">\r\n       <use xlink:href=\"#ArialMT-52\"/>\r\n       <use x=\"55.615234\" xlink:href=\"#ArialMT-53\"/>\r\n      </g>\r\n     </g>\r\n    </g>\r\n    <g id=\"ytick_3\">\r\n     <g id=\"text_8\">\r\n      <!-- 50 -->\r\n      <g style=\"fill:#262626;\" transform=\"translate(22.174375 137.308187)scale(0.11 -0.11)\">\r\n       <use xlink:href=\"#ArialMT-53\"/>\r\n       <use x=\"55.615234\" xlink:href=\"#ArialMT-48\"/>\r\n      </g>\r\n     </g>\r\n    </g>\r\n    <g id=\"ytick_4\">\r\n     <g id=\"text_9\">\r\n      <!-- 55 -->\r\n      <g style=\"fill:#262626;\" transform=\"translate(22.174375 105.602543)scale(0.11 -0.11)\">\r\n       <use xlink:href=\"#ArialMT-53\"/>\r\n       <use x=\"55.615234\" xlink:href=\"#ArialMT-53\"/>\r\n      </g>\r\n     </g>\r\n    </g>\r\n    <g id=\"ytick_5\">\r\n     <g id=\"text_10\">\r\n      <!-- 60 -->\r\n      <defs>\r\n       <path d=\"M 49.75 54.046875 \r\nL 41.015625 53.375 \r\nQ 39.84375 58.546875 37.703125 60.890625 \r\nQ 34.125 64.65625 28.90625 64.65625 \r\nQ 24.703125 64.65625 21.53125 62.3125 \r\nQ 17.390625 59.28125 14.984375 53.46875 \r\nQ 12.59375 47.65625 12.5 36.921875 \r\nQ 15.671875 41.75 20.265625 44.09375 \r\nQ 24.859375 46.4375 29.890625 46.4375 \r\nQ 38.671875 46.4375 44.84375 39.96875 \r\nQ 51.03125 33.5 51.03125 23.25 \r\nQ 51.03125 16.5 48.125 10.71875 \r\nQ 45.21875 4.9375 40.140625 1.859375 \r\nQ 35.0625 -1.21875 28.609375 -1.21875 \r\nQ 17.625 -1.21875 10.6875 6.859375 \r\nQ 3.765625 14.9375 3.765625 33.5 \r\nQ 3.765625 54.25 11.421875 63.671875 \r\nQ 18.109375 71.875 29.4375 71.875 \r\nQ 37.890625 71.875 43.28125 67.140625 \r\nQ 48.6875 62.40625 49.75 54.046875 \r\nz\r\nM 13.875 23.1875 \r\nQ 13.875 18.65625 15.796875 14.5 \r\nQ 17.71875 10.359375 21.1875 8.171875 \r\nQ 24.65625 6 28.46875 6 \r\nQ 34.03125 6 38.03125 10.484375 \r\nQ 42.046875 14.984375 42.046875 22.703125 \r\nQ 42.046875 30.125 38.078125 34.390625 \r\nQ 34.125 38.671875 28.125 38.671875 \r\nQ 22.171875 38.671875 18.015625 34.390625 \r\nQ 13.875 30.125 13.875 23.1875 \r\nz\r\n\" id=\"ArialMT-54\"/>\r\n      </defs>\r\n      <g style=\"fill:#262626;\" transform=\"translate(22.174375 73.8969)scale(0.11 -0.11)\">\r\n       <use xlink:href=\"#ArialMT-54\"/>\r\n       <use x=\"55.615234\" xlink:href=\"#ArialMT-48\"/>\r\n      </g>\r\n     </g>\r\n    </g>\r\n    <g id=\"ytick_6\">\r\n     <g id=\"text_11\">\r\n      <!-- 65 -->\r\n      <g style=\"fill:#262626;\" transform=\"translate(22.174375 42.191256)scale(0.11 -0.11)\">\r\n       <use xlink:href=\"#ArialMT-54\"/>\r\n       <use x=\"55.615234\" xlink:href=\"#ArialMT-53\"/>\r\n      </g>\r\n     </g>\r\n    </g>\r\n    <g id=\"text_12\">\r\n     <!-- CV Scores -->\r\n     <defs>\r\n      <path d=\"M 58.796875 25.09375 \r\nL 68.265625 22.703125 \r\nQ 65.28125 11.03125 57.546875 4.90625 \r\nQ 49.8125 -1.21875 38.625 -1.21875 \r\nQ 27.046875 -1.21875 19.796875 3.484375 \r\nQ 12.546875 8.203125 8.765625 17.140625 \r\nQ 4.984375 26.078125 4.984375 36.328125 \r\nQ 4.984375 47.515625 9.25 55.828125 \r\nQ 13.53125 64.15625 21.40625 68.46875 \r\nQ 29.296875 72.796875 38.765625 72.796875 \r\nQ 49.515625 72.796875 56.828125 67.328125 \r\nQ 64.15625 61.859375 67.046875 51.953125 \r\nL 57.71875 49.75 \r\nQ 55.21875 57.5625 50.484375 61.125 \r\nQ 45.75 64.703125 38.578125 64.703125 \r\nQ 30.328125 64.703125 24.78125 60.734375 \r\nQ 19.234375 56.78125 16.984375 50.109375 \r\nQ 14.75 43.453125 14.75 36.375 \r\nQ 14.75 27.25 17.40625 20.4375 \r\nQ 20.0625 13.625 25.671875 10.25 \r\nQ 31.296875 6.890625 37.84375 6.890625 \r\nQ 45.796875 6.890625 51.3125 11.46875 \r\nQ 56.84375 16.0625 58.796875 25.09375 \r\nz\r\n\" id=\"ArialMT-67\"/>\r\n      <path id=\"ArialMT-32\"/>\r\n      <path d=\"M 40.4375 19 \r\nL 49.078125 17.875 \r\nQ 47.65625 8.9375 41.8125 3.875 \r\nQ 35.984375 -1.171875 27.484375 -1.171875 \r\nQ 16.84375 -1.171875 10.375 5.78125 \r\nQ 3.90625 12.75 3.90625 25.734375 \r\nQ 3.90625 34.125 6.6875 40.421875 \r\nQ 9.46875 46.734375 15.15625 49.875 \r\nQ 20.84375 53.03125 27.546875 53.03125 \r\nQ 35.984375 53.03125 41.359375 48.75 \r\nQ 46.734375 44.484375 48.25 36.625 \r\nL 39.703125 35.296875 \r\nQ 38.484375 40.53125 35.375 43.15625 \r\nQ 32.28125 45.796875 27.875 45.796875 \r\nQ 21.234375 45.796875 17.078125 41.03125 \r\nQ 12.9375 36.28125 12.9375 25.984375 \r\nQ 12.9375 15.53125 16.9375 10.796875 \r\nQ 20.953125 6.0625 27.390625 6.0625 \r\nQ 32.5625 6.0625 36.03125 9.234375 \r\nQ 39.5 12.40625 40.4375 19 \r\nz\r\n\" id=\"ArialMT-99\"/>\r\n      <path d=\"M 3.078125 15.484375 \r\nL 11.765625 16.84375 \r\nQ 12.5 11.625 15.84375 8.84375 \r\nQ 19.1875 6.0625 25.203125 6.0625 \r\nQ 31.25 6.0625 34.171875 8.515625 \r\nQ 37.109375 10.984375 37.109375 14.3125 \r\nQ 37.109375 17.28125 34.515625 19 \r\nQ 32.71875 20.171875 25.53125 21.96875 \r\nQ 15.875 24.421875 12.140625 26.203125 \r\nQ 8.40625 27.984375 6.46875 31.125 \r\nQ 4.546875 34.28125 4.546875 38.09375 \r\nQ 4.546875 41.546875 6.125 44.5 \r\nQ 7.71875 47.46875 10.453125 49.421875 \r\nQ 12.5 50.921875 16.03125 51.96875 \r\nQ 19.578125 53.03125 23.640625 53.03125 \r\nQ 29.734375 53.03125 34.34375 51.265625 \r\nQ 38.96875 49.515625 41.15625 46.5 \r\nQ 43.359375 43.5 44.1875 38.484375 \r\nL 35.59375 37.3125 \r\nQ 35.015625 41.3125 32.203125 43.546875 \r\nQ 29.390625 45.796875 24.265625 45.796875 \r\nQ 18.21875 45.796875 15.625 43.796875 \r\nQ 13.03125 41.796875 13.03125 39.109375 \r\nQ 13.03125 37.40625 14.109375 36.03125 \r\nQ 15.1875 34.625 17.484375 33.6875 \r\nQ 18.796875 33.203125 25.25 31.453125 \r\nQ 34.578125 28.953125 38.25 27.359375 \r\nQ 41.9375 25.78125 44.03125 22.75 \r\nQ 46.140625 19.734375 46.140625 15.234375 \r\nQ 46.140625 10.84375 43.578125 6.953125 \r\nQ 41.015625 3.078125 36.171875 0.953125 \r\nQ 31.34375 -1.171875 25.25 -1.171875 \r\nQ 15.140625 -1.171875 9.84375 3.03125 \r\nQ 4.546875 7.234375 3.078125 15.484375 \r\nz\r\n\" id=\"ArialMT-115\"/>\r\n     </defs>\r\n     <g style=\"fill:#262626;\" transform=\"translate(15.789375 144.595312)rotate(-90)scale(0.12 -0.12)\">\r\n      <use xlink:href=\"#ArialMT-67\"/>\r\n      <use x=\"72.216797\" xlink:href=\"#ArialMT-86\"/>\r\n      <use x=\"138.916016\" xlink:href=\"#ArialMT-32\"/>\r\n      <use x=\"166.699219\" xlink:href=\"#ArialMT-83\"/>\r\n      <use x=\"233.398438\" xlink:href=\"#ArialMT-99\"/>\r\n      <use x=\"283.398438\" xlink:href=\"#ArialMT-111\"/>\r\n      <use x=\"339.013672\" xlink:href=\"#ArialMT-114\"/>\r\n      <use x=\"372.314453\" xlink:href=\"#ArialMT-101\"/>\r\n      <use x=\"427.929688\" xlink:href=\"#ArialMT-115\"/>\r\n     </g>\r\n    </g>\r\n   </g>\r\n   <g id=\"patch_3\">\r\n    <path clip-path=\"url(#p770c8e293e)\" d=\"M 52.278438 204.715927 \r\nL 119.238438 204.715927 \r\nL 119.238438 184.635053 \r\nL 52.278438 184.635053 \r\nL 52.278438 204.715927 \r\nz\r\n\" style=\"fill:#5875a4;stroke:#4c4c4c;stroke-linejoin:miter;stroke-width:1.5;\"/>\r\n   </g>\r\n   <g id=\"patch_4\">\r\n    <path clip-path=\"url(#p770c8e293e)\" d=\"M 135.978438 65.387614 \r\nL 202.938438 65.387614 \r\nL 202.938438 27.029296 \r\nL 135.978438 27.029296 \r\nL 135.978438 65.387614 \r\nz\r\n\" style=\"fill:#cc8963;stroke:#4c4c4c;stroke-linejoin:miter;stroke-width:1.5;\"/>\r\n   </g>\r\n   <g id=\"patch_5\">\r\n    <path clip-path=\"url(#p770c8e293e)\" d=\"z\r\n\" style=\"fill:#5f9e6e;stroke:#4c4c4c;stroke-linejoin:miter;stroke-width:1.5;\"/>\r\n   </g>\r\n   <g id=\"patch_6\">\r\n    <path clip-path=\"url(#p770c8e293e)\" d=\"z\r\n\" style=\"fill:#b55d60;stroke:#4c4c4c;stroke-linejoin:miter;stroke-width:1.5;\"/>\r\n   </g>\r\n   <g id=\"line2d_1\">\r\n    <path clip-path=\"url(#p770c8e293e)\" d=\"M 85.758438 204.715927 \r\nL 85.758438 214.756364 \r\n\" style=\"fill:none;stroke:#4c4c4c;stroke-linecap:round;stroke-width:1.5;\"/>\r\n   </g>\r\n   <g id=\"line2d_2\">\r\n    <path clip-path=\"url(#p770c8e293e)\" d=\"M 85.758438 184.635053 \r\nL 85.758438 174.594616 \r\n\" style=\"fill:none;stroke:#4c4c4c;stroke-linecap:round;stroke-width:1.5;\"/>\r\n   </g>\r\n   <g id=\"line2d_3\">\r\n    <path clip-path=\"url(#p770c8e293e)\" d=\"M 69.018438 214.756364 \r\nL 102.498438 214.756364 \r\n\" style=\"fill:none;stroke:#4c4c4c;stroke-linecap:round;stroke-width:1.5;\"/>\r\n   </g>\r\n   <g id=\"line2d_4\">\r\n    <path clip-path=\"url(#p770c8e293e)\" d=\"M 69.018438 174.594616 \r\nL 102.498438 174.594616 \r\n\" style=\"fill:none;stroke:#4c4c4c;stroke-linecap:round;stroke-width:1.5;\"/>\r\n   </g>\r\n   <g id=\"line2d_5\"/>\r\n   <g id=\"line2d_6\">\r\n    <path clip-path=\"url(#p770c8e293e)\" d=\"M 169.458438 65.387614 \r\nL 169.458438 93.800274 \r\n\" style=\"fill:none;stroke:#4c4c4c;stroke-linecap:round;stroke-width:1.5;\"/>\r\n   </g>\r\n   <g id=\"line2d_7\">\r\n    <path clip-path=\"url(#p770c8e293e)\" d=\"M 169.458438 27.029296 \r\nL 169.458438 17.083636 \r\n\" style=\"fill:none;stroke:#4c4c4c;stroke-linecap:round;stroke-width:1.5;\"/>\r\n   </g>\r\n   <g id=\"line2d_8\">\r\n    <path clip-path=\"url(#p770c8e293e)\" d=\"M 152.718438 93.800274 \r\nL 186.198438 93.800274 \r\n\" style=\"fill:none;stroke:#4c4c4c;stroke-linecap:round;stroke-width:1.5;\"/>\r\n   </g>\r\n   <g id=\"line2d_9\">\r\n    <path clip-path=\"url(#p770c8e293e)\" d=\"M 152.718438 17.083636 \r\nL 186.198438 17.083636 \r\n\" style=\"fill:none;stroke:#4c4c4c;stroke-linecap:round;stroke-width:1.5;\"/>\r\n   </g>\r\n   <g id=\"line2d_10\"/>\r\n   <g id=\"line2d_11\">\r\n    <path clip-path=\"url(#p770c8e293e)\" d=\"M 0 0 \r\n\" style=\"fill:none;stroke:#4c4c4c;stroke-linecap:round;stroke-width:1.5;\"/>\r\n   </g>\r\n   <g id=\"line2d_12\">\r\n    <path clip-path=\"url(#p770c8e293e)\" d=\"M 0 0 \r\n\" style=\"fill:none;stroke:#4c4c4c;stroke-linecap:round;stroke-width:1.5;\"/>\r\n   </g>\r\n   <g id=\"line2d_13\">\r\n    <path clip-path=\"url(#p770c8e293e)\" d=\"M 0 0 \r\n\" style=\"fill:none;stroke:#4c4c4c;stroke-linecap:round;stroke-width:1.5;\"/>\r\n   </g>\r\n   <g id=\"line2d_14\">\r\n    <path clip-path=\"url(#p770c8e293e)\" d=\"M 0 0 \r\n\" style=\"fill:none;stroke:#4c4c4c;stroke-linecap:round;stroke-width:1.5;\"/>\r\n   </g>\r\n   <g id=\"line2d_15\"/>\r\n   <g id=\"line2d_16\">\r\n    <path clip-path=\"url(#p770c8e293e)\" d=\"M 0 0 \r\n\" style=\"fill:none;stroke:#4c4c4c;stroke-linecap:round;stroke-width:1.5;\"/>\r\n   </g>\r\n   <g id=\"line2d_17\">\r\n    <path clip-path=\"url(#p770c8e293e)\" d=\"M 0 0 \r\n\" style=\"fill:none;stroke:#4c4c4c;stroke-linecap:round;stroke-width:1.5;\"/>\r\n   </g>\r\n   <g id=\"line2d_18\">\r\n    <path clip-path=\"url(#p770c8e293e)\" d=\"M 0 0 \r\n\" style=\"fill:none;stroke:#4c4c4c;stroke-linecap:round;stroke-width:1.5;\"/>\r\n   </g>\r\n   <g id=\"line2d_19\">\r\n    <path clip-path=\"url(#p770c8e293e)\" d=\"M 0 0 \r\n\" style=\"fill:none;stroke:#4c4c4c;stroke-linecap:round;stroke-width:1.5;\"/>\r\n   </g>\r\n   <g id=\"line2d_20\"/>\r\n   <g id=\"line2d_21\">\r\n    <path clip-path=\"url(#p770c8e293e)\" d=\"M 52.278438 194.67549 \r\nL 119.238438 194.67549 \r\n\" style=\"fill:none;stroke:#4c4c4c;stroke-linecap:round;stroke-width:1.5;\"/>\r\n   </g>\r\n   <g id=\"line2d_22\">\r\n    <path clip-path=\"url(#p770c8e293e)\" d=\"M 135.978438 36.974955 \r\nL 202.938438 36.974955 \r\n\" style=\"fill:none;stroke:#4c4c4c;stroke-linecap:round;stroke-width:1.5;\"/>\r\n   </g>\r\n   <g id=\"line2d_23\">\r\n    <path clip-path=\"url(#p770c8e293e)\" d=\"M 0 0 \r\n\" style=\"fill:none;stroke:#4c4c4c;stroke-linecap:round;stroke-width:1.5;\"/>\r\n   </g>\r\n   <g id=\"line2d_24\">\r\n    <path clip-path=\"url(#p770c8e293e)\" d=\"M 0 0 \r\n\" style=\"fill:none;stroke:#4c4c4c;stroke-linecap:round;stroke-width:1.5;\"/>\r\n   </g>\r\n   <g id=\"patch_7\">\r\n    <path d=\"M 43.908438 224.64 \r\nL 43.908438 7.2 \r\n\" style=\"fill:none;stroke:#262626;stroke-linecap:square;stroke-linejoin:miter;stroke-width:1.25;\"/>\r\n   </g>\r\n   <g id=\"patch_8\">\r\n    <path d=\"M 378.708438 224.64 \r\nL 378.708438 7.2 \r\n\" style=\"fill:none;stroke:#262626;stroke-linecap:square;stroke-linejoin:miter;stroke-width:1.25;\"/>\r\n   </g>\r\n   <g id=\"patch_9\">\r\n    <path d=\"M 43.908438 224.64 \r\nL 378.708438 224.64 \r\n\" style=\"fill:none;stroke:#262626;stroke-linecap:square;stroke-linejoin:miter;stroke-width:1.25;\"/>\r\n   </g>\r\n   <g id=\"patch_10\">\r\n    <path d=\"M 43.908438 7.2 \r\nL 378.708438 7.2 \r\n\" style=\"fill:none;stroke:#262626;stroke-linecap:square;stroke-linejoin:miter;stroke-width:1.25;\"/>\r\n   </g>\r\n  </g>\r\n </g>\r\n <defs>\r\n  <clipPath id=\"p770c8e293e\">\r\n   <rect height=\"217.44\" width=\"334.8\" x=\"43.908438\" y=\"7.2\"/>\r\n  </clipPath>\r\n </defs>\r\n</svg>\r\n",
      "image/png": "[encoded data removed]"
     },
     "metadata": {}
    }
   ],
   "source": [
    "automl_model.plot_cv_scores()"
   ]
  },
  {
   "cell_type": "code",
   "execution_count": 11,
   "metadata": {},
   "outputs": [
    {
     "output_type": "execute_result",
     "data": {
      "text/plain": [
       "          Model  CV Scores\n",
       "0       Prophet  37.165538\n",
       "1       Prophet  43.499071\n",
       "2  auto_SARIMAX  65.201779\n",
       "3  auto_SARIMAX  68.338652\n",
       "4  auto_SARIMAX  56.240390\n",
       "5           VAR        inf\n",
       "6            ML        inf"
      ],
      "text/html": "<div>\n<style scoped>\n    .dataframe tbody tr th:only-of-type {\n        vertical-align: middle;\n    }\n\n    .dataframe tbody tr th {\n        vertical-align: top;\n    }\n\n    .dataframe thead th {\n        text-align: right;\n    }\n</style>\n<table border=\"1\" class=\"dataframe\">\n  <thead>\n    <tr style=\"text-align: right;\">\n      <th></th>\n      <th>Model</th>\n      <th>CV Scores</th>\n    </tr>\n  </thead>\n  <tbody>\n    <tr>\n      <th>0</th>\n      <td>Prophet</td>\n      <td>37.165538</td>\n    </tr>\n    <tr>\n      <th>1</th>\n      <td>Prophet</td>\n      <td>43.499071</td>\n    </tr>\n    <tr>\n      <th>2</th>\n      <td>auto_SARIMAX</td>\n      <td>65.201779</td>\n    </tr>\n    <tr>\n      <th>3</th>\n      <td>auto_SARIMAX</td>\n      <td>68.338652</td>\n    </tr>\n    <tr>\n      <th>4</th>\n      <td>auto_SARIMAX</td>\n      <td>56.240390</td>\n    </tr>\n    <tr>\n      <th>5</th>\n      <td>VAR</td>\n      <td>inf</td>\n    </tr>\n    <tr>\n      <th>6</th>\n      <td>ML</td>\n      <td>inf</td>\n    </tr>\n  </tbody>\n</table>\n</div>"
     },
     "metadata": {},
     "execution_count": 11
    }
   ],
   "source": [
    "# There is a Bug with Prophet folds: https://github.com/AutoViML/Auto_TS/issues/25\n",
    "automl_model.get_cv_scores()"
   ]
  },
  {
   "cell_type": "code",
   "execution_count": 12,
   "metadata": {},
   "outputs": [],
   "source": [
    "results_dict = automl_model.get_ml_dict()"
   ]
  },
  {
   "cell_type": "code",
   "execution_count": 13,
   "metadata": {
    "tags": []
   },
   "outputs": [
    {
     "output_type": "execute_result",
     "data": {
      "text/plain": [
       "[           ds        yhat  yhat_lower  yhat_upper    y     cutoff\n",
       " 0  1955-11-01  253.831790  231.900960  274.567550  237 1955-10-04\n",
       " 1  1955-12-01  279.424803  257.790886  300.183974  278 1955-10-04\n",
       " 2  1956-01-01  285.454862  263.396323  306.540286  284 1955-10-04\n",
       " 3  1956-02-01  289.307225  266.332808  310.081953  277 1955-10-04\n",
       " 4  1956-03-01  315.258709  294.090917  335.064186  317 1955-10-04\n",
       " 5  1956-04-01  312.122960  289.700351  333.641675  313 1955-10-04\n",
       " 6  1956-05-01  310.369620  288.257945  331.709229  318 1955-10-04\n",
       " 7  1956-06-01  336.901897  317.144813  358.151785  374 1955-10-04\n",
       " 8  1956-07-01  349.303648  326.484327  370.182649  413 1955-10-04\n",
       " 9  1956-08-01  360.857189  339.736802  383.321090  405 1955-10-04\n",
       " 10 1956-09-01  332.906045  312.146277  354.833810  355 1955-10-04\n",
       " 11 1956-10-01  314.391164  293.713064  335.168369  306 1955-10-04\n",
       " 12 1956-11-01  291.166761  268.769062  312.790105  271 1955-10-04\n",
       " 13 1956-12-01  309.982443  287.994737  333.384375  306 1955-10-04\n",
       " 14 1957-01-01  318.796164  296.790907  341.275756  315 1955-10-04\n",
       " 15 1957-02-01  318.764872  297.012059  341.100175  301 1955-10-04\n",
       " 16 1957-03-01  349.291261  327.615394  371.046373  356 1955-10-04\n",
       " 17 1957-04-01  344.759002  322.131085  366.153072  348 1955-10-04\n",
       " 18 1957-05-01  343.936871  320.770493  365.178949  355 1955-10-04\n",
       " 19 1957-06-01  369.319573  348.085338  391.244492  422 1955-10-04\n",
       " 20 1957-07-01  389.491293  366.679229  411.915534  465 1955-10-04\n",
       " 21 1957-08-01  394.236072  370.901130  415.700092  467 1955-10-04\n",
       " 22 1957-09-01  368.271305  346.643741  391.834432  404 1955-10-04\n",
       " 23 1957-10-01  346.221651  324.878566  367.280723  347 1955-10-04\n",
       " 24 1957-11-01  324.678701  300.931516  345.168336  305 1955-10-04\n",
       " 25 1957-12-01  345.784627  322.481484  367.507855  336 1955-10-04\n",
       " 26 1958-01-01  353.697964  330.840755  375.191455  340 1955-10-04\n",
       " 27 1958-02-01  354.988266  332.767566  377.049445  318 1955-10-04\n",
       " 28 1958-03-01  383.256849  360.746359  405.440436  362 1955-10-04\n",
       " 29 1958-04-01  377.377189  353.205682  400.785271  348 1955-10-04\n",
       " 30 1958-05-01  377.539012  352.548889  401.814039  363 1955-10-04\n",
       " 31 1958-06-01  401.837195  378.086103  424.080073  435 1955-10-04\n",
       " 32 1958-07-01  429.684451  406.634457  452.778249  491 1955-10-04\n",
       " 33 1958-08-01  427.527905  405.401676  450.181777  505 1955-10-04\n",
       " 34 1958-09-01  403.582907  379.405867  425.691001  404 1955-10-04\n",
       " 35 1958-10-01  378.037168  353.360781  401.403461  359 1955-10-04\n",
       " 36 1958-11-01  358.261133  334.640071  381.919436  310 1955-10-04\n",
       " 37 1958-12-01  381.627301  356.197568  405.703756  337 1955-10-04\n",
       " 38 1959-01-01  388.612704  366.717171  412.416006  360 1955-10-04\n",
       " 39 1959-02-01  391.197868  368.225223  415.089040  342 1955-10-04\n",
       " 40 1959-03-01  417.156320  394.021726  441.186876  406 1955-10-04\n",
       " 41 1959-04-01  409.980398  386.042996  433.142487  396 1955-10-04\n",
       " 42 1959-05-01  411.178031  385.359452  436.099978  420 1955-10-04\n",
       " 43 1959-06-01  434.455568  410.232392  459.300555  472 1955-10-04\n",
       " 44 1959-07-01  469.876904  444.013625  495.101573  548 1955-10-04\n",
       " 45 1959-08-01  460.732398  437.448300  483.846369  559 1955-10-04\n",
       " 46 1959-09-01  438.841241  413.933382  464.295936  463 1955-10-04,\n",
       "            ds        yhat  yhat_lower  yhat_upper    y     cutoff\n",
       " 47 1957-01-01  335.047739  310.781575  360.235703  315 1956-12-12\n",
       " 48 1957-02-01  335.930976  311.487805  361.036953  301 1956-12-12\n",
       " 49 1957-03-01  362.064339  336.984056  386.101261  356 1956-12-12\n",
       " 50 1957-04-01  357.129225  330.256216  381.942661  348 1956-12-12\n",
       " 51 1957-05-01  357.527418  333.300382  383.733078  355 1956-12-12\n",
       " 52 1957-06-01  388.860364  364.672786  414.407887  422 1956-12-12\n",
       " 53 1957-07-01  414.649927  388.910483  439.409643  465 1956-12-12\n",
       " 54 1957-08-01  416.147833  391.876351  442.097023  467 1956-12-12\n",
       " 55 1957-09-01  386.610720  362.896390  412.460810  404 1956-12-12\n",
       " 56 1957-10-01  359.546647  335.259018  385.578562  347 1956-12-12\n",
       " 57 1957-11-01  335.860551  311.199609  362.400390  305 1956-12-12\n",
       " 58 1957-12-01  361.767153  337.083798  387.491200  336 1956-12-12\n",
       " 59 1958-01-01  374.106829  350.776888  398.952427  340 1956-12-12\n",
       " 60 1958-02-01  374.957002  349.947889  400.513874  318 1956-12-12\n",
       " 61 1958-03-01  404.060281  378.131210  428.789520  362 1956-12-12\n",
       " 62 1958-04-01  399.393806  374.875926  425.175618  348 1956-12-12\n",
       " 63 1958-05-01  400.977902  376.451231  426.191891  363 1956-12-12\n",
       " 64 1958-06-01  427.588908  400.965545  455.836153  435 1956-12-12\n",
       " 65 1958-07-01  457.200187  430.470459  481.052107  491 1956-12-12\n",
       " 66 1958-08-01  454.125991  428.369445  478.980403  505 1956-12-12\n",
       " 67 1958-09-01  429.060927  403.700414  454.359048  404 1956-12-12\n",
       " 68 1958-10-01  401.823199  377.346423  428.802635  359 1956-12-12\n",
       " 69 1958-11-01  377.785331  352.779740  403.498731  310 1956-12-12\n",
       " 70 1958-12-01  404.919688  379.524420  431.698413  337 1956-12-12\n",
       " 71 1959-01-01  413.099072  386.792142  440.311073  360 1956-12-12\n",
       " 72 1959-02-01  414.015806  388.469949  439.234940  342 1956-12-12\n",
       " 73 1959-03-01  446.106333  420.725155  472.759335  406 1956-12-12\n",
       " 74 1959-04-01  441.683810  417.983883  467.907230  396 1956-12-12\n",
       " 75 1959-05-01  444.380958  417.829856  467.987260  420 1956-12-12\n",
       " 76 1959-06-01  466.281095  440.417393  492.426052  472 1956-12-12\n",
       " 77 1959-07-01  499.724191  474.445046  524.891765  548 1956-12-12\n",
       " 78 1959-08-01  492.111470  466.915065  518.337950  559 1956-12-12\n",
       " 79 1959-09-01  471.575854  446.170478  498.151704  463 1956-12-12\n",
       " 80 1959-10-01  444.115409  415.970523  470.881380  407 1956-12-12\n",
       " 81 1959-11-01  419.721051  393.716909  447.743436  362 1956-12-12\n",
       " 82 1959-12-01  448.008148  419.607675  475.167570  405 1956-12-12\n",
       " 83 1960-01-01  452.027221  425.752752  480.096298  417 1956-12-12\n",
       " 84 1960-02-01  453.110507  425.160004  480.154120  391 1956-12-12\n",
       " 85 1960-03-01  485.223713  459.207881  511.999730  419 1956-12-12\n",
       " 86 1960-04-01  479.996344  453.431280  505.710514  461 1956-12-12\n",
       " 87 1960-05-01  479.136234  452.938616  505.341615  472 1956-12-12\n",
       " 88 1960-06-01  515.198053  488.828811  540.575898  535 1956-12-12\n",
       " 89 1960-07-01  537.177624  508.594321  565.944106  622 1956-12-12\n",
       " 90 1960-08-01  543.277741  514.688458  569.070529  606 1956-12-12\n",
       " 91 1960-09-01  509.329786  481.964862  536.440236  508 1956-12-12\n",
       " 92 1960-10-01  482.391483  454.577393  510.713727  461 1956-12-12\n",
       " 93 1960-11-01  459.052699  428.821202  489.783668  390 1956-12-12\n",
       " 94 1960-12-01  483.656728  454.546176  512.898884  432 1956-12-12]"
      ]
     },
     "metadata": {},
     "execution_count": 13
    }
   ],
   "source": [
    "results_dict['Prophet']['forecast']  "
   ]
  },
  {
   "cell_type": "code",
   "execution_count": 14,
   "metadata": {},
   "outputs": [
    {
     "output_type": "execute_result",
     "data": {
      "text/plain": [
       "[Passengers        mean    mean_se  mean_ci_lower  mean_ci_upper\n",
       " 1958-01-01  351.073484  21.897605     308.154968     393.992000\n",
       " 1958-02-01  379.190985  28.145697     324.026432     434.355537\n",
       " 1958-03-01  412.542040  30.104171     353.538949     471.545130\n",
       " 1958-04-01  442.522591  30.264167     383.205913     501.839270\n",
       " 1958-05-01  462.230926  30.398074     402.651796     521.810056\n",
       " 1958-06-01  468.268249  30.919019     407.668086     528.868412\n",
       " 1958-07-01  461.395801  31.286069     400.076233     522.715369\n",
       " 1958-08-01  445.961640  31.296103     384.622405     507.300875\n",
       " 1958-09-01  428.364819  31.679200     366.274728     490.454910\n",
       " 1958-10-01  415.073232  33.398697     349.612988     480.533477\n",
       " 1958-11-01  410.792825  36.454859     339.342615     482.243035\n",
       " 1958-12-01  417.291666  39.816746     339.252278     495.331053,\n",
       " Passengers        mean    mean_se  mean_ci_lower  mean_ci_upper\n",
       " 1959-01-01  375.530681  26.415898     323.756471     427.304891\n",
       " 1959-02-01  421.765277  34.769773     353.617774     489.912779\n",
       " 1959-03-01  461.243862  36.971446     388.781160     533.706564\n",
       " 1959-04-01  483.957254  36.972351     411.492779     556.421730\n",
       " 1959-05-01  486.713382  38.234146     411.775834     561.650930\n",
       " 1959-06-01  473.011512  41.110847     392.435733     553.587291\n",
       " 1959-07-01  450.869688  43.692567     365.233831     536.505546\n",
       " 1959-08-01  429.610475  44.784873     341.833737     517.387214\n",
       " 1959-09-01  416.767948  44.854834     328.854088     504.681808\n",
       " 1959-10-01  416.051761  45.083367     327.689985     504.413537\n",
       " 1959-11-01  426.824865  46.003742     336.659187     516.990543\n",
       " 1959-12-01  445.009334  47.148917     352.599154     537.419513,\n",
       " Passengers        mean    mean_se  mean_ci_lower  mean_ci_upper\n",
       " 1960-01-01  407.865042  28.758051     351.500298     464.229787\n",
       " 1960-02-01  422.922790  37.812940     348.810790     497.034790\n",
       " 1960-03-01  445.492180  40.869532     365.389369     525.594990\n",
       " 1960-04-01  469.434734  41.135766     388.810113     550.059355\n",
       " 1960-05-01  488.997390  41.414615     407.826236     570.168545\n",
       " 1960-06-01  500.324290  42.725980     416.582908     584.065673\n",
       " 1960-07-01  502.268523  44.211153     415.616254     588.920791\n",
       " 1960-08-01  496.369883  44.883088     408.400648     584.339119\n",
       " 1960-09-01  486.107228  44.898106     398.108557     574.105899\n",
       " 1960-10-01  475.717232  45.326946     386.878049     564.556414\n",
       " 1960-11-01  468.952997  46.968188     376.897040     561.008955\n",
       " 1960-12-01  468.126359  49.494347     371.119222     565.133496]"
      ]
     },
     "metadata": {},
     "execution_count": 14
    }
   ],
   "source": [
    "results_dict['auto_SARIMAX']['forecast'] "
   ]
  },
  {
   "cell_type": "markdown",
   "metadata": {},
   "source": [
    "# Forecast Results"
   ]
  },
  {
   "cell_type": "code",
   "execution_count": 15,
   "metadata": {
    "tags": []
   },
   "outputs": [
    {
     "output_type": "stream",
     "name": "stdout",
     "text": [
      "Building Forecast dataframe. Forecast Period = 12\n"
     ]
    },
    {
     "output_type": "execute_result",
     "data": {
      "text/plain": [
       "            ds       trend  yhat_lower  yhat_upper  trend_lower  trend_upper  \\\n",
       "144 1960-12-31  487.426617  416.745308  502.911859   487.412421   487.446491   \n",
       "145 1961-01-31  490.540856  409.040572  494.673627   490.466383   490.609907   \n",
       "146 1961-02-28  493.353718  457.783585  541.191090   493.216067   493.492682   \n",
       "147 1961-03-31  496.467958  445.458508  531.369277   496.263083   496.689112   \n",
       "148 1961-04-30  499.481739  454.533734  542.975024   499.194227   499.818141   \n",
       "149 1961-05-31  502.595979  492.054059  580.889872   502.225981   503.029173   \n",
       "150 1961-06-30  505.609760  529.885390  619.340905   505.134261   506.143466   \n",
       "151 1961-07-31  508.724000  533.568120  621.541005   508.114142   509.376294   \n",
       "152 1961-08-31  511.838239  485.036331  572.484168   511.092306   512.613166   \n",
       "153 1961-09-30  514.852020  447.531533  536.888027   513.968475   515.813495   \n",
       "154 1961-10-31  517.966260  415.147908  508.349229   516.963713   519.099172   \n",
       "155 1961-11-30  520.980041  444.948152  537.092533   519.851433   522.273607   \n",
       "\n",
       "     additive_terms  additive_terms_lower  additive_terms_upper     yearly  \\\n",
       "144      -25.356311            -25.356311            -25.356311 -25.356311   \n",
       "145      -35.768511            -35.768511            -35.768511 -35.768511   \n",
       "146        4.323732              4.323732              4.323732   4.323732   \n",
       "147       -8.713456             -8.713456             -8.713456  -8.713456   \n",
       "148       -1.122716             -1.122716             -1.122716  -1.122716   \n",
       "149       31.500437             31.500437             31.500437  31.500437   \n",
       "150       71.465747             71.465747             71.465747  71.465747   \n",
       "151       66.764641             66.764641             66.764641  66.764641   \n",
       "152       17.165841             17.165841             17.165841  17.165841   \n",
       "153      -22.566787            -22.566787            -22.566787 -22.566787   \n",
       "154      -55.760068            -55.760068            -55.760068 -55.760068   \n",
       "155      -29.182323            -29.182323            -29.182323 -29.182323   \n",
       "\n",
       "     yearly_lower  yearly_upper  multiplicative_terms  \\\n",
       "144    -25.356311    -25.356311                   0.0   \n",
       "145    -35.768511    -35.768511                   0.0   \n",
       "146      4.323732      4.323732                   0.0   \n",
       "147     -8.713456     -8.713456                   0.0   \n",
       "148     -1.122716     -1.122716                   0.0   \n",
       "149     31.500437     31.500437                   0.0   \n",
       "150     71.465747     71.465747                   0.0   \n",
       "151     66.764641     66.764641                   0.0   \n",
       "152     17.165841     17.165841                   0.0   \n",
       "153    -22.566787    -22.566787                   0.0   \n",
       "154    -55.760068    -55.760068                   0.0   \n",
       "155    -29.182323    -29.182323                   0.0   \n",
       "\n",
       "     multiplicative_terms_lower  multiplicative_terms_upper        yhat  \n",
       "144                         0.0                         0.0  462.070306  \n",
       "145                         0.0                         0.0  454.772345  \n",
       "146                         0.0                         0.0  497.677451  \n",
       "147                         0.0                         0.0  487.754502  \n",
       "148                         0.0                         0.0  498.359023  \n",
       "149                         0.0                         0.0  534.096416  \n",
       "150                         0.0                         0.0  577.075507  \n",
       "151                         0.0                         0.0  575.488641  \n",
       "152                         0.0                         0.0  529.004080  \n",
       "153                         0.0                         0.0  492.285233  \n",
       "154                         0.0                         0.0  462.206192  \n",
       "155                         0.0                         0.0  491.797718  "
      ],
      "text/html": "<div>\n<style scoped>\n    .dataframe tbody tr th:only-of-type {\n        vertical-align: middle;\n    }\n\n    .dataframe tbody tr th {\n        vertical-align: top;\n    }\n\n    .dataframe thead th {\n        text-align: right;\n    }\n</style>\n<table border=\"1\" class=\"dataframe\">\n  <thead>\n    <tr style=\"text-align: right;\">\n      <th></th>\n      <th>ds</th>\n      <th>trend</th>\n      <th>yhat_lower</th>\n      <th>yhat_upper</th>\n      <th>trend_lower</th>\n      <th>trend_upper</th>\n      <th>additive_terms</th>\n      <th>additive_terms_lower</th>\n      <th>additive_terms_upper</th>\n      <th>yearly</th>\n      <th>yearly_lower</th>\n      <th>yearly_upper</th>\n      <th>multiplicative_terms</th>\n      <th>multiplicative_terms_lower</th>\n      <th>multiplicative_terms_upper</th>\n      <th>yhat</th>\n    </tr>\n  </thead>\n  <tbody>\n    <tr>\n      <th>144</th>\n      <td>1960-12-31</td>\n      <td>487.426617</td>\n      <td>416.745308</td>\n      <td>502.911859</td>\n      <td>487.412421</td>\n      <td>487.446491</td>\n      <td>-25.356311</td>\n      <td>-25.356311</td>\n      <td>-25.356311</td>\n      <td>-25.356311</td>\n      <td>-25.356311</td>\n      <td>-25.356311</td>\n      <td>0.0</td>\n      <td>0.0</td>\n      <td>0.0</td>\n      <td>462.070306</td>\n    </tr>\n    <tr>\n      <th>145</th>\n      <td>1961-01-31</td>\n      <td>490.540856</td>\n      <td>409.040572</td>\n      <td>494.673627</td>\n      <td>490.466383</td>\n      <td>490.609907</td>\n      <td>-35.768511</td>\n      <td>-35.768511</td>\n      <td>-35.768511</td>\n      <td>-35.768511</td>\n      <td>-35.768511</td>\n      <td>-35.768511</td>\n      <td>0.0</td>\n      <td>0.0</td>\n      <td>0.0</td>\n      <td>454.772345</td>\n    </tr>\n    <tr>\n      <th>146</th>\n      <td>1961-02-28</td>\n      <td>493.353718</td>\n      <td>457.783585</td>\n      <td>541.191090</td>\n      <td>493.216067</td>\n      <td>493.492682</td>\n      <td>4.323732</td>\n      <td>4.323732</td>\n      <td>4.323732</td>\n      <td>4.323732</td>\n      <td>4.323732</td>\n      <td>4.323732</td>\n      <td>0.0</td>\n      <td>0.0</td>\n      <td>0.0</td>\n      <td>497.677451</td>\n    </tr>\n    <tr>\n      <th>147</th>\n      <td>1961-03-31</td>\n      <td>496.467958</td>\n      <td>445.458508</td>\n      <td>531.369277</td>\n      <td>496.263083</td>\n      <td>496.689112</td>\n      <td>-8.713456</td>\n      <td>-8.713456</td>\n      <td>-8.713456</td>\n      <td>-8.713456</td>\n      <td>-8.713456</td>\n      <td>-8.713456</td>\n      <td>0.0</td>\n      <td>0.0</td>\n      <td>0.0</td>\n      <td>487.754502</td>\n    </tr>\n    <tr>\n      <th>148</th>\n      <td>1961-04-30</td>\n      <td>499.481739</td>\n      <td>454.533734</td>\n      <td>542.975024</td>\n      <td>499.194227</td>\n      <td>499.818141</td>\n      <td>-1.122716</td>\n      <td>-1.122716</td>\n      <td>-1.122716</td>\n      <td>-1.122716</td>\n      <td>-1.122716</td>\n      <td>-1.122716</td>\n      <td>0.0</td>\n      <td>0.0</td>\n      <td>0.0</td>\n      <td>498.359023</td>\n    </tr>\n    <tr>\n      <th>149</th>\n      <td>1961-05-31</td>\n      <td>502.595979</td>\n      <td>492.054059</td>\n      <td>580.889872</td>\n      <td>502.225981</td>\n      <td>503.029173</td>\n      <td>31.500437</td>\n      <td>31.500437</td>\n      <td>31.500437</td>\n      <td>31.500437</td>\n      <td>31.500437</td>\n      <td>31.500437</td>\n      <td>0.0</td>\n      <td>0.0</td>\n      <td>0.0</td>\n      <td>534.096416</td>\n    </tr>\n    <tr>\n      <th>150</th>\n      <td>1961-06-30</td>\n      <td>505.609760</td>\n      <td>529.885390</td>\n      <td>619.340905</td>\n      <td>505.134261</td>\n      <td>506.143466</td>\n      <td>71.465747</td>\n      <td>71.465747</td>\n      <td>71.465747</td>\n      <td>71.465747</td>\n      <td>71.465747</td>\n      <td>71.465747</td>\n      <td>0.0</td>\n      <td>0.0</td>\n      <td>0.0</td>\n      <td>577.075507</td>\n    </tr>\n    <tr>\n      <th>151</th>\n      <td>1961-07-31</td>\n      <td>508.724000</td>\n      <td>533.568120</td>\n      <td>621.541005</td>\n      <td>508.114142</td>\n      <td>509.376294</td>\n      <td>66.764641</td>\n      <td>66.764641</td>\n      <td>66.764641</td>\n      <td>66.764641</td>\n      <td>66.764641</td>\n      <td>66.764641</td>\n      <td>0.0</td>\n      <td>0.0</td>\n      <td>0.0</td>\n      <td>575.488641</td>\n    </tr>\n    <tr>\n      <th>152</th>\n      <td>1961-08-31</td>\n      <td>511.838239</td>\n      <td>485.036331</td>\n      <td>572.484168</td>\n      <td>511.092306</td>\n      <td>512.613166</td>\n      <td>17.165841</td>\n      <td>17.165841</td>\n      <td>17.165841</td>\n      <td>17.165841</td>\n      <td>17.165841</td>\n      <td>17.165841</td>\n      <td>0.0</td>\n      <td>0.0</td>\n      <td>0.0</td>\n      <td>529.004080</td>\n    </tr>\n    <tr>\n      <th>153</th>\n      <td>1961-09-30</td>\n      <td>514.852020</td>\n      <td>447.531533</td>\n      <td>536.888027</td>\n      <td>513.968475</td>\n      <td>515.813495</td>\n      <td>-22.566787</td>\n      <td>-22.566787</td>\n      <td>-22.566787</td>\n      <td>-22.566787</td>\n      <td>-22.566787</td>\n      <td>-22.566787</td>\n      <td>0.0</td>\n      <td>0.0</td>\n      <td>0.0</td>\n      <td>492.285233</td>\n    </tr>\n    <tr>\n      <th>154</th>\n      <td>1961-10-31</td>\n      <td>517.966260</td>\n      <td>415.147908</td>\n      <td>508.349229</td>\n      <td>516.963713</td>\n      <td>519.099172</td>\n      <td>-55.760068</td>\n      <td>-55.760068</td>\n      <td>-55.760068</td>\n      <td>-55.760068</td>\n      <td>-55.760068</td>\n      <td>-55.760068</td>\n      <td>0.0</td>\n      <td>0.0</td>\n      <td>0.0</td>\n      <td>462.206192</td>\n    </tr>\n    <tr>\n      <th>155</th>\n      <td>1961-11-30</td>\n      <td>520.980041</td>\n      <td>444.948152</td>\n      <td>537.092533</td>\n      <td>519.851433</td>\n      <td>522.273607</td>\n      <td>-29.182323</td>\n      <td>-29.182323</td>\n      <td>-29.182323</td>\n      <td>-29.182323</td>\n      <td>-29.182323</td>\n      <td>-29.182323</td>\n      <td>0.0</td>\n      <td>0.0</td>\n      <td>0.0</td>\n      <td>491.797718</td>\n    </tr>\n  </tbody>\n</table>\n</div>"
     },
     "metadata": {},
     "execution_count": 15
    }
   ],
   "source": [
    "# Using Best Model\n",
    "future_predictions = automl_model.predict(\n",
    "    forecast_period=FORECAST_PERIOD\n",
    ")  \n",
    "future_predictions"
   ]
  },
  {
   "cell_type": "code",
   "execution_count": 17,
   "metadata": {},
   "outputs": [
    {
     "output_type": "execute_result",
     "data": {
      "text/plain": [
       "Passengers        mean    mean_se  mean_ci_lower  mean_ci_upper\n",
       "1961-01-01  481.454539  31.026818     420.643094     542.265985\n",
       "1961-02-01  521.522038  45.893277     431.572868     611.471208\n",
       "1961-03-01  542.128408  51.157266     441.862009     642.394806\n",
       "1961-04-01  544.951697  51.711740     443.598549     646.304844\n",
       "1961-05-01  537.884866  51.853876     436.253137     639.516596\n",
       "1961-06-01  529.387351  52.586307     426.320084     632.454619\n",
       "1961-07-01  524.964862  53.178575     420.736770     629.192954\n",
       "1961-08-01  526.259519  53.332962     421.728833     630.790204\n",
       "1961-09-01  532.018425  53.331851     427.489917     636.546932\n",
       "1961-10-01  539.783685  53.400463     435.120701     644.446668\n",
       "1961-11-01  547.347723  53.515355     442.459554     652.235892\n",
       "1961-12-01  553.506397  53.593058     448.465934     658.546860"
      ],
      "text/html": "<div>\n<style scoped>\n    .dataframe tbody tr th:only-of-type {\n        vertical-align: middle;\n    }\n\n    .dataframe tbody tr th {\n        vertical-align: top;\n    }\n\n    .dataframe thead th {\n        text-align: right;\n    }\n</style>\n<table border=\"1\" class=\"dataframe\">\n  <thead>\n    <tr style=\"text-align: right;\">\n      <th>Passengers</th>\n      <th>mean</th>\n      <th>mean_se</th>\n      <th>mean_ci_lower</th>\n      <th>mean_ci_upper</th>\n    </tr>\n  </thead>\n  <tbody>\n    <tr>\n      <th>1961-01-01</th>\n      <td>481.454539</td>\n      <td>31.026818</td>\n      <td>420.643094</td>\n      <td>542.265985</td>\n    </tr>\n    <tr>\n      <th>1961-02-01</th>\n      <td>521.522038</td>\n      <td>45.893277</td>\n      <td>431.572868</td>\n      <td>611.471208</td>\n    </tr>\n    <tr>\n      <th>1961-03-01</th>\n      <td>542.128408</td>\n      <td>51.157266</td>\n      <td>441.862009</td>\n      <td>642.394806</td>\n    </tr>\n    <tr>\n      <th>1961-04-01</th>\n      <td>544.951697</td>\n      <td>51.711740</td>\n      <td>443.598549</td>\n      <td>646.304844</td>\n    </tr>\n    <tr>\n      <th>1961-05-01</th>\n      <td>537.884866</td>\n      <td>51.853876</td>\n      <td>436.253137</td>\n      <td>639.516596</td>\n    </tr>\n    <tr>\n      <th>1961-06-01</th>\n      <td>529.387351</td>\n      <td>52.586307</td>\n      <td>426.320084</td>\n      <td>632.454619</td>\n    </tr>\n    <tr>\n      <th>1961-07-01</th>\n      <td>524.964862</td>\n      <td>53.178575</td>\n      <td>420.736770</td>\n      <td>629.192954</td>\n    </tr>\n    <tr>\n      <th>1961-08-01</th>\n      <td>526.259519</td>\n      <td>53.332962</td>\n      <td>421.728833</td>\n      <td>630.790204</td>\n    </tr>\n    <tr>\n      <th>1961-09-01</th>\n      <td>532.018425</td>\n      <td>53.331851</td>\n      <td>427.489917</td>\n      <td>636.546932</td>\n    </tr>\n    <tr>\n      <th>1961-10-01</th>\n      <td>539.783685</td>\n      <td>53.400463</td>\n      <td>435.120701</td>\n      <td>644.446668</td>\n    </tr>\n    <tr>\n      <th>1961-11-01</th>\n      <td>547.347723</td>\n      <td>53.515355</td>\n      <td>442.459554</td>\n      <td>652.235892</td>\n    </tr>\n    <tr>\n      <th>1961-12-01</th>\n      <td>553.506397</td>\n      <td>53.593058</td>\n      <td>448.465934</td>\n      <td>658.546860</td>\n    </tr>\n  </tbody>\n</table>\n</div>"
     },
     "metadata": {},
     "execution_count": 17
    }
   ],
   "source": [
    "# Using specific model\n",
    "future_predictions = automl_model.predict(\n",
    "    forecast_period=FORECAST_PERIOD,\n",
    "    model='auto_SARIMAX'\n",
    ")\n",
    "future_predictions"
   ]
  },
  {
   "cell_type": "code",
   "execution_count": 18,
   "metadata": {
    "tags": []
   },
   "outputs": [
    {
     "output_type": "stream",
     "name": "stdout",
     "text": [
      "Building Forecast dataframe. Forecast Period = 12\n"
     ]
    },
    {
     "output_type": "execute_result",
     "data": {
      "text/plain": [
       "            ds       trend  yhat_lower  yhat_upper  trend_lower  trend_upper  \\\n",
       "144 1960-12-31  487.426617  416.766112  506.367334   487.409723   487.441217   \n",
       "145 1961-01-31  490.540856  407.785582  501.310274   490.464935   490.601968   \n",
       "146 1961-02-28  493.353718  451.456352  540.878289   493.218960   493.479881   \n",
       "147 1961-03-31  496.467958  444.191446  530.299168   496.236981   496.691436   \n",
       "148 1961-04-30  499.481739  452.329617  546.391573   499.150586   499.787747   \n",
       "149 1961-05-31  502.595979  487.498884  579.765875   502.165607   503.005637   \n",
       "150 1961-06-30  505.609760  530.934919  623.111801   505.083220   506.123786   \n",
       "151 1961-07-31  508.724000  527.071970  622.287222   508.093556   509.345038   \n",
       "152 1961-08-31  511.838239  486.568715  575.386811   511.112320   512.599510   \n",
       "153 1961-09-30  514.852020  448.497775  535.800474   513.944887   515.759351   \n",
       "154 1961-10-31  517.966260  418.491731  505.917521   516.926940   518.995445   \n",
       "155 1961-11-30  520.980041  447.824617  534.553694   519.818012   522.131680   \n",
       "\n",
       "     additive_terms  additive_terms_lower  additive_terms_upper     yearly  \\\n",
       "144      -25.356311            -25.356311            -25.356311 -25.356311   \n",
       "145      -35.768511            -35.768511            -35.768511 -35.768511   \n",
       "146        4.323732              4.323732              4.323732   4.323732   \n",
       "147       -8.713456             -8.713456             -8.713456  -8.713456   \n",
       "148       -1.122716             -1.122716             -1.122716  -1.122716   \n",
       "149       31.500437             31.500437             31.500437  31.500437   \n",
       "150       71.465747             71.465747             71.465747  71.465747   \n",
       "151       66.764641             66.764641             66.764641  66.764641   \n",
       "152       17.165841             17.165841             17.165841  17.165841   \n",
       "153      -22.566787            -22.566787            -22.566787 -22.566787   \n",
       "154      -55.760068            -55.760068            -55.760068 -55.760068   \n",
       "155      -29.182323            -29.182323            -29.182323 -29.182323   \n",
       "\n",
       "     yearly_lower  yearly_upper  multiplicative_terms  \\\n",
       "144    -25.356311    -25.356311                   0.0   \n",
       "145    -35.768511    -35.768511                   0.0   \n",
       "146      4.323732      4.323732                   0.0   \n",
       "147     -8.713456     -8.713456                   0.0   \n",
       "148     -1.122716     -1.122716                   0.0   \n",
       "149     31.500437     31.500437                   0.0   \n",
       "150     71.465747     71.465747                   0.0   \n",
       "151     66.764641     66.764641                   0.0   \n",
       "152     17.165841     17.165841                   0.0   \n",
       "153    -22.566787    -22.566787                   0.0   \n",
       "154    -55.760068    -55.760068                   0.0   \n",
       "155    -29.182323    -29.182323                   0.0   \n",
       "\n",
       "     multiplicative_terms_lower  multiplicative_terms_upper        yhat  \n",
       "144                         0.0                         0.0  462.070306  \n",
       "145                         0.0                         0.0  454.772345  \n",
       "146                         0.0                         0.0  497.677451  \n",
       "147                         0.0                         0.0  487.754502  \n",
       "148                         0.0                         0.0  498.359023  \n",
       "149                         0.0                         0.0  534.096416  \n",
       "150                         0.0                         0.0  577.075507  \n",
       "151                         0.0                         0.0  575.488641  \n",
       "152                         0.0                         0.0  529.004080  \n",
       "153                         0.0                         0.0  492.285233  \n",
       "154                         0.0                         0.0  462.206192  \n",
       "155                         0.0                         0.0  491.797718  "
      ],
      "text/html": "<div>\n<style scoped>\n    .dataframe tbody tr th:only-of-type {\n        vertical-align: middle;\n    }\n\n    .dataframe tbody tr th {\n        vertical-align: top;\n    }\n\n    .dataframe thead th {\n        text-align: right;\n    }\n</style>\n<table border=\"1\" class=\"dataframe\">\n  <thead>\n    <tr style=\"text-align: right;\">\n      <th></th>\n      <th>ds</th>\n      <th>trend</th>\n      <th>yhat_lower</th>\n      <th>yhat_upper</th>\n      <th>trend_lower</th>\n      <th>trend_upper</th>\n      <th>additive_terms</th>\n      <th>additive_terms_lower</th>\n      <th>additive_terms_upper</th>\n      <th>yearly</th>\n      <th>yearly_lower</th>\n      <th>yearly_upper</th>\n      <th>multiplicative_terms</th>\n      <th>multiplicative_terms_lower</th>\n      <th>multiplicative_terms_upper</th>\n      <th>yhat</th>\n    </tr>\n  </thead>\n  <tbody>\n    <tr>\n      <th>144</th>\n      <td>1960-12-31</td>\n      <td>487.426617</td>\n      <td>416.766112</td>\n      <td>506.367334</td>\n      <td>487.409723</td>\n      <td>487.441217</td>\n      <td>-25.356311</td>\n      <td>-25.356311</td>\n      <td>-25.356311</td>\n      <td>-25.356311</td>\n      <td>-25.356311</td>\n      <td>-25.356311</td>\n      <td>0.0</td>\n      <td>0.0</td>\n      <td>0.0</td>\n      <td>462.070306</td>\n    </tr>\n    <tr>\n      <th>145</th>\n      <td>1961-01-31</td>\n      <td>490.540856</td>\n      <td>407.785582</td>\n      <td>501.310274</td>\n      <td>490.464935</td>\n      <td>490.601968</td>\n      <td>-35.768511</td>\n      <td>-35.768511</td>\n      <td>-35.768511</td>\n      <td>-35.768511</td>\n      <td>-35.768511</td>\n      <td>-35.768511</td>\n      <td>0.0</td>\n      <td>0.0</td>\n      <td>0.0</td>\n      <td>454.772345</td>\n    </tr>\n    <tr>\n      <th>146</th>\n      <td>1961-02-28</td>\n      <td>493.353718</td>\n      <td>451.456352</td>\n      <td>540.878289</td>\n      <td>493.218960</td>\n      <td>493.479881</td>\n      <td>4.323732</td>\n      <td>4.323732</td>\n      <td>4.323732</td>\n      <td>4.323732</td>\n      <td>4.323732</td>\n      <td>4.323732</td>\n      <td>0.0</td>\n      <td>0.0</td>\n      <td>0.0</td>\n      <td>497.677451</td>\n    </tr>\n    <tr>\n      <th>147</th>\n      <td>1961-03-31</td>\n      <td>496.467958</td>\n      <td>444.191446</td>\n      <td>530.299168</td>\n      <td>496.236981</td>\n      <td>496.691436</td>\n      <td>-8.713456</td>\n      <td>-8.713456</td>\n      <td>-8.713456</td>\n      <td>-8.713456</td>\n      <td>-8.713456</td>\n      <td>-8.713456</td>\n      <td>0.0</td>\n      <td>0.0</td>\n      <td>0.0</td>\n      <td>487.754502</td>\n    </tr>\n    <tr>\n      <th>148</th>\n      <td>1961-04-30</td>\n      <td>499.481739</td>\n      <td>452.329617</td>\n      <td>546.391573</td>\n      <td>499.150586</td>\n      <td>499.787747</td>\n      <td>-1.122716</td>\n      <td>-1.122716</td>\n      <td>-1.122716</td>\n      <td>-1.122716</td>\n      <td>-1.122716</td>\n      <td>-1.122716</td>\n      <td>0.0</td>\n      <td>0.0</td>\n      <td>0.0</td>\n      <td>498.359023</td>\n    </tr>\n    <tr>\n      <th>149</th>\n      <td>1961-05-31</td>\n      <td>502.595979</td>\n      <td>487.498884</td>\n      <td>579.765875</td>\n      <td>502.165607</td>\n      <td>503.005637</td>\n      <td>31.500437</td>\n      <td>31.500437</td>\n      <td>31.500437</td>\n      <td>31.500437</td>\n      <td>31.500437</td>\n      <td>31.500437</td>\n      <td>0.0</td>\n      <td>0.0</td>\n      <td>0.0</td>\n      <td>534.096416</td>\n    </tr>\n    <tr>\n      <th>150</th>\n      <td>1961-06-30</td>\n      <td>505.609760</td>\n      <td>530.934919</td>\n      <td>623.111801</td>\n      <td>505.083220</td>\n      <td>506.123786</td>\n      <td>71.465747</td>\n      <td>71.465747</td>\n      <td>71.465747</td>\n      <td>71.465747</td>\n      <td>71.465747</td>\n      <td>71.465747</td>\n      <td>0.0</td>\n      <td>0.0</td>\n      <td>0.0</td>\n      <td>577.075507</td>\n    </tr>\n    <tr>\n      <th>151</th>\n      <td>1961-07-31</td>\n      <td>508.724000</td>\n      <td>527.071970</td>\n      <td>622.287222</td>\n      <td>508.093556</td>\n      <td>509.345038</td>\n      <td>66.764641</td>\n      <td>66.764641</td>\n      <td>66.764641</td>\n      <td>66.764641</td>\n      <td>66.764641</td>\n      <td>66.764641</td>\n      <td>0.0</td>\n      <td>0.0</td>\n      <td>0.0</td>\n      <td>575.488641</td>\n    </tr>\n    <tr>\n      <th>152</th>\n      <td>1961-08-31</td>\n      <td>511.838239</td>\n      <td>486.568715</td>\n      <td>575.386811</td>\n      <td>511.112320</td>\n      <td>512.599510</td>\n      <td>17.165841</td>\n      <td>17.165841</td>\n      <td>17.165841</td>\n      <td>17.165841</td>\n      <td>17.165841</td>\n      <td>17.165841</td>\n      <td>0.0</td>\n      <td>0.0</td>\n      <td>0.0</td>\n      <td>529.004080</td>\n    </tr>\n    <tr>\n      <th>153</th>\n      <td>1961-09-30</td>\n      <td>514.852020</td>\n      <td>448.497775</td>\n      <td>535.800474</td>\n      <td>513.944887</td>\n      <td>515.759351</td>\n      <td>-22.566787</td>\n      <td>-22.566787</td>\n      <td>-22.566787</td>\n      <td>-22.566787</td>\n      <td>-22.566787</td>\n      <td>-22.566787</td>\n      <td>0.0</td>\n      <td>0.0</td>\n      <td>0.0</td>\n      <td>492.285233</td>\n    </tr>\n    <tr>\n      <th>154</th>\n      <td>1961-10-31</td>\n      <td>517.966260</td>\n      <td>418.491731</td>\n      <td>505.917521</td>\n      <td>516.926940</td>\n      <td>518.995445</td>\n      <td>-55.760068</td>\n      <td>-55.760068</td>\n      <td>-55.760068</td>\n      <td>-55.760068</td>\n      <td>-55.760068</td>\n      <td>-55.760068</td>\n      <td>0.0</td>\n      <td>0.0</td>\n      <td>0.0</td>\n      <td>462.206192</td>\n    </tr>\n    <tr>\n      <th>155</th>\n      <td>1961-11-30</td>\n      <td>520.980041</td>\n      <td>447.824617</td>\n      <td>534.553694</td>\n      <td>519.818012</td>\n      <td>522.131680</td>\n      <td>-29.182323</td>\n      <td>-29.182323</td>\n      <td>-29.182323</td>\n      <td>-29.182323</td>\n      <td>-29.182323</td>\n      <td>-29.182323</td>\n      <td>0.0</td>\n      <td>0.0</td>\n      <td>0.0</td>\n      <td>491.797718</td>\n    </tr>\n  </tbody>\n</table>\n</div>"
     },
     "metadata": {},
     "execution_count": 18
    }
   ],
   "source": [
    "# Using specific model\n",
    "future_predictions = automl_model.predict(\n",
    "    forecast_period=FORECAST_PERIOD,\n",
    "    model='Prophet',\n",
    "    simple=False\n",
    "\n",
    ")\n",
    "future_predictions"
   ]
  },
  {
   "cell_type": "code",
   "execution_count": null,
   "metadata": {},
   "outputs": [],
   "source": []
  }
 ]
}