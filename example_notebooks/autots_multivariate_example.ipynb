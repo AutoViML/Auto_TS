{
 "cells": [
  {
   "cell_type": "code",
   "execution_count": 1,
   "metadata": {
    "tags": []
   },
   "outputs": [
    {
     "name": "stderr",
     "output_type": "stream",
     "text": [
      "Importing plotly failed. Interactive plots will not work.\n"
     ]
    },
    {
     "name": "stdout",
     "output_type": "stream",
     "text": [
      "Imported auto_timeseries version:0.0.25. Call by using:\n",
      "model = auto_timeseries(score_type='rmse', forecast_period=forecast_period,\n",
      "                time_interval='Month',\n",
      "                non_seasonal_pdq=None, seasonality=False, seasonal_period=12,\n",
      "                model_type=['best'],\n",
      "                verbose=2)\n",
      "\n",
      "model.fit(traindata, ts_column,target)\n",
      "model.predict(testdata, forecast_period)\n",
      "\n"
     ]
    }
   ],
   "source": [
    "import pandas as pd\n",
    "\n",
    "dev = True  # Set to false when using production version of library\n",
    "if dev:\n",
    "    # Path to Dev version of autots library\n",
    "    sys.path.append(os.environ['DEV_AUTOTS'])\n",
    "    %load_ext autoreload\n",
    "    %autoreload 2\n",
    "\n",
    "from auto_ts import auto_timeseries as ATS"
   ]
  },
  {
   "cell_type": "markdown",
   "metadata": {},
   "source": [
    "# Load Dataset"
   ]
  },
  {
   "cell_type": "code",
   "execution_count": 2,
   "metadata": {
    "tags": []
   },
   "outputs": [
    {
     "name": "stdout",
     "output_type": "stream",
     "text": [
      "<class 'pandas.core.frame.DataFrame'>\n",
      "RangeIndex: 48 entries, 0 to 47\n",
      "Data columns (total 3 columns):\n",
      " #   Column             Non-Null Count  Dtype  \n",
      "---  ------             --------------  -----  \n",
      " 0   Time Period        48 non-null     object \n",
      " 1   Sales              48 non-null     int64  \n",
      " 2   Marketing Expense  48 non-null     float64\n",
      "dtypes: float64(1), int64(1), object(1)\n",
      "memory usage: 1.2+ KB\n"
     ]
    }
   ],
   "source": [
    "datapath = '../Documents/Auto_TS/example_datasets/'\n",
    "filename1 = 'Sales_and_Marketing.csv'\n",
    "dataset = pd.read_csv(datapath+filename1, index_col=None)\n",
    "dataset.info()"
   ]
  },
  {
   "cell_type": "code",
   "execution_count": 3,
   "metadata": {},
   "outputs": [
    {
     "data": {
      "text/html": [
       "<div>\n",
       "<style scoped>\n",
       "    .dataframe tbody tr th:only-of-type {\n",
       "        vertical-align: middle;\n",
       "    }\n",
       "\n",
       "    .dataframe tbody tr th {\n",
       "        vertical-align: top;\n",
       "    }\n",
       "\n",
       "    .dataframe thead th {\n",
       "        text-align: right;\n",
       "    }\n",
       "</style>\n",
       "<table border=\"1\" class=\"dataframe\">\n",
       "  <thead>\n",
       "    <tr style=\"text-align: right;\">\n",
       "      <th></th>\n",
       "      <th>Time Period</th>\n",
       "      <th>Sales</th>\n",
       "      <th>Marketing Expense</th>\n",
       "    </tr>\n",
       "  </thead>\n",
       "  <tbody>\n",
       "    <tr>\n",
       "      <th>0</th>\n",
       "      <td>2011-01-01</td>\n",
       "      <td>397</td>\n",
       "      <td>486.64</td>\n",
       "    </tr>\n",
       "    <tr>\n",
       "      <th>1</th>\n",
       "      <td>2011-02-01</td>\n",
       "      <td>400</td>\n",
       "      <td>501.80</td>\n",
       "    </tr>\n",
       "    <tr>\n",
       "      <th>2</th>\n",
       "      <td>2011-03-01</td>\n",
       "      <td>498</td>\n",
       "      <td>437.09</td>\n",
       "    </tr>\n",
       "    <tr>\n",
       "      <th>3</th>\n",
       "      <td>2011-04-01</td>\n",
       "      <td>536</td>\n",
       "      <td>565.16</td>\n",
       "    </tr>\n",
       "    <tr>\n",
       "      <th>4</th>\n",
       "      <td>2011-05-01</td>\n",
       "      <td>596</td>\n",
       "      <td>744.15</td>\n",
       "    </tr>\n",
       "  </tbody>\n",
       "</table>\n",
       "</div>"
      ],
      "text/plain": [
       "  Time Period  Sales  Marketing Expense\n",
       "0  2011-01-01    397             486.64\n",
       "1  2011-02-01    400             501.80\n",
       "2  2011-03-01    498             437.09\n",
       "3  2011-04-01    536             565.16\n",
       "4  2011-05-01    596             744.15"
      ]
     },
     "execution_count": 3,
     "metadata": {},
     "output_type": "execute_result"
    }
   ],
   "source": [
    "dataset.head()"
   ]
  },
  {
   "cell_type": "code",
   "execution_count": 4,
   "metadata": {
    "tags": []
   },
   "outputs": [
    {
     "data": {
      "text/plain": [
       "<AxesSubplot:>"
      ]
     },
     "execution_count": 4,
     "metadata": {},
     "output_type": "execute_result"
    },
    {
     "data": {
      "image/png": "[encoded data removed]",
      "text/plain": [
       "<Figure size 432x288 with 1 Axes>"
      ]
     },
     "metadata": {},
     "output_type": "display_data"
    }
   ],
   "source": [
    "dataset[['Sales', 'Marketing Expense']].plot()"
   ]
  },
  {
   "cell_type": "markdown",
   "metadata": {},
   "source": [
    "# Train Model"
   ]
  },
  {
   "cell_type": "code",
   "execution_count": 5,
   "metadata": {},
   "outputs": [],
   "source": [
    "ts_column = 'Time Period'\n",
    "target = 'Sales'\n",
    "sep = ','"
   ]
  },
  {
   "cell_type": "code",
   "execution_count": 6,
   "metadata": {},
   "outputs": [],
   "source": [
    "FORECAST_PERIOD = 3"
   ]
  },
  {
   "cell_type": "code",
   "execution_count": 7,
   "metadata": {
    "tags": []
   },
   "outputs": [
    {
     "name": "stdout",
     "output_type": "stream",
     "text": [
      "(45, 3) (3, 3)\n"
     ]
    }
   ],
   "source": [
    "train = dataset[:-FORECAST_PERIOD]\n",
    "test = dataset[-FORECAST_PERIOD:]\n",
    "print(train.shape, test.shape)"
   ]
  },
  {
   "cell_type": "code",
   "execution_count": 8,
   "metadata": {},
   "outputs": [],
   "source": [
    "automl_model = ATS(\n",
    "    score_type='rmse',\n",
    "    forecast_period=FORECAST_PERIOD,\n",
    "    model_type='best', verbose=0\n",
    ")        "
   ]
  },
  {
   "cell_type": "code",
   "execution_count": 9,
   "metadata": {
    "scrolled": false,
    "tags": []
   },
   "outputs": [
    {
     "name": "stdout",
     "output_type": "stream",
     "text": [
      "Start of Fit.....\n",
      "    Target variable given as = Sales\n",
      "Start of loading of data.....\n",
      "Input is data frame. Performing Time Series Analysis\n",
      "ts_column: Time Period sep: , target: Sales\n",
      "    Dataframe loaded successfully. Shape of data set = (45, 2)\n",
      "Time Interval between obserations has not been provided. Auto_TS will try to infer this now...\n",
      "Time series input in days = 31\n",
      "It is a Monthly time series.\n",
      "\u001b[1mWARNING: Running best models will take time... Be Patient...\u001b[0m\n",
      "\n",
      "\n",
      "==================================================\n",
      "Building Prophet Model\n",
      "==================================================\n",
      "\n",
      "\n",
      "\u001b[1m\n",
      "Running Facebook Prophet Model...\u001b[0m\n"
     ]
    },
    {
     "name": "stderr",
     "output_type": "stream",
     "text": [
      "INFO:numexpr.utils:NumExpr defaulting to 4 threads.\n"
     ]
    },
    {
     "name": "stdout",
     "output_type": "stream",
     "text": [
      "  Starting Prophet Fit\n",
      "  End of Prophet Fit\n",
      "  Starting Prophet Cross Validation\n",
      "Max. iterations using sliding window cross validation = 10\n",
      "    RMSE = 133.11\n",
      "    Std Deviation of Originals = 30.79\n",
      "    Normalized RMSE = 432%\n",
      "Cross Validation window: 1 completed\n",
      "    RMSE = 70.62\n",
      "    Std Deviation of Originals = 65.53\n",
      "    Normalized RMSE = 108%\n",
      "Cross Validation window: 2 completed\n",
      "    RMSE = 27.49\n",
      "    Std Deviation of Originals = 53.20\n",
      "    Normalized RMSE = 52%\n",
      "Cross Validation window: 3 completed\n",
      "    RMSE = 14.54\n",
      "    Std Deviation of Originals = 43.00\n",
      "    Normalized RMSE = 34%\n",
      "Cross Validation window: 4 completed\n",
      "    RMSE = 33.12\n",
      "    Std Deviation of Originals = 127.25\n",
      "    Normalized RMSE = 26%\n",
      "Cross Validation window: 5 completed\n",
      "Error: Not able to plot Prophet CV results\n",
      "  End of Prophet Cross Validation\n",
      "---------------------------\n",
      "Final Prophet CV results:\n",
      "---------------------------\n",
      "    RMSE = 25.26\n",
      "    Std Deviation of Originals = 132.62\n",
      "    Normalized RMSE = 19%\n",
      "Time taken (in seconds): 10\n",
      "\n",
      "\n",
      "==================================================\n",
      "Building Auto SARIMAX Model\n",
      "==================================================\n",
      "\n",
      "\n",
      "\u001b[1m\n",
      "Running Auto SARIMAX Model...\u001b[0m\n",
      "Performing stepwise search to minimize aic\n",
      " ARIMA(0,0,0)(0,0,0)[0]             : AIC=538.638, Time=0.03 sec\n",
      " ARIMA(1,0,0)(0,0,0)[0]             : AIC=540.076, Time=0.02 sec\n",
      " ARIMA(0,0,1)(0,0,0)[0]             : AIC=540.093, Time=0.05 sec\n",
      " ARIMA(1,0,1)(0,0,0)[0]             : AIC=inf, Time=0.16 sec\n",
      " ARIMA(0,0,0)(0,0,0)[0] intercept   : AIC=521.857, Time=0.08 sec\n",
      " ARIMA(1,0,0)(0,0,0)[0] intercept   : AIC=517.582, Time=0.11 sec\n",
      " ARIMA(2,0,0)(0,0,0)[0] intercept   : AIC=519.432, Time=0.15 sec\n",
      " ARIMA(1,0,1)(0,0,0)[0] intercept   : AIC=520.646, Time=0.18 sec\n",
      " ARIMA(0,0,1)(0,0,0)[0] intercept   : AIC=519.587, Time=0.11 sec\n",
      " ARIMA(2,0,1)(0,0,0)[0] intercept   : AIC=inf, Time=0.18 sec\n",
      "\n",
      "Best model:  ARIMA(1,0,0)(0,0,0)[0] intercept\n",
      "Total fit time: 1.074 seconds\n",
      "\u001b[1mRefitting data with previously found best parameters\u001b[0m\n",
      "    Best aic metric = 503.1\n",
      "\n",
      "\n",
      "==================================================\n",
      "Building VAR Model\n",
      "==================================================\n",
      "\n",
      "\n",
      "\u001b[1m\n",
      "Running VAR Model...\u001b[0m\n",
      "    Shifting 1 predictors by 1 to align prior predictor values with current target values...\n",
      "\n",
      "Additional Variable in VAR model = Marketing Expense\n",
      " Iteration 1 completed\n",
      " Iteration 2 completed\n",
      " Iteration 3 completed\n",
      " Iteration 4 completed\n",
      " Iteration 5 completed\n",
      " Iteration 6 completed\n",
      " Iteration 7 completed\n",
      " Iteration 8 completed\n",
      " Iteration 9 completed\n",
      " Iteration 10 completed\n",
      " Iteration 11 completed\n",
      " Iteration 12 completed\n",
      " Iteration 13 completed\n",
      " Iteration 14 completed\n",
      " Iteration 15 completed\n",
      " Iteration 16 completed\n",
      "    Best AR order p = 2, MA order q = 0, Interim metric = 1042.044\n",
      "Best variable selected for VAR: Marketing Expense\n",
      "    RMSE = 69.08\n",
      "    Std Deviation of Originals = 105.65\n",
      "    Normalized RMSE = 65%\n",
      "    RMSE = 186.18\n",
      "    Std Deviation of Originals = 101.66\n",
      "    Normalized RMSE = 183%\n",
      "    RMSE = 196.42\n",
      "    Std Deviation of Originals = 111.62\n",
      "    Normalized RMSE = 176%\n",
      "Refitting data with previously found best parameters\n",
      "    Best aic metric = 1042.0\n",
      "\n",
      "\n",
      "==================================================\n",
      "Building ML Model\n",
      "==================================================\n",
      "\n",
      "\n",
      "\u001b[1m\n",
      "Running Machine Learning Models...\u001b[0m\n",
      "    Shifting 1 predictors by lag=2 to align prior predictor with current target...\n",
      "Fitting ML model\n",
      "\u001b[1m\n",
      "Best Model is: \u001b[0mProphet\n",
      "    Best Model (Mean CV) Score: 55.78\n",
      "\n",
      "\n",
      "--------------------------------------------------\n",
      "Total time taken: 29 seconds.\n",
      "--------------------------------------------------\n",
      "\n",
      "\n",
      "Leaderboard with best model on top of list:\n",
      "            name        rmse\n",
      "0       Prophet   55.775721\n",
      "3            ML   74.847572\n",
      "1  auto_SARIMAX  100.588653\n",
      "2           VAR  150.558831\n"
     ]
    },
    {
     "data": {
      "text/plain": [
       "<auto_ts.auto_timeseries at 0x172f1af4640>"
      ]
     },
     "execution_count": 9,
     "metadata": {},
     "output_type": "execute_result"
    }
   ],
   "source": [
    "automl_model.fit(\n",
    "    traindata=train,\n",
    "    ts_column=ts_column,\n",
    "    target=target,\n",
    "    cv=3,\n",
    "    sep=sep)        "
   ]
  },
  {
   "cell_type": "markdown",
   "metadata": {},
   "source": [
    "# Evaluate Results"
   ]
  },
  {
   "cell_type": "code",
   "execution_count": 10,
   "metadata": {},
   "outputs": [
    {
     "data": {
      "text/html": [
       "<div>\n",
       "<style scoped>\n",
       "    .dataframe tbody tr th:only-of-type {\n",
       "        vertical-align: middle;\n",
       "    }\n",
       "\n",
       "    .dataframe tbody tr th {\n",
       "        vertical-align: top;\n",
       "    }\n",
       "\n",
       "    .dataframe thead th {\n",
       "        text-align: right;\n",
       "    }\n",
       "</style>\n",
       "<table border=\"1\" class=\"dataframe\">\n",
       "  <thead>\n",
       "    <tr style=\"text-align: right;\">\n",
       "      <th></th>\n",
       "      <th>name</th>\n",
       "      <th>rmse</th>\n",
       "    </tr>\n",
       "  </thead>\n",
       "  <tbody>\n",
       "    <tr>\n",
       "      <th>0</th>\n",
       "      <td>Prophet</td>\n",
       "      <td>55.775721</td>\n",
       "    </tr>\n",
       "    <tr>\n",
       "      <th>3</th>\n",
       "      <td>ML</td>\n",
       "      <td>74.847572</td>\n",
       "    </tr>\n",
       "    <tr>\n",
       "      <th>1</th>\n",
       "      <td>auto_SARIMAX</td>\n",
       "      <td>100.588653</td>\n",
       "    </tr>\n",
       "    <tr>\n",
       "      <th>2</th>\n",
       "      <td>VAR</td>\n",
       "      <td>150.558831</td>\n",
       "    </tr>\n",
       "  </tbody>\n",
       "</table>\n",
       "</div>"
      ],
      "text/plain": [
       "           name        rmse\n",
       "0       Prophet   55.775721\n",
       "3            ML   74.847572\n",
       "1  auto_SARIMAX  100.588653\n",
       "2           VAR  150.558831"
      ]
     },
     "execution_count": 10,
     "metadata": {},
     "output_type": "execute_result"
    }
   ],
   "source": [
    "automl_model.get_leaderboard()"
   ]
  },
  {
   "cell_type": "code",
   "execution_count": 11,
   "metadata": {},
   "outputs": [
    {
     "data": {
      "text/plain": [
       "<AxesSubplot:xlabel='Model', ylabel='CV Scores'>"
      ]
     },
     "execution_count": 11,
     "metadata": {},
     "output_type": "execute_result"
    },
    {
     "data": {
      "image/png": "[encoded data removed]",
      "text/plain": [
       "<Figure size 432x288 with 1 Axes>"
      ]
     },
     "metadata": {},
     "output_type": "display_data"
    }
   ],
   "source": [
    "automl_model.plot_cv_scores()"
   ]
  },
  {
   "cell_type": "code",
   "execution_count": 12,
   "metadata": {},
   "outputs": [
    {
     "data": {
      "text/html": [
       "<div>\n",
       "<style scoped>\n",
       "    .dataframe tbody tr th:only-of-type {\n",
       "        vertical-align: middle;\n",
       "    }\n",
       "\n",
       "    .dataframe tbody tr th {\n",
       "        vertical-align: top;\n",
       "    }\n",
       "\n",
       "    .dataframe thead th {\n",
       "        text-align: right;\n",
       "    }\n",
       "</style>\n",
       "<table border=\"1\" class=\"dataframe\">\n",
       "  <thead>\n",
       "    <tr style=\"text-align: right;\">\n",
       "      <th></th>\n",
       "      <th>Model</th>\n",
       "      <th>CV Scores</th>\n",
       "    </tr>\n",
       "  </thead>\n",
       "  <tbody>\n",
       "    <tr>\n",
       "      <th>0</th>\n",
       "      <td>Prophet</td>\n",
       "      <td>133.108922</td>\n",
       "    </tr>\n",
       "    <tr>\n",
       "      <th>1</th>\n",
       "      <td>Prophet</td>\n",
       "      <td>70.620231</td>\n",
       "    </tr>\n",
       "    <tr>\n",
       "      <th>2</th>\n",
       "      <td>Prophet</td>\n",
       "      <td>27.494874</td>\n",
       "    </tr>\n",
       "    <tr>\n",
       "      <th>3</th>\n",
       "      <td>Prophet</td>\n",
       "      <td>14.538348</td>\n",
       "    </tr>\n",
       "    <tr>\n",
       "      <th>4</th>\n",
       "      <td>Prophet</td>\n",
       "      <td>33.116229</td>\n",
       "    </tr>\n",
       "    <tr>\n",
       "      <th>5</th>\n",
       "      <td>auto_SARIMAX</td>\n",
       "      <td>39.160695</td>\n",
       "    </tr>\n",
       "    <tr>\n",
       "      <th>6</th>\n",
       "      <td>auto_SARIMAX</td>\n",
       "      <td>110.545846</td>\n",
       "    </tr>\n",
       "    <tr>\n",
       "      <th>7</th>\n",
       "      <td>auto_SARIMAX</td>\n",
       "      <td>152.059417</td>\n",
       "    </tr>\n",
       "    <tr>\n",
       "      <th>8</th>\n",
       "      <td>VAR</td>\n",
       "      <td>69.076995</td>\n",
       "    </tr>\n",
       "    <tr>\n",
       "      <th>9</th>\n",
       "      <td>VAR</td>\n",
       "      <td>186.176596</td>\n",
       "    </tr>\n",
       "    <tr>\n",
       "      <th>10</th>\n",
       "      <td>VAR</td>\n",
       "      <td>196.422900</td>\n",
       "    </tr>\n",
       "    <tr>\n",
       "      <th>11</th>\n",
       "      <td>ML</td>\n",
       "      <td>41.597362</td>\n",
       "    </tr>\n",
       "    <tr>\n",
       "      <th>12</th>\n",
       "      <td>ML</td>\n",
       "      <td>85.084925</td>\n",
       "    </tr>\n",
       "    <tr>\n",
       "      <th>13</th>\n",
       "      <td>ML</td>\n",
       "      <td>97.860429</td>\n",
       "    </tr>\n",
       "  </tbody>\n",
       "</table>\n",
       "</div>"
      ],
      "text/plain": [
       "           Model   CV Scores\n",
       "0        Prophet  133.108922\n",
       "1        Prophet   70.620231\n",
       "2        Prophet   27.494874\n",
       "3        Prophet   14.538348\n",
       "4        Prophet   33.116229\n",
       "5   auto_SARIMAX   39.160695\n",
       "6   auto_SARIMAX  110.545846\n",
       "7   auto_SARIMAX  152.059417\n",
       "8            VAR   69.076995\n",
       "9            VAR  186.176596\n",
       "10           VAR  196.422900\n",
       "11            ML   41.597362\n",
       "12            ML   85.084925\n",
       "13            ML   97.860429"
      ]
     },
     "execution_count": 12,
     "metadata": {},
     "output_type": "execute_result"
    }
   ],
   "source": [
    "# There is a Bug with Prophet folds: https://github.com/AutoViML/Auto_TS/issues/25\n",
    "automl_model.get_cv_scores()"
   ]
  },
  {
   "cell_type": "code",
   "execution_count": 13,
   "metadata": {},
   "outputs": [],
   "source": [
    "results_dict = automl_model.get_ml_dict()"
   ]
  },
  {
   "cell_type": "code",
   "execution_count": 14,
   "metadata": {
    "tags": []
   },
   "outputs": [
    {
     "data": {
      "text/plain": [
       "22    573.195754\n",
       "23    577.045968\n",
       "24    581.024522\n",
       "24    538.121082\n",
       "25    539.534174\n",
       "26    540.810514\n",
       "28    664.892703\n",
       "29    666.957536\n",
       "30    743.706177\n",
       "34    501.065011\n",
       "35    564.996931\n",
       "36    540.082234\n",
       "42    822.788201\n",
       "43    834.284062\n",
       "44    667.884572\n",
       "Name: yhat, dtype: float64"
      ]
     },
     "execution_count": 14,
     "metadata": {},
     "output_type": "execute_result"
    }
   ],
   "source": [
    "results_dict['Prophet']['forecast'] "
   ]
  },
  {
   "cell_type": "code",
   "execution_count": 15,
   "metadata": {},
   "outputs": [
    {
     "data": {
      "text/plain": [
       "[array([531.68260833, 587.32045908, 582.10319645]),\n",
       " array([597.7458085 , 641.46748252, 715.86323808]),\n",
       " array([697.26556448, 650.63189672, 624.88787892])]"
      ]
     },
     "execution_count": 15,
     "metadata": {},
     "output_type": "execute_result"
    }
   ],
   "source": [
    "results_dict['auto_SARIMAX']['forecast']"
   ]
  },
  {
   "cell_type": "code",
   "execution_count": 16,
   "metadata": {},
   "outputs": [
    {
     "data": {
      "text/plain": [
       "[Sales             mean    mean_se  mean_ci_lower  mean_ci_upper\n",
       " 2014-01-01  595.608535  61.487925     475.094416     716.122654\n",
       " 2014-02-01  614.776696  80.828997     456.354772     773.198619\n",
       " 2014-03-01  605.620060  91.770137     425.753896     785.486224,\n",
       " Sales             mean    mean_se  mean_ci_lower  mean_ci_upper\n",
       " 2014-04-01  578.137568  63.264530     454.141368     702.133769\n",
       " 2014-05-01  568.892687  81.654842     408.852137     728.933236\n",
       " 2014-06-01  558.281921  90.703695     380.505946     736.057896,\n",
       " Sales             mean    mean_se  mean_ci_lower  mean_ci_upper\n",
       " 2014-07-01  675.238551  64.451593     548.915750     801.561352\n",
       " 2014-08-01  592.944589  88.485526     419.516145     766.373034\n",
       " 2014-09-01  528.779229  99.839597     333.097214     724.461244]"
      ]
     },
     "execution_count": 16,
     "metadata": {},
     "output_type": "execute_result"
    }
   ],
   "source": [
    "results_dict['VAR']['forecast'] "
   ]
  },
  {
   "cell_type": "code",
   "execution_count": 17,
   "metadata": {},
   "outputs": [
    {
     "data": {
      "text/plain": [
       "[]"
      ]
     },
     "execution_count": 17,
     "metadata": {},
     "output_type": "execute_result"
    }
   ],
   "source": [
    "results_dict['ML']['forecast'] # This has CV implemented, but currently does not return the forecast values from the CV (maybe a future enhancement)"
   ]
  },
  {
   "cell_type": "markdown",
   "metadata": {},
   "source": [
    "# Forecast Results"
   ]
  },
  {
   "cell_type": "code",
   "execution_count": 18,
   "metadata": {},
   "outputs": [
    {
     "data": {
      "text/html": [
       "<div>\n",
       "<style scoped>\n",
       "    .dataframe tbody tr th:only-of-type {\n",
       "        vertical-align: middle;\n",
       "    }\n",
       "\n",
       "    .dataframe tbody tr th {\n",
       "        vertical-align: top;\n",
       "    }\n",
       "\n",
       "    .dataframe thead th {\n",
       "        text-align: right;\n",
       "    }\n",
       "</style>\n",
       "<table border=\"1\" class=\"dataframe\">\n",
       "  <thead>\n",
       "    <tr style=\"text-align: right;\">\n",
       "      <th></th>\n",
       "      <th>Time Period</th>\n",
       "      <th>Sales</th>\n",
       "      <th>Marketing Expense</th>\n",
       "    </tr>\n",
       "  </thead>\n",
       "  <tbody>\n",
       "    <tr>\n",
       "      <th>45</th>\n",
       "      <td>2014-10-01</td>\n",
       "      <td>581</td>\n",
       "      <td>570.30</td>\n",
       "    </tr>\n",
       "    <tr>\n",
       "      <th>46</th>\n",
       "      <td>2014-11-01</td>\n",
       "      <td>519</td>\n",
       "      <td>527.60</td>\n",
       "    </tr>\n",
       "    <tr>\n",
       "      <th>47</th>\n",
       "      <td>2014-12-01</td>\n",
       "      <td>605</td>\n",
       "      <td>559.75</td>\n",
       "    </tr>\n",
       "  </tbody>\n",
       "</table>\n",
       "</div>"
      ],
      "text/plain": [
       "   Time Period  Sales  Marketing Expense\n",
       "45  2014-10-01    581             570.30\n",
       "46  2014-11-01    519             527.60\n",
       "47  2014-12-01    605             559.75"
      ]
     },
     "execution_count": 18,
     "metadata": {},
     "output_type": "execute_result"
    }
   ],
   "source": [
    "# Actual Test\n",
    "test"
   ]
  },
  {
   "cell_type": "code",
   "execution_count": 19,
   "metadata": {
    "tags": []
   },
   "outputs": [
    {
     "name": "stdout",
     "output_type": "stream",
     "text": [
      "Building Forecast dataframe. Forecast Period = 3\n"
     ]
    },
    {
     "data": {
      "text/html": [
       "<div>\n",
       "<style scoped>\n",
       "    .dataframe tbody tr th:only-of-type {\n",
       "        vertical-align: middle;\n",
       "    }\n",
       "\n",
       "    .dataframe tbody tr th {\n",
       "        vertical-align: top;\n",
       "    }\n",
       "\n",
       "    .dataframe thead th {\n",
       "        text-align: right;\n",
       "    }\n",
       "</style>\n",
       "<table border=\"1\" class=\"dataframe\">\n",
       "  <thead>\n",
       "    <tr style=\"text-align: right;\">\n",
       "      <th></th>\n",
       "      <th>ds</th>\n",
       "      <th>trend</th>\n",
       "      <th>yhat_lower</th>\n",
       "      <th>yhat_upper</th>\n",
       "      <th>trend_lower</th>\n",
       "      <th>trend_upper</th>\n",
       "      <th>Marketing Expense</th>\n",
       "      <th>Marketing Expense_lower</th>\n",
       "      <th>Marketing Expense_upper</th>\n",
       "      <th>additive_terms</th>\n",
       "      <th>additive_terms_lower</th>\n",
       "      <th>additive_terms_upper</th>\n",
       "      <th>extra_regressors_additive</th>\n",
       "      <th>extra_regressors_additive_lower</th>\n",
       "      <th>extra_regressors_additive_upper</th>\n",
       "      <th>multiplicative_terms</th>\n",
       "      <th>multiplicative_terms_lower</th>\n",
       "      <th>multiplicative_terms_upper</th>\n",
       "      <th>yhat</th>\n",
       "    </tr>\n",
       "  </thead>\n",
       "  <tbody>\n",
       "    <tr>\n",
       "      <th>0</th>\n",
       "      <td>2014-10-01</td>\n",
       "      <td>634.647854</td>\n",
       "      <td>495.331302</td>\n",
       "      <td>765.198331</td>\n",
       "      <td>634.647854</td>\n",
       "      <td>634.647854</td>\n",
       "      <td>-3.915917</td>\n",
       "      <td>-3.915917</td>\n",
       "      <td>-3.915917</td>\n",
       "      <td>-3.915917</td>\n",
       "      <td>-3.915917</td>\n",
       "      <td>-3.915917</td>\n",
       "      <td>-3.915917</td>\n",
       "      <td>-3.915917</td>\n",
       "      <td>-3.915917</td>\n",
       "      <td>0.0</td>\n",
       "      <td>0.0</td>\n",
       "      <td>0.0</td>\n",
       "      <td>630.731937</td>\n",
       "    </tr>\n",
       "    <tr>\n",
       "      <th>1</th>\n",
       "      <td>2014-11-01</td>\n",
       "      <td>637.276945</td>\n",
       "      <td>481.272209</td>\n",
       "      <td>740.517779</td>\n",
       "      <td>637.276944</td>\n",
       "      <td>637.276946</td>\n",
       "      <td>-27.768934</td>\n",
       "      <td>-27.768934</td>\n",
       "      <td>-27.768934</td>\n",
       "      <td>-27.768934</td>\n",
       "      <td>-27.768934</td>\n",
       "      <td>-27.768934</td>\n",
       "      <td>-27.768934</td>\n",
       "      <td>-27.768934</td>\n",
       "      <td>-27.768934</td>\n",
       "      <td>0.0</td>\n",
       "      <td>0.0</td>\n",
       "      <td>0.0</td>\n",
       "      <td>609.508011</td>\n",
       "    </tr>\n",
       "    <tr>\n",
       "      <th>2</th>\n",
       "      <td>2014-12-01</td>\n",
       "      <td>639.821227</td>\n",
       "      <td>493.683067</td>\n",
       "      <td>761.357331</td>\n",
       "      <td>639.821225</td>\n",
       "      <td>639.821228</td>\n",
       "      <td>-9.809344</td>\n",
       "      <td>-9.809344</td>\n",
       "      <td>-9.809344</td>\n",
       "      <td>-9.809344</td>\n",
       "      <td>-9.809344</td>\n",
       "      <td>-9.809344</td>\n",
       "      <td>-9.809344</td>\n",
       "      <td>-9.809344</td>\n",
       "      <td>-9.809344</td>\n",
       "      <td>0.0</td>\n",
       "      <td>0.0</td>\n",
       "      <td>0.0</td>\n",
       "      <td>630.011883</td>\n",
       "    </tr>\n",
       "  </tbody>\n",
       "</table>\n",
       "</div>"
      ],
      "text/plain": [
       "          ds       trend  yhat_lower  yhat_upper  trend_lower  trend_upper  \\\n",
       "0 2014-10-01  634.647854  495.331302  765.198331   634.647854   634.647854   \n",
       "1 2014-11-01  637.276945  481.272209  740.517779   637.276944   637.276946   \n",
       "2 2014-12-01  639.821227  493.683067  761.357331   639.821225   639.821228   \n",
       "\n",
       "   Marketing Expense  Marketing Expense_lower  Marketing Expense_upper  \\\n",
       "0          -3.915917                -3.915917                -3.915917   \n",
       "1         -27.768934               -27.768934               -27.768934   \n",
       "2          -9.809344                -9.809344                -9.809344   \n",
       "\n",
       "   additive_terms  additive_terms_lower  additive_terms_upper  \\\n",
       "0       -3.915917             -3.915917             -3.915917   \n",
       "1      -27.768934            -27.768934            -27.768934   \n",
       "2       -9.809344             -9.809344             -9.809344   \n",
       "\n",
       "   extra_regressors_additive  extra_regressors_additive_lower  \\\n",
       "0                  -3.915917                        -3.915917   \n",
       "1                 -27.768934                       -27.768934   \n",
       "2                  -9.809344                        -9.809344   \n",
       "\n",
       "   extra_regressors_additive_upper  multiplicative_terms  \\\n",
       "0                        -3.915917                   0.0   \n",
       "1                       -27.768934                   0.0   \n",
       "2                        -9.809344                   0.0   \n",
       "\n",
       "   multiplicative_terms_lower  multiplicative_terms_upper        yhat  \n",
       "0                         0.0                         0.0  630.731937  \n",
       "1                         0.0                         0.0  609.508011  \n",
       "2                         0.0                         0.0  630.011883  "
      ]
     },
     "execution_count": 19,
     "metadata": {},
     "output_type": "execute_result"
    }
   ],
   "source": [
    "# Using Best Model\n",
    "future_predictions = automl_model.predict(\n",
    "    testdata=test.drop(columns=target),\n",
    ")  \n",
    "future_predictions"
   ]
  },
  {
   "cell_type": "code",
   "execution_count": 20,
   "metadata": {
    "tags": []
   },
   "outputs": [
    {
     "name": "stdout",
     "output_type": "stream",
     "text": [
      "Building Forecast dataframe. Forecast Period = 3\n"
     ]
    },
    {
     "data": {
      "text/html": [
       "<div>\n",
       "<style scoped>\n",
       "    .dataframe tbody tr th:only-of-type {\n",
       "        vertical-align: middle;\n",
       "    }\n",
       "\n",
       "    .dataframe tbody tr th {\n",
       "        vertical-align: top;\n",
       "    }\n",
       "\n",
       "    .dataframe thead th {\n",
       "        text-align: right;\n",
       "    }\n",
       "</style>\n",
       "<table border=\"1\" class=\"dataframe\">\n",
       "  <thead>\n",
       "    <tr style=\"text-align: right;\">\n",
       "      <th></th>\n",
       "      <th>ds</th>\n",
       "      <th>trend</th>\n",
       "      <th>yhat_lower</th>\n",
       "      <th>yhat_upper</th>\n",
       "      <th>trend_lower</th>\n",
       "      <th>trend_upper</th>\n",
       "      <th>Marketing Expense</th>\n",
       "      <th>Marketing Expense_lower</th>\n",
       "      <th>Marketing Expense_upper</th>\n",
       "      <th>additive_terms</th>\n",
       "      <th>additive_terms_lower</th>\n",
       "      <th>additive_terms_upper</th>\n",
       "      <th>extra_regressors_additive</th>\n",
       "      <th>extra_regressors_additive_lower</th>\n",
       "      <th>extra_regressors_additive_upper</th>\n",
       "      <th>multiplicative_terms</th>\n",
       "      <th>multiplicative_terms_lower</th>\n",
       "      <th>multiplicative_terms_upper</th>\n",
       "      <th>yhat</th>\n",
       "    </tr>\n",
       "  </thead>\n",
       "  <tbody>\n",
       "    <tr>\n",
       "      <th>0</th>\n",
       "      <td>2014-10-01</td>\n",
       "      <td>634.647854</td>\n",
       "      <td>491.690520</td>\n",
       "      <td>756.919858</td>\n",
       "      <td>634.647854</td>\n",
       "      <td>634.647854</td>\n",
       "      <td>-3.915917</td>\n",
       "      <td>-3.915917</td>\n",
       "      <td>-3.915917</td>\n",
       "      <td>-3.915917</td>\n",
       "      <td>-3.915917</td>\n",
       "      <td>-3.915917</td>\n",
       "      <td>-3.915917</td>\n",
       "      <td>-3.915917</td>\n",
       "      <td>-3.915917</td>\n",
       "      <td>0.0</td>\n",
       "      <td>0.0</td>\n",
       "      <td>0.0</td>\n",
       "      <td>630.731937</td>\n",
       "    </tr>\n",
       "    <tr>\n",
       "      <th>1</th>\n",
       "      <td>2014-11-01</td>\n",
       "      <td>637.276945</td>\n",
       "      <td>480.789411</td>\n",
       "      <td>737.840423</td>\n",
       "      <td>637.276944</td>\n",
       "      <td>637.276946</td>\n",
       "      <td>-27.768934</td>\n",
       "      <td>-27.768934</td>\n",
       "      <td>-27.768934</td>\n",
       "      <td>-27.768934</td>\n",
       "      <td>-27.768934</td>\n",
       "      <td>-27.768934</td>\n",
       "      <td>-27.768934</td>\n",
       "      <td>-27.768934</td>\n",
       "      <td>-27.768934</td>\n",
       "      <td>0.0</td>\n",
       "      <td>0.0</td>\n",
       "      <td>0.0</td>\n",
       "      <td>609.508011</td>\n",
       "    </tr>\n",
       "    <tr>\n",
       "      <th>2</th>\n",
       "      <td>2014-12-01</td>\n",
       "      <td>639.821227</td>\n",
       "      <td>502.012712</td>\n",
       "      <td>756.055152</td>\n",
       "      <td>639.821225</td>\n",
       "      <td>639.821228</td>\n",
       "      <td>-9.809344</td>\n",
       "      <td>-9.809344</td>\n",
       "      <td>-9.809344</td>\n",
       "      <td>-9.809344</td>\n",
       "      <td>-9.809344</td>\n",
       "      <td>-9.809344</td>\n",
       "      <td>-9.809344</td>\n",
       "      <td>-9.809344</td>\n",
       "      <td>-9.809344</td>\n",
       "      <td>0.0</td>\n",
       "      <td>0.0</td>\n",
       "      <td>0.0</td>\n",
       "      <td>630.011883</td>\n",
       "    </tr>\n",
       "  </tbody>\n",
       "</table>\n",
       "</div>"
      ],
      "text/plain": [
       "          ds       trend  yhat_lower  yhat_upper  trend_lower  trend_upper  \\\n",
       "0 2014-10-01  634.647854  491.690520  756.919858   634.647854   634.647854   \n",
       "1 2014-11-01  637.276945  480.789411  737.840423   637.276944   637.276946   \n",
       "2 2014-12-01  639.821227  502.012712  756.055152   639.821225   639.821228   \n",
       "\n",
       "   Marketing Expense  Marketing Expense_lower  Marketing Expense_upper  \\\n",
       "0          -3.915917                -3.915917                -3.915917   \n",
       "1         -27.768934               -27.768934               -27.768934   \n",
       "2          -9.809344                -9.809344                -9.809344   \n",
       "\n",
       "   additive_terms  additive_terms_lower  additive_terms_upper  \\\n",
       "0       -3.915917             -3.915917             -3.915917   \n",
       "1      -27.768934            -27.768934            -27.768934   \n",
       "2       -9.809344             -9.809344             -9.809344   \n",
       "\n",
       "   extra_regressors_additive  extra_regressors_additive_lower  \\\n",
       "0                  -3.915917                        -3.915917   \n",
       "1                 -27.768934                       -27.768934   \n",
       "2                  -9.809344                        -9.809344   \n",
       "\n",
       "   extra_regressors_additive_upper  multiplicative_terms  \\\n",
       "0                        -3.915917                   0.0   \n",
       "1                       -27.768934                   0.0   \n",
       "2                        -9.809344                   0.0   \n",
       "\n",
       "   multiplicative_terms_lower  multiplicative_terms_upper        yhat  \n",
       "0                         0.0                         0.0  630.731937  \n",
       "1                         0.0                         0.0  609.508011  \n",
       "2                         0.0                         0.0  630.011883  "
      ]
     },
     "execution_count": 20,
     "metadata": {},
     "output_type": "execute_result"
    }
   ],
   "source": [
    "# Using specific model\n",
    "future_predictions = automl_model.predict(\n",
    "    testdata=test.drop(columns=target),\n",
    "    model='Prophet'\n",
    ")\n",
    "future_predictions"
   ]
  },
  {
   "cell_type": "code",
   "execution_count": 21,
   "metadata": {},
   "outputs": [
    {
     "data": {
      "text/html": [
       "<div>\n",
       "<style scoped>\n",
       "    .dataframe tbody tr th:only-of-type {\n",
       "        vertical-align: middle;\n",
       "    }\n",
       "\n",
       "    .dataframe tbody tr th {\n",
       "        vertical-align: top;\n",
       "    }\n",
       "\n",
       "    .dataframe thead th {\n",
       "        text-align: right;\n",
       "    }\n",
       "</style>\n",
       "<table border=\"1\" class=\"dataframe\">\n",
       "  <thead>\n",
       "    <tr style=\"text-align: right;\">\n",
       "      <th>Sales</th>\n",
       "      <th>mean</th>\n",
       "      <th>mean_se</th>\n",
       "      <th>mean_ci_lower</th>\n",
       "      <th>mean_ci_upper</th>\n",
       "    </tr>\n",
       "  </thead>\n",
       "  <tbody>\n",
       "    <tr>\n",
       "      <th>2014-10-01</th>\n",
       "      <td>610.260981</td>\n",
       "      <td>68.253992</td>\n",
       "      <td>476.485615</td>\n",
       "      <td>744.036347</td>\n",
       "    </tr>\n",
       "    <tr>\n",
       "      <th>2014-11-01</th>\n",
       "      <td>607.421352</td>\n",
       "      <td>74.593102</td>\n",
       "      <td>461.221558</td>\n",
       "      <td>753.621145</td>\n",
       "    </tr>\n",
       "    <tr>\n",
       "      <th>2014-12-01</th>\n",
       "      <td>627.381176</td>\n",
       "      <td>75.763733</td>\n",
       "      <td>478.886987</td>\n",
       "      <td>775.875365</td>\n",
       "    </tr>\n",
       "  </tbody>\n",
       "</table>\n",
       "</div>"
      ],
      "text/plain": [
       "Sales             mean    mean_se  mean_ci_lower  mean_ci_upper\n",
       "2014-10-01  610.260981  68.253992     476.485615     744.036347\n",
       "2014-11-01  607.421352  74.593102     461.221558     753.621145\n",
       "2014-12-01  627.381176  75.763733     478.886987     775.875365"
      ]
     },
     "execution_count": 21,
     "metadata": {},
     "output_type": "execute_result"
    }
   ],
   "source": [
    "# Using specific model\n",
    "future_predictions = automl_model.predict(\n",
    "    testdata=test.drop(columns=target),\n",
    "    model='auto_SARIMAX'\n",
    ")\n",
    "future_predictions"
   ]
  },
  {
   "cell_type": "code",
   "execution_count": 22,
   "metadata": {},
   "outputs": [
    {
     "data": {
      "text/html": [
       "<div>\n",
       "<style scoped>\n",
       "    .dataframe tbody tr th:only-of-type {\n",
       "        vertical-align: middle;\n",
       "    }\n",
       "\n",
       "    .dataframe tbody tr th {\n",
       "        vertical-align: top;\n",
       "    }\n",
       "\n",
       "    .dataframe thead th {\n",
       "        text-align: right;\n",
       "    }\n",
       "</style>\n",
       "<table border=\"1\" class=\"dataframe\">\n",
       "  <thead>\n",
       "    <tr style=\"text-align: right;\">\n",
       "      <th></th>\n",
       "      <th>mean</th>\n",
       "      <th>mean_se</th>\n",
       "      <th>mean_ci_lower</th>\n",
       "      <th>mean_ci_upper</th>\n",
       "    </tr>\n",
       "    <tr>\n",
       "      <th>Time Period</th>\n",
       "      <th></th>\n",
       "      <th></th>\n",
       "      <th></th>\n",
       "      <th></th>\n",
       "    </tr>\n",
       "  </thead>\n",
       "  <tbody>\n",
       "    <tr>\n",
       "      <th>2014-10-01</th>\n",
       "      <td>523.6</td>\n",
       "      <td>NaN</td>\n",
       "      <td>NaN</td>\n",
       "      <td>NaN</td>\n",
       "    </tr>\n",
       "    <tr>\n",
       "      <th>2014-11-01</th>\n",
       "      <td>513.0</td>\n",
       "      <td>NaN</td>\n",
       "      <td>NaN</td>\n",
       "      <td>NaN</td>\n",
       "    </tr>\n",
       "    <tr>\n",
       "      <th>2014-12-01</th>\n",
       "      <td>522.9</td>\n",
       "      <td>NaN</td>\n",
       "      <td>NaN</td>\n",
       "      <td>NaN</td>\n",
       "    </tr>\n",
       "  </tbody>\n",
       "</table>\n",
       "</div>"
      ],
      "text/plain": [
       "              mean  mean_se  mean_ci_lower  mean_ci_upper\n",
       "Time Period                                              \n",
       "2014-10-01   523.6      NaN            NaN            NaN\n",
       "2014-11-01   513.0      NaN            NaN            NaN\n",
       "2014-12-01   522.9      NaN            NaN            NaN"
      ]
     },
     "execution_count": 22,
     "metadata": {},
     "output_type": "execute_result"
    }
   ],
   "source": [
    "# Using specific model\n",
    "future_predictions = automl_model.predict(\n",
    "    testdata=test.drop(columns=target),\n",
    "    model='ML'\n",
    ")\n",
    "future_predictions"
   ]
  },
  {
   "cell_type": "code",
   "execution_count": 23,
   "metadata": {
    "tags": []
   },
   "outputs": [
    {
     "data": {
      "text/html": [
       "<div>\n",
       "<style scoped>\n",
       "    .dataframe tbody tr th:only-of-type {\n",
       "        vertical-align: middle;\n",
       "    }\n",
       "\n",
       "    .dataframe tbody tr th {\n",
       "        vertical-align: top;\n",
       "    }\n",
       "\n",
       "    .dataframe thead th {\n",
       "        text-align: right;\n",
       "    }\n",
       "</style>\n",
       "<table border=\"1\" class=\"dataframe\">\n",
       "  <thead>\n",
       "    <tr style=\"text-align: right;\">\n",
       "      <th>Sales</th>\n",
       "      <th>mean</th>\n",
       "      <th>mean_se</th>\n",
       "      <th>mean_ci_lower</th>\n",
       "      <th>mean_ci_upper</th>\n",
       "    </tr>\n",
       "  </thead>\n",
       "  <tbody>\n",
       "    <tr>\n",
       "      <th>2014-10-01</th>\n",
       "      <td>545.797051</td>\n",
       "      <td>69.211944</td>\n",
       "      <td>410.144133</td>\n",
       "      <td>681.449969</td>\n",
       "    </tr>\n",
       "    <tr>\n",
       "      <th>2014-11-01</th>\n",
       "      <td>494.259433</td>\n",
       "      <td>93.623510</td>\n",
       "      <td>310.760726</td>\n",
       "      <td>677.758140</td>\n",
       "    </tr>\n",
       "    <tr>\n",
       "      <th>2014-12-01</th>\n",
       "      <td>466.367747</td>\n",
       "      <td>107.362981</td>\n",
       "      <td>255.940170</td>\n",
       "      <td>676.795323</td>\n",
       "    </tr>\n",
       "  </tbody>\n",
       "</table>\n",
       "</div>"
      ],
      "text/plain": [
       "Sales             mean     mean_se  mean_ci_lower  mean_ci_upper\n",
       "2014-10-01  545.797051   69.211944     410.144133     681.449969\n",
       "2014-11-01  494.259433   93.623510     310.760726     677.758140\n",
       "2014-12-01  466.367747  107.362981     255.940170     676.795323"
      ]
     },
     "execution_count": 23,
     "metadata": {},
     "output_type": "execute_result"
    }
   ],
   "source": [
    "# Using specific model\n",
    "future_predictions = automl_model.predict(\n",
    "    testdata=test.drop(columns=target),\n",
    "    model='VAR'\n",
    ")\n",
    "future_predictions"
   ]
  },
  {
   "cell_type": "code",
   "execution_count": null,
   "metadata": {},
   "outputs": [],
   "source": []
  }
 ],
 "metadata": {
  "kernelspec": {
   "display_name": "Python 3",
   "language": "python",
   "name": "python3"
  },
  "language_info": {
   "codemirror_mode": {
    "name": "ipython",
    "version": 3
   },
   "file_extension": ".py",
   "mimetype": "text/x-python",
   "name": "python",
   "nbconvert_exporter": "python",
   "pygments_lexer": "ipython3",
   "version": "3.8.5"
  }
 },
 "nbformat": 4,
 "nbformat_minor": 2
}
