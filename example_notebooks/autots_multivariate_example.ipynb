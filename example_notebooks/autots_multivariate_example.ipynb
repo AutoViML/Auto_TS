{
 "metadata": {
  "language_info": {
   "codemirror_mode": {
    "name": "ipython",
    "version": 3
   },
   "file_extension": ".py",
   "mimetype": "text/x-python",
   "name": "python",
   "nbconvert_exporter": "python",
   "pygments_lexer": "ipython3",
   "version": "3.6.10-final"
  },
  "orig_nbformat": 2,
  "kernelspec": {
   "name": "python361064bitmsdscapstoneconda8d6407b59370461aa891780727d57a0a",
   "display_name": "Python 3.6.10 64-bit ('msds_capstone': conda)",
   "language": "python"
  }
 },
 "nbformat": 4,
 "nbformat_minor": 2,
 "cells": [
  {
   "cell_type": "code",
   "execution_count": 1,
   "metadata": {
    "tags": []
   },
   "outputs": [
    {
     "output_type": "stream",
     "name": "stdout",
     "text": [
      "Imported auto_timeseries version:0.0.25. Call by using:\n\nats = auto_timeseries(score_type='rmse', forecast_period=forecast_period,\n                time_interval='Month',\n                non_seasonal_pdq=None, seasonality=False, seasonal_period=12,\n                model_type=['Prophet'],\n                verbose=2)\nats.fit(traindata, ts_column,target)\nats.predict(testdata, forecast_period)\n\n"
     ]
    }
   ],
   "source": [
    "import pandas as pd\n",
    "\n",
    "dev = True  # Set to false when using production version of library\n",
    "if dev:\n",
    "    # Path to Dev version of autots library\n",
    "    sys.path.append(os.environ['DEV_AUTOTS'])\n",
    "    %load_ext autoreload\n",
    "    %autoreload 2\n",
    "\n",
    "from auto_ts import auto_timeseries as ATS"
   ]
  },
  {
   "cell_type": "markdown",
   "metadata": {},
   "source": [
    "# Load Dataset"
   ]
  },
  {
   "cell_type": "code",
   "execution_count": 2,
   "metadata": {
    "tags": []
   },
   "outputs": [
    {
     "output_type": "stream",
     "name": "stdout",
     "text": [
      "<class 'pandas.core.frame.DataFrame'>\nRangeIndex: 48 entries, 0 to 47\nData columns (total 3 columns):\n #   Column             Non-Null Count  Dtype  \n---  ------             --------------  -----  \n 0   Time Period        48 non-null     object \n 1   Sales              48 non-null     int64  \n 2   Marketing Expense  48 non-null     float64\ndtypes: float64(1), int64(1), object(1)\nmemory usage: 1.2+ KB\n"
     ]
    }
   ],
   "source": [
    "datapath = '../example_datasets/'\n",
    "filename1 = 'Sales_and_Marketing.csv'\n",
    "dataset = pd.read_csv(datapath+filename1, index_col=None)\n",
    "dataset.info()"
   ]
  },
  {
   "cell_type": "code",
   "execution_count": 3,
   "metadata": {},
   "outputs": [
    {
     "output_type": "execute_result",
     "data": {
      "text/plain": [
       "  Time Period  Sales  Marketing Expense\n",
       "0  2011-01-01    397             486.64\n",
       "1  2011-02-01    400             501.80\n",
       "2  2011-03-01    498             437.09\n",
       "3  2011-04-01    536             565.16\n",
       "4  2011-05-01    596             744.15"
      ],
      "text/html": "<div>\n<style scoped>\n    .dataframe tbody tr th:only-of-type {\n        vertical-align: middle;\n    }\n\n    .dataframe tbody tr th {\n        vertical-align: top;\n    }\n\n    .dataframe thead th {\n        text-align: right;\n    }\n</style>\n<table border=\"1\" class=\"dataframe\">\n  <thead>\n    <tr style=\"text-align: right;\">\n      <th></th>\n      <th>Time Period</th>\n      <th>Sales</th>\n      <th>Marketing Expense</th>\n    </tr>\n  </thead>\n  <tbody>\n    <tr>\n      <th>0</th>\n      <td>2011-01-01</td>\n      <td>397</td>\n      <td>486.64</td>\n    </tr>\n    <tr>\n      <th>1</th>\n      <td>2011-02-01</td>\n      <td>400</td>\n      <td>501.80</td>\n    </tr>\n    <tr>\n      <th>2</th>\n      <td>2011-03-01</td>\n      <td>498</td>\n      <td>437.09</td>\n    </tr>\n    <tr>\n      <th>3</th>\n      <td>2011-04-01</td>\n      <td>536</td>\n      <td>565.16</td>\n    </tr>\n    <tr>\n      <th>4</th>\n      <td>2011-05-01</td>\n      <td>596</td>\n      <td>744.15</td>\n    </tr>\n  </tbody>\n</table>\n</div>"
     },
     "metadata": {},
     "execution_count": 3
    }
   ],
   "source": [
    "dataset.head()"
   ]
  },
  {
   "cell_type": "code",
   "execution_count": 4,
   "metadata": {
    "tags": []
   },
   "outputs": [
    {
     "output_type": "execute_result",
     "data": {
      "text/plain": [
       "<matplotlib.axes._subplots.AxesSubplot at 0x255ee512f98>"
      ]
     },
     "metadata": {},
     "execution_count": 4
    },
    {
     "output_type": "display_data",
     "data": {
      "text/plain": "<Figure size 432x288 with 1 Axes>",
      "image/svg+xml": "<?xml version=\"1.0\" encoding=\"utf-8\" standalone=\"no\"?>\r\n<!DOCTYPE svg PUBLIC \"-//W3C//DTD SVG 1.1//EN\"\r\n  \"http://www.w3.org/Graphics/SVG/1.1/DTD/svg11.dtd\">\r\n<!-- Created with matplotlib (https://matplotlib.org/) -->\r\n<svg height=\"251.399844pt\" version=\"1.1\" viewBox=\"0 0 383.168125 251.399844\" width=\"383.168125pt\" xmlns=\"http://www.w3.org/2000/svg\" xmlns:xlink=\"http://www.w3.org/1999/xlink\">\r\n <defs>\r\n  <style type=\"text/css\">\r\n*{stroke-linecap:butt;stroke-linejoin:round;}\r\n  </style>\r\n </defs>\r\n <g id=\"figure_1\">\r\n  <g id=\"patch_1\">\r\n   <path d=\"M 0 251.399844 \r\nL 383.168125 251.399844 \r\nL 383.168125 0 \r\nL 0 0 \r\nz\r\n\" style=\"fill:#ffffff;\"/>\r\n  </g>\r\n  <g id=\"axes_1\">\r\n   <g id=\"patch_2\">\r\n    <path d=\"M 41.168125 224.64 \r\nL 375.968125 224.64 \r\nL 375.968125 7.2 \r\nL 41.168125 7.2 \r\nz\r\n\" style=\"fill:#ffffff;\"/>\r\n   </g>\r\n   <g id=\"matplotlib.axis_1\">\r\n    <g id=\"xtick_1\">\r\n     <g id=\"text_1\">\r\n      <!-- 0 -->\r\n      <defs>\r\n       <path d=\"M 4.15625 35.296875 \r\nQ 4.15625 48 6.765625 55.734375 \r\nQ 9.375 63.484375 14.515625 67.671875 \r\nQ 19.671875 71.875 27.484375 71.875 \r\nQ 33.25 71.875 37.59375 69.546875 \r\nQ 41.9375 67.234375 44.765625 62.859375 \r\nQ 47.609375 58.5 49.21875 52.21875 \r\nQ 50.828125 45.953125 50.828125 35.296875 \r\nQ 50.828125 22.703125 48.234375 14.96875 \r\nQ 45.65625 7.234375 40.5 3 \r\nQ 35.359375 -1.21875 27.484375 -1.21875 \r\nQ 17.140625 -1.21875 11.234375 6.203125 \r\nQ 4.15625 15.140625 4.15625 35.296875 \r\nz\r\nM 13.1875 35.296875 \r\nQ 13.1875 17.671875 17.3125 11.828125 \r\nQ 21.4375 6 27.484375 6 \r\nQ 33.546875 6 37.671875 11.859375 \r\nQ 41.796875 17.71875 41.796875 35.296875 \r\nQ 41.796875 52.984375 37.671875 58.78125 \r\nQ 33.546875 64.59375 27.390625 64.59375 \r\nQ 21.34375 64.59375 17.71875 59.46875 \r\nQ 13.1875 52.9375 13.1875 35.296875 \r\nz\r\n\" id=\"ArialMT-48\"/>\r\n      </defs>\r\n      <g style=\"fill:#262626;\" transform=\"translate(53.327791 242.013594)scale(0.11 -0.11)\">\r\n       <use xlink:href=\"#ArialMT-48\"/>\r\n      </g>\r\n     </g>\r\n    </g>\r\n    <g id=\"xtick_2\">\r\n     <g id=\"text_2\">\r\n      <!-- 10 -->\r\n      <defs>\r\n       <path d=\"M 37.25 0 \r\nL 28.46875 0 \r\nL 28.46875 56 \r\nQ 25.296875 52.984375 20.140625 49.953125 \r\nQ 14.984375 46.921875 10.890625 45.40625 \r\nL 10.890625 53.90625 \r\nQ 18.265625 57.375 23.78125 62.296875 \r\nQ 29.296875 67.234375 31.59375 71.875 \r\nL 37.25 71.875 \r\nz\r\n\" id=\"ArialMT-49\"/>\r\n      </defs>\r\n      <g style=\"fill:#262626;\" transform=\"translate(115.027496 242.013594)scale(0.11 -0.11)\">\r\n       <use xlink:href=\"#ArialMT-49\"/>\r\n       <use x=\"55.615234\" xlink:href=\"#ArialMT-48\"/>\r\n      </g>\r\n     </g>\r\n    </g>\r\n    <g id=\"xtick_3\">\r\n     <g id=\"text_3\">\r\n      <!-- 20 -->\r\n      <defs>\r\n       <path d=\"M 50.34375 8.453125 \r\nL 50.34375 0 \r\nL 3.03125 0 \r\nQ 2.9375 3.171875 4.046875 6.109375 \r\nQ 5.859375 10.9375 9.828125 15.625 \r\nQ 13.8125 20.3125 21.34375 26.46875 \r\nQ 33.015625 36.03125 37.109375 41.625 \r\nQ 41.21875 47.21875 41.21875 52.203125 \r\nQ 41.21875 57.421875 37.46875 61 \r\nQ 33.734375 64.59375 27.734375 64.59375 \r\nQ 21.390625 64.59375 17.578125 60.78125 \r\nQ 13.765625 56.984375 13.71875 50.25 \r\nL 4.6875 51.171875 \r\nQ 5.609375 61.28125 11.65625 66.578125 \r\nQ 17.71875 71.875 27.9375 71.875 \r\nQ 38.234375 71.875 44.234375 66.15625 \r\nQ 50.25 60.453125 50.25 52 \r\nQ 50.25 47.703125 48.484375 43.546875 \r\nQ 46.734375 39.40625 42.65625 34.8125 \r\nQ 38.578125 30.21875 29.109375 22.21875 \r\nQ 21.1875 15.578125 18.9375 13.203125 \r\nQ 16.703125 10.84375 15.234375 8.453125 \r\nz\r\n\" id=\"ArialMT-50\"/>\r\n      </defs>\r\n      <g style=\"fill:#262626;\" transform=\"translate(179.785717 242.013594)scale(0.11 -0.11)\">\r\n       <use xlink:href=\"#ArialMT-50\"/>\r\n       <use x=\"55.615234\" xlink:href=\"#ArialMT-48\"/>\r\n      </g>\r\n     </g>\r\n    </g>\r\n    <g id=\"xtick_4\">\r\n     <g id=\"text_4\">\r\n      <!-- 30 -->\r\n      <defs>\r\n       <path d=\"M 4.203125 18.890625 \r\nL 12.984375 20.0625 \r\nQ 14.5 12.59375 18.140625 9.296875 \r\nQ 21.78125 6 27 6 \r\nQ 33.203125 6 37.46875 10.296875 \r\nQ 41.75 14.59375 41.75 20.953125 \r\nQ 41.75 27 37.796875 30.921875 \r\nQ 33.84375 34.859375 27.734375 34.859375 \r\nQ 25.25 34.859375 21.53125 33.890625 \r\nL 22.515625 41.609375 \r\nQ 23.390625 41.5 23.921875 41.5 \r\nQ 29.546875 41.5 34.03125 44.421875 \r\nQ 38.53125 47.359375 38.53125 53.46875 \r\nQ 38.53125 58.296875 35.25 61.46875 \r\nQ 31.984375 64.65625 26.8125 64.65625 \r\nQ 21.6875 64.65625 18.265625 61.421875 \r\nQ 14.84375 58.203125 13.875 51.765625 \r\nL 5.078125 53.328125 \r\nQ 6.6875 62.15625 12.390625 67.015625 \r\nQ 18.109375 71.875 26.609375 71.875 \r\nQ 32.46875 71.875 37.390625 69.359375 \r\nQ 42.328125 66.84375 44.9375 62.5 \r\nQ 47.5625 58.15625 47.5625 53.265625 \r\nQ 47.5625 48.640625 45.0625 44.828125 \r\nQ 42.578125 41.015625 37.703125 38.765625 \r\nQ 44.046875 37.3125 47.5625 32.6875 \r\nQ 51.078125 28.078125 51.078125 21.140625 \r\nQ 51.078125 11.765625 44.234375 5.25 \r\nQ 37.40625 -1.265625 26.953125 -1.265625 \r\nQ 17.53125 -1.265625 11.296875 4.34375 \r\nQ 5.078125 9.96875 4.203125 18.890625 \r\nz\r\n\" id=\"ArialMT-51\"/>\r\n      </defs>\r\n      <g style=\"fill:#262626;\" transform=\"translate(244.543937 242.013594)scale(0.11 -0.11)\">\r\n       <use xlink:href=\"#ArialMT-51\"/>\r\n       <use x=\"55.615234\" xlink:href=\"#ArialMT-48\"/>\r\n      </g>\r\n     </g>\r\n    </g>\r\n    <g id=\"xtick_5\">\r\n     <g id=\"text_5\">\r\n      <!-- 40 -->\r\n      <defs>\r\n       <path d=\"M 32.328125 0 \r\nL 32.328125 17.140625 \r\nL 1.265625 17.140625 \r\nL 1.265625 25.203125 \r\nL 33.9375 71.578125 \r\nL 41.109375 71.578125 \r\nL 41.109375 25.203125 \r\nL 50.78125 25.203125 \r\nL 50.78125 17.140625 \r\nL 41.109375 17.140625 \r\nL 41.109375 0 \r\nz\r\nM 32.328125 25.203125 \r\nL 32.328125 57.46875 \r\nL 9.90625 25.203125 \r\nz\r\n\" id=\"ArialMT-52\"/>\r\n      </defs>\r\n      <g style=\"fill:#262626;\" transform=\"translate(309.302158 242.013594)scale(0.11 -0.11)\">\r\n       <use xlink:href=\"#ArialMT-52\"/>\r\n       <use x=\"55.615234\" xlink:href=\"#ArialMT-48\"/>\r\n      </g>\r\n     </g>\r\n    </g>\r\n   </g>\r\n   <g id=\"matplotlib.axis_2\">\r\n    <g id=\"ytick_1\">\r\n     <g id=\"text_6\">\r\n      <!-- 300 -->\r\n      <g style=\"fill:#262626;\" transform=\"translate(13.317031 218.777478)scale(0.11 -0.11)\">\r\n       <use xlink:href=\"#ArialMT-51\"/>\r\n       <use x=\"55.615234\" xlink:href=\"#ArialMT-48\"/>\r\n       <use x=\"111.230469\" xlink:href=\"#ArialMT-48\"/>\r\n      </g>\r\n     </g>\r\n    </g>\r\n    <g id=\"ytick_2\">\r\n     <g id=\"text_7\">\r\n      <!-- 400 -->\r\n      <g style=\"fill:#262626;\" transform=\"translate(13.317031 189.702401)scale(0.11 -0.11)\">\r\n       <use xlink:href=\"#ArialMT-52\"/>\r\n       <use x=\"55.615234\" xlink:href=\"#ArialMT-48\"/>\r\n       <use x=\"111.230469\" xlink:href=\"#ArialMT-48\"/>\r\n      </g>\r\n     </g>\r\n    </g>\r\n    <g id=\"ytick_3\">\r\n     <g id=\"text_8\">\r\n      <!-- 500 -->\r\n      <defs>\r\n       <path d=\"M 4.15625 18.75 \r\nL 13.375 19.53125 \r\nQ 14.40625 12.796875 18.140625 9.390625 \r\nQ 21.875 6 27.15625 6 \r\nQ 33.5 6 37.890625 10.78125 \r\nQ 42.28125 15.578125 42.28125 23.484375 \r\nQ 42.28125 31 38.0625 35.34375 \r\nQ 33.84375 39.703125 27 39.703125 \r\nQ 22.75 39.703125 19.328125 37.765625 \r\nQ 15.921875 35.84375 13.96875 32.765625 \r\nL 5.71875 33.84375 \r\nL 12.640625 70.609375 \r\nL 48.25 70.609375 \r\nL 48.25 62.203125 \r\nL 19.671875 62.203125 \r\nL 15.828125 42.96875 \r\nQ 22.265625 47.46875 29.34375 47.46875 \r\nQ 38.71875 47.46875 45.15625 40.96875 \r\nQ 51.609375 34.46875 51.609375 24.265625 \r\nQ 51.609375 14.546875 45.953125 7.46875 \r\nQ 39.0625 -1.21875 27.15625 -1.21875 \r\nQ 17.390625 -1.21875 11.203125 4.25 \r\nQ 5.03125 9.71875 4.15625 18.75 \r\nz\r\n\" id=\"ArialMT-53\"/>\r\n      </defs>\r\n      <g style=\"fill:#262626;\" transform=\"translate(13.317031 160.627324)scale(0.11 -0.11)\">\r\n       <use xlink:href=\"#ArialMT-53\"/>\r\n       <use x=\"55.615234\" xlink:href=\"#ArialMT-48\"/>\r\n       <use x=\"111.230469\" xlink:href=\"#ArialMT-48\"/>\r\n      </g>\r\n     </g>\r\n    </g>\r\n    <g id=\"ytick_4\">\r\n     <g id=\"text_9\">\r\n      <!-- 600 -->\r\n      <defs>\r\n       <path d=\"M 49.75 54.046875 \r\nL 41.015625 53.375 \r\nQ 39.84375 58.546875 37.703125 60.890625 \r\nQ 34.125 64.65625 28.90625 64.65625 \r\nQ 24.703125 64.65625 21.53125 62.3125 \r\nQ 17.390625 59.28125 14.984375 53.46875 \r\nQ 12.59375 47.65625 12.5 36.921875 \r\nQ 15.671875 41.75 20.265625 44.09375 \r\nQ 24.859375 46.4375 29.890625 46.4375 \r\nQ 38.671875 46.4375 44.84375 39.96875 \r\nQ 51.03125 33.5 51.03125 23.25 \r\nQ 51.03125 16.5 48.125 10.71875 \r\nQ 45.21875 4.9375 40.140625 1.859375 \r\nQ 35.0625 -1.21875 28.609375 -1.21875 \r\nQ 17.625 -1.21875 10.6875 6.859375 \r\nQ 3.765625 14.9375 3.765625 33.5 \r\nQ 3.765625 54.25 11.421875 63.671875 \r\nQ 18.109375 71.875 29.4375 71.875 \r\nQ 37.890625 71.875 43.28125 67.140625 \r\nQ 48.6875 62.40625 49.75 54.046875 \r\nz\r\nM 13.875 23.1875 \r\nQ 13.875 18.65625 15.796875 14.5 \r\nQ 17.71875 10.359375 21.1875 8.171875 \r\nQ 24.65625 6 28.46875 6 \r\nQ 34.03125 6 38.03125 10.484375 \r\nQ 42.046875 14.984375 42.046875 22.703125 \r\nQ 42.046875 30.125 38.078125 34.390625 \r\nQ 34.125 38.671875 28.125 38.671875 \r\nQ 22.171875 38.671875 18.015625 34.390625 \r\nQ 13.875 30.125 13.875 23.1875 \r\nz\r\n\" id=\"ArialMT-54\"/>\r\n      </defs>\r\n      <g style=\"fill:#262626;\" transform=\"translate(13.317031 131.552247)scale(0.11 -0.11)\">\r\n       <use xlink:href=\"#ArialMT-54\"/>\r\n       <use x=\"55.615234\" xlink:href=\"#ArialMT-48\"/>\r\n       <use x=\"111.230469\" xlink:href=\"#ArialMT-48\"/>\r\n      </g>\r\n     </g>\r\n    </g>\r\n    <g id=\"ytick_5\">\r\n     <g id=\"text_10\">\r\n      <!-- 700 -->\r\n      <defs>\r\n       <path d=\"M 4.734375 62.203125 \r\nL 4.734375 70.65625 \r\nL 51.078125 70.65625 \r\nL 51.078125 63.8125 \r\nQ 44.234375 56.546875 37.515625 44.484375 \r\nQ 30.8125 32.421875 27.15625 19.671875 \r\nQ 24.515625 10.6875 23.78125 0 \r\nL 14.75 0 \r\nQ 14.890625 8.453125 18.0625 20.40625 \r\nQ 21.234375 32.375 27.171875 43.484375 \r\nQ 33.109375 54.59375 39.796875 62.203125 \r\nz\r\n\" id=\"ArialMT-55\"/>\r\n      </defs>\r\n      <g style=\"fill:#262626;\" transform=\"translate(13.317031 102.477169)scale(0.11 -0.11)\">\r\n       <use xlink:href=\"#ArialMT-55\"/>\r\n       <use x=\"55.615234\" xlink:href=\"#ArialMT-48\"/>\r\n       <use x=\"111.230469\" xlink:href=\"#ArialMT-48\"/>\r\n      </g>\r\n     </g>\r\n    </g>\r\n    <g id=\"ytick_6\">\r\n     <g id=\"text_11\">\r\n      <!-- 800 -->\r\n      <defs>\r\n       <path d=\"M 17.671875 38.8125 \r\nQ 12.203125 40.828125 9.5625 44.53125 \r\nQ 6.9375 48.25 6.9375 53.421875 \r\nQ 6.9375 61.234375 12.546875 66.546875 \r\nQ 18.171875 71.875 27.484375 71.875 \r\nQ 36.859375 71.875 42.578125 66.421875 \r\nQ 48.296875 60.984375 48.296875 53.171875 \r\nQ 48.296875 48.1875 45.671875 44.5 \r\nQ 43.0625 40.828125 37.75 38.8125 \r\nQ 44.34375 36.671875 47.78125 31.875 \r\nQ 51.21875 27.09375 51.21875 20.453125 \r\nQ 51.21875 11.28125 44.71875 5.03125 \r\nQ 38.234375 -1.21875 27.640625 -1.21875 \r\nQ 17.046875 -1.21875 10.546875 5.046875 \r\nQ 4.046875 11.328125 4.046875 20.703125 \r\nQ 4.046875 27.6875 7.59375 32.390625 \r\nQ 11.140625 37.109375 17.671875 38.8125 \r\nz\r\nM 15.921875 53.71875 \r\nQ 15.921875 48.640625 19.1875 45.40625 \r\nQ 22.46875 42.1875 27.6875 42.1875 \r\nQ 32.765625 42.1875 36.015625 45.375 \r\nQ 39.265625 48.578125 39.265625 53.21875 \r\nQ 39.265625 58.0625 35.90625 61.359375 \r\nQ 32.5625 64.65625 27.59375 64.65625 \r\nQ 22.5625 64.65625 19.234375 61.421875 \r\nQ 15.921875 58.203125 15.921875 53.71875 \r\nz\r\nM 13.09375 20.65625 \r\nQ 13.09375 16.890625 14.875 13.375 \r\nQ 16.65625 9.859375 20.171875 7.921875 \r\nQ 23.6875 6 27.734375 6 \r\nQ 34.03125 6 38.125 10.046875 \r\nQ 42.234375 14.109375 42.234375 20.359375 \r\nQ 42.234375 26.703125 38.015625 30.859375 \r\nQ 33.796875 35.015625 27.4375 35.015625 \r\nQ 21.234375 35.015625 17.15625 30.90625 \r\nQ 13.09375 26.8125 13.09375 20.65625 \r\nz\r\n\" id=\"ArialMT-56\"/>\r\n      </defs>\r\n      <g style=\"fill:#262626;\" transform=\"translate(13.317031 73.402092)scale(0.11 -0.11)\">\r\n       <use xlink:href=\"#ArialMT-56\"/>\r\n       <use x=\"55.615234\" xlink:href=\"#ArialMT-48\"/>\r\n       <use x=\"111.230469\" xlink:href=\"#ArialMT-48\"/>\r\n      </g>\r\n     </g>\r\n    </g>\r\n    <g id=\"ytick_7\">\r\n     <g id=\"text_12\">\r\n      <!-- 900 -->\r\n      <defs>\r\n       <path d=\"M 5.46875 16.546875 \r\nL 13.921875 17.328125 \r\nQ 14.984375 11.375 18.015625 8.6875 \r\nQ 21.046875 6 25.78125 6 \r\nQ 29.828125 6 32.875 7.859375 \r\nQ 35.9375 9.71875 37.890625 12.8125 \r\nQ 39.84375 15.921875 41.15625 21.1875 \r\nQ 42.484375 26.46875 42.484375 31.9375 \r\nQ 42.484375 32.515625 42.4375 33.6875 \r\nQ 39.796875 29.5 35.234375 26.875 \r\nQ 30.671875 24.265625 25.34375 24.265625 \r\nQ 16.453125 24.265625 10.296875 30.703125 \r\nQ 4.15625 37.15625 4.15625 47.703125 \r\nQ 4.15625 58.59375 10.578125 65.234375 \r\nQ 17 71.875 26.65625 71.875 \r\nQ 33.640625 71.875 39.421875 68.109375 \r\nQ 45.21875 64.359375 48.21875 57.390625 \r\nQ 51.21875 50.4375 51.21875 37.25 \r\nQ 51.21875 23.53125 48.234375 15.40625 \r\nQ 45.265625 7.28125 39.375 3.03125 \r\nQ 33.5 -1.21875 25.59375 -1.21875 \r\nQ 17.1875 -1.21875 11.859375 3.4375 \r\nQ 6.546875 8.109375 5.46875 16.546875 \r\nz\r\nM 41.453125 48.140625 \r\nQ 41.453125 55.71875 37.421875 60.15625 \r\nQ 33.40625 64.59375 27.734375 64.59375 \r\nQ 21.875 64.59375 17.53125 59.8125 \r\nQ 13.1875 55.03125 13.1875 47.40625 \r\nQ 13.1875 40.578125 17.3125 36.296875 \r\nQ 21.4375 32.03125 27.484375 32.03125 \r\nQ 33.59375 32.03125 37.515625 36.296875 \r\nQ 41.453125 40.578125 41.453125 48.140625 \r\nz\r\n\" id=\"ArialMT-57\"/>\r\n      </defs>\r\n      <g style=\"fill:#262626;\" transform=\"translate(13.317031 44.327015)scale(0.11 -0.11)\">\r\n       <use xlink:href=\"#ArialMT-57\"/>\r\n       <use x=\"55.615234\" xlink:href=\"#ArialMT-48\"/>\r\n       <use x=\"111.230469\" xlink:href=\"#ArialMT-48\"/>\r\n      </g>\r\n     </g>\r\n    </g>\r\n    <g id=\"ytick_8\">\r\n     <g id=\"text_13\">\r\n      <!-- 1000 -->\r\n      <g style=\"fill:#262626;\" transform=\"translate(7.2 15.251938)scale(0.11 -0.11)\">\r\n       <use xlink:href=\"#ArialMT-49\"/>\r\n       <use x=\"55.615234\" xlink:href=\"#ArialMT-48\"/>\r\n       <use x=\"111.230469\" xlink:href=\"#ArialMT-48\"/>\r\n       <use x=\"166.845703\" xlink:href=\"#ArialMT-48\"/>\r\n      </g>\r\n     </g>\r\n    </g>\r\n   </g>\r\n   <g id=\"line2d_1\">\r\n    <path clip-path=\"url(#p1fe48989af)\" d=\"M 56.386307 186.637856 \r\nL 62.862129 185.765604 \r\nL 69.337951 157.272029 \r\nL 75.813773 146.223499 \r\nL 82.289595 128.778453 \r\nL 88.765417 130.232207 \r\nL 95.241239 112.78716 \r\nL 101.717061 111.914908 \r\nL 108.192883 154.07377 \r\nL 114.668705 175.007826 \r\nL 121.144527 184.0211 \r\nL 127.620349 165.41305 \r\nL 134.096171 177.624583 \r\nL 140.571993 179.078336 \r\nL 147.047816 154.655272 \r\nL 153.523638 146.223499 \r\nL 159.99946 124.707942 \r\nL 166.475282 124.998693 \r\nL 172.951104 102.320133 \r\nL 179.426926 96.505117 \r\nL 185.902748 154.07377 \r\nL 192.37857 170.646564 \r\nL 198.854392 182.276595 \r\nL 205.330214 164.831549 \r\nL 211.806036 170.065062 \r\nL 218.281858 169.774312 \r\nL 224.75768 136.919474 \r\nL 231.233502 124.707942 \r\nL 237.709324 96.795868 \r\nL 244.185146 109.879653 \r\nL 250.660968 79.060071 \r\nL 257.13679 74.408059 \r\nL 263.612612 132.558213 \r\nL 270.088434 152.910767 \r\nL 276.564257 162.214792 \r\nL 283.040079 137.210225 \r\nL 289.515901 149.421758 \r\nL 295.991723 150.875512 \r\nL 302.467545 131.39521 \r\nL 308.943367 95.632865 \r\nL 315.419189 71.500551 \r\nL 321.895011 84.293585 \r\nL 328.370833 48.821991 \r\nL 334.846655 55.509258 \r\nL 341.322477 115.985419 \r\nL 347.798299 133.139714 \r\nL 354.274121 151.166262 \r\nL 360.749943 126.161696 \r\n\" style=\"fill:none;stroke:#4c72b0;stroke-linecap:round;stroke-width:1.5;\"/>\r\n   </g>\r\n   <g id=\"line2d_2\">\r\n    <path clip-path=\"url(#p1fe48989af)\" d=\"M 56.386307 160.574957 \r\nL 62.862129 156.167176 \r\nL 69.337951 174.981658 \r\nL 75.813773 137.745207 \r\nL 82.289595 85.703726 \r\nL 88.765417 142.519334 \r\nL 95.241239 113.016854 \r\nL 101.717061 76.00428 \r\nL 108.192883 142.993258 \r\nL 114.668705 190.76361 \r\nL 121.144527 141.699417 \r\nL 127.620349 185.274235 \r\nL 134.096171 194.206099 \r\nL 140.571993 209.493775 \r\nL 147.047816 163.264402 \r\nL 153.523638 180.340195 \r\nL 159.99946 177.136121 \r\nL 166.475282 94.690832 \r\nL 172.951104 110.68794 \r\nL 179.426926 69.314105 \r\nL 185.902748 115.854581 \r\nL 192.37857 125.728477 \r\nL 198.854392 177.950223 \r\nL 205.330214 152.771207 \r\nL 211.806036 214.756364 \r\nL 218.281858 205.873928 \r\nL 224.75768 172.96094 \r\nL 231.233502 119.236013 \r\nL 237.709324 121.695764 \r\nL 244.185146 103.599436 \r\nL 250.660968 103.006304 \r\nL 257.13679 84.447683 \r\nL 263.612612 107.710652 \r\nL 270.088434 156.891145 \r\nL 276.564257 185.207363 \r\nL 283.040079 126.144251 \r\nL 289.515901 177.121584 \r\nL 295.991723 126.783903 \r\nL 302.467545 128.73484 \r\nL 308.943367 121.977792 \r\nL 315.419189 81.586695 \r\nL 321.895011 17.083636 \r\nL 328.370833 38.907389 \r\nL 334.846655 73.937042 \r\nL 341.322477 93.021923 \r\nL 347.798299 136.250748 \r\nL 354.274121 148.665806 \r\nL 360.749943 139.318168 \r\n\" style=\"fill:none;stroke:#dd8452;stroke-linecap:round;stroke-width:1.5;\"/>\r\n   </g>\r\n   <g id=\"patch_3\">\r\n    <path d=\"M 41.168125 224.64 \r\nL 41.168125 7.2 \r\n\" style=\"fill:none;stroke:#262626;stroke-linecap:square;stroke-linejoin:miter;stroke-width:1.25;\"/>\r\n   </g>\r\n   <g id=\"patch_4\">\r\n    <path d=\"M 375.968125 224.64 \r\nL 375.968125 7.2 \r\n\" style=\"fill:none;stroke:#262626;stroke-linecap:square;stroke-linejoin:miter;stroke-width:1.25;\"/>\r\n   </g>\r\n   <g id=\"patch_5\">\r\n    <path d=\"M 41.168125 224.64 \r\nL 375.968125 224.64 \r\n\" style=\"fill:none;stroke:#262626;stroke-linecap:square;stroke-linejoin:miter;stroke-width:1.25;\"/>\r\n   </g>\r\n   <g id=\"patch_6\">\r\n    <path d=\"M 41.168125 7.2 \r\nL 375.968125 7.2 \r\n\" style=\"fill:none;stroke:#262626;stroke-linecap:square;stroke-linejoin:miter;stroke-width:1.25;\"/>\r\n   </g>\r\n   <g id=\"legend_1\">\r\n    <g id=\"patch_7\">\r\n     <path d=\"M 48.868125 47.248594 \r\nL 178.222969 47.248594 \r\nQ 180.422969 47.248594 180.422969 45.048594 \r\nL 180.422969 14.9 \r\nQ 180.422969 12.7 178.222969 12.7 \r\nL 48.868125 12.7 \r\nQ 46.668125 12.7 46.668125 14.9 \r\nL 46.668125 45.048594 \r\nQ 46.668125 47.248594 48.868125 47.248594 \r\nz\r\n\" style=\"fill:#ffffff;opacity:0.8;stroke:#cccccc;stroke-linejoin:miter;\"/>\r\n    </g>\r\n    <g id=\"line2d_3\">\r\n     <path d=\"M 51.068125 21.123594 \r\nL 73.068125 21.123594 \r\n\" style=\"fill:none;stroke:#4c72b0;stroke-linecap:round;stroke-width:1.5;\"/>\r\n    </g>\r\n    <g id=\"line2d_4\"/>\r\n    <g id=\"text_14\">\r\n     <!-- Sales -->\r\n     <defs>\r\n      <path d=\"M 4.5 23 \r\nL 13.421875 23.78125 \r\nQ 14.0625 18.40625 16.375 14.96875 \r\nQ 18.703125 11.53125 23.578125 9.40625 \r\nQ 28.46875 7.28125 34.578125 7.28125 \r\nQ 39.984375 7.28125 44.140625 8.890625 \r\nQ 48.296875 10.5 50.3125 13.296875 \r\nQ 52.34375 16.109375 52.34375 19.4375 \r\nQ 52.34375 22.796875 50.390625 25.3125 \r\nQ 48.4375 27.828125 43.953125 29.546875 \r\nQ 41.0625 30.671875 31.203125 33.03125 \r\nQ 21.34375 35.40625 17.390625 37.5 \r\nQ 12.25 40.1875 9.734375 44.15625 \r\nQ 7.234375 48.140625 7.234375 53.078125 \r\nQ 7.234375 58.5 10.296875 63.203125 \r\nQ 13.375 67.921875 19.28125 70.359375 \r\nQ 25.203125 72.796875 32.421875 72.796875 \r\nQ 40.375 72.796875 46.453125 70.234375 \r\nQ 52.546875 67.671875 55.8125 62.6875 \r\nQ 59.078125 57.71875 59.328125 51.421875 \r\nL 50.25 50.734375 \r\nQ 49.515625 57.515625 45.28125 60.984375 \r\nQ 41.0625 64.453125 32.8125 64.453125 \r\nQ 24.21875 64.453125 20.28125 61.296875 \r\nQ 16.359375 58.15625 16.359375 53.71875 \r\nQ 16.359375 49.859375 19.140625 47.359375 \r\nQ 21.875 44.875 33.421875 42.265625 \r\nQ 44.96875 39.65625 49.265625 37.703125 \r\nQ 55.515625 34.8125 58.484375 30.390625 \r\nQ 61.46875 25.984375 61.46875 20.21875 \r\nQ 61.46875 14.5 58.203125 9.4375 \r\nQ 54.9375 4.390625 48.796875 1.578125 \r\nQ 42.671875 -1.21875 35.015625 -1.21875 \r\nQ 25.296875 -1.21875 18.71875 1.609375 \r\nQ 12.15625 4.4375 8.421875 10.125 \r\nQ 4.6875 15.828125 4.5 23 \r\nz\r\n\" id=\"ArialMT-83\"/>\r\n      <path d=\"M 40.4375 6.390625 \r\nQ 35.546875 2.25 31.03125 0.53125 \r\nQ 26.515625 -1.171875 21.34375 -1.171875 \r\nQ 12.796875 -1.171875 8.203125 3 \r\nQ 3.609375 7.171875 3.609375 13.671875 \r\nQ 3.609375 17.484375 5.34375 20.625 \r\nQ 7.078125 23.78125 9.890625 25.6875 \r\nQ 12.703125 27.59375 16.21875 28.5625 \r\nQ 18.796875 29.25 24.03125 29.890625 \r\nQ 34.671875 31.15625 39.703125 32.90625 \r\nQ 39.75 34.71875 39.75 35.203125 \r\nQ 39.75 40.578125 37.25 42.78125 \r\nQ 33.890625 45.75 27.25 45.75 \r\nQ 21.046875 45.75 18.09375 43.578125 \r\nQ 15.140625 41.40625 13.71875 35.890625 \r\nL 5.125 37.0625 \r\nQ 6.296875 42.578125 8.984375 45.96875 \r\nQ 11.671875 49.359375 16.75 51.1875 \r\nQ 21.828125 53.03125 28.515625 53.03125 \r\nQ 35.15625 53.03125 39.296875 51.46875 \r\nQ 43.453125 49.90625 45.40625 47.53125 \r\nQ 47.359375 45.171875 48.140625 41.546875 \r\nQ 48.578125 39.3125 48.578125 33.453125 \r\nL 48.578125 21.734375 \r\nQ 48.578125 9.46875 49.140625 6.21875 \r\nQ 49.703125 2.984375 51.375 0 \r\nL 42.1875 0 \r\nQ 40.828125 2.734375 40.4375 6.390625 \r\nz\r\nM 39.703125 26.03125 \r\nQ 34.90625 24.078125 25.34375 22.703125 \r\nQ 19.921875 21.921875 17.671875 20.9375 \r\nQ 15.4375 19.96875 14.203125 18.09375 \r\nQ 12.984375 16.21875 12.984375 13.921875 \r\nQ 12.984375 10.40625 15.640625 8.0625 \r\nQ 18.3125 5.71875 23.4375 5.71875 \r\nQ 28.515625 5.71875 32.46875 7.9375 \r\nQ 36.421875 10.15625 38.28125 14.015625 \r\nQ 39.703125 17 39.703125 22.796875 \r\nz\r\n\" id=\"ArialMT-97\"/>\r\n      <path d=\"M 6.390625 0 \r\nL 6.390625 71.578125 \r\nL 15.1875 71.578125 \r\nL 15.1875 0 \r\nz\r\n\" id=\"ArialMT-108\"/>\r\n      <path d=\"M 42.09375 16.703125 \r\nL 51.171875 15.578125 \r\nQ 49.03125 7.625 43.21875 3.21875 \r\nQ 37.40625 -1.171875 28.375 -1.171875 \r\nQ 17 -1.171875 10.328125 5.828125 \r\nQ 3.65625 12.84375 3.65625 25.484375 \r\nQ 3.65625 38.578125 10.390625 45.796875 \r\nQ 17.140625 53.03125 27.875 53.03125 \r\nQ 38.28125 53.03125 44.875 45.953125 \r\nQ 51.46875 38.875 51.46875 26.03125 \r\nQ 51.46875 25.25 51.421875 23.6875 \r\nL 12.75 23.6875 \r\nQ 13.234375 15.140625 17.578125 10.59375 \r\nQ 21.921875 6.0625 28.421875 6.0625 \r\nQ 33.25 6.0625 36.671875 8.59375 \r\nQ 40.09375 11.140625 42.09375 16.703125 \r\nz\r\nM 13.234375 30.90625 \r\nL 42.1875 30.90625 \r\nQ 41.609375 37.453125 38.875 40.71875 \r\nQ 34.671875 45.796875 27.984375 45.796875 \r\nQ 21.921875 45.796875 17.796875 41.75 \r\nQ 13.671875 37.703125 13.234375 30.90625 \r\nz\r\n\" id=\"ArialMT-101\"/>\r\n      <path d=\"M 3.078125 15.484375 \r\nL 11.765625 16.84375 \r\nQ 12.5 11.625 15.84375 8.84375 \r\nQ 19.1875 6.0625 25.203125 6.0625 \r\nQ 31.25 6.0625 34.171875 8.515625 \r\nQ 37.109375 10.984375 37.109375 14.3125 \r\nQ 37.109375 17.28125 34.515625 19 \r\nQ 32.71875 20.171875 25.53125 21.96875 \r\nQ 15.875 24.421875 12.140625 26.203125 \r\nQ 8.40625 27.984375 6.46875 31.125 \r\nQ 4.546875 34.28125 4.546875 38.09375 \r\nQ 4.546875 41.546875 6.125 44.5 \r\nQ 7.71875 47.46875 10.453125 49.421875 \r\nQ 12.5 50.921875 16.03125 51.96875 \r\nQ 19.578125 53.03125 23.640625 53.03125 \r\nQ 29.734375 53.03125 34.34375 51.265625 \r\nQ 38.96875 49.515625 41.15625 46.5 \r\nQ 43.359375 43.5 44.1875 38.484375 \r\nL 35.59375 37.3125 \r\nQ 35.015625 41.3125 32.203125 43.546875 \r\nQ 29.390625 45.796875 24.265625 45.796875 \r\nQ 18.21875 45.796875 15.625 43.796875 \r\nQ 13.03125 41.796875 13.03125 39.109375 \r\nQ 13.03125 37.40625 14.109375 36.03125 \r\nQ 15.1875 34.625 17.484375 33.6875 \r\nQ 18.796875 33.203125 25.25 31.453125 \r\nQ 34.578125 28.953125 38.25 27.359375 \r\nQ 41.9375 25.78125 44.03125 22.75 \r\nQ 46.140625 19.734375 46.140625 15.234375 \r\nQ 46.140625 10.84375 43.578125 6.953125 \r\nQ 41.015625 3.078125 36.171875 0.953125 \r\nQ 31.34375 -1.171875 25.25 -1.171875 \r\nQ 15.140625 -1.171875 9.84375 3.03125 \r\nQ 4.546875 7.234375 3.078125 15.484375 \r\nz\r\n\" id=\"ArialMT-115\"/>\r\n     </defs>\r\n     <g style=\"fill:#262626;\" transform=\"translate(81.868125 24.973594)scale(0.11 -0.11)\">\r\n      <use xlink:href=\"#ArialMT-83\"/>\r\n      <use x=\"66.699219\" xlink:href=\"#ArialMT-97\"/>\r\n      <use x=\"122.314453\" xlink:href=\"#ArialMT-108\"/>\r\n      <use x=\"144.53125\" xlink:href=\"#ArialMT-101\"/>\r\n      <use x=\"200.146484\" xlink:href=\"#ArialMT-115\"/>\r\n     </g>\r\n    </g>\r\n    <g id=\"line2d_5\">\r\n     <path d=\"M 51.068125 36.683437 \r\nL 73.068125 36.683437 \r\n\" style=\"fill:none;stroke:#dd8452;stroke-linecap:round;stroke-width:1.5;\"/>\r\n    </g>\r\n    <g id=\"line2d_6\"/>\r\n    <g id=\"text_15\">\r\n     <!-- Marketing Expense -->\r\n     <defs>\r\n      <path d=\"M 7.421875 0 \r\nL 7.421875 71.578125 \r\nL 21.6875 71.578125 \r\nL 38.625 20.90625 \r\nQ 40.96875 13.8125 42.046875 10.296875 \r\nQ 43.265625 14.203125 45.84375 21.78125 \r\nL 62.984375 71.578125 \r\nL 75.734375 71.578125 \r\nL 75.734375 0 \r\nL 66.609375 0 \r\nL 66.609375 59.90625 \r\nL 45.796875 0 \r\nL 37.25 0 \r\nL 16.546875 60.9375 \r\nL 16.546875 0 \r\nz\r\n\" id=\"ArialMT-77\"/>\r\n      <path d=\"M 6.5 0 \r\nL 6.5 51.859375 \r\nL 14.40625 51.859375 \r\nL 14.40625 44 \r\nQ 17.4375 49.515625 20 51.265625 \r\nQ 22.5625 53.03125 25.640625 53.03125 \r\nQ 30.078125 53.03125 34.671875 50.203125 \r\nL 31.640625 42.046875 \r\nQ 28.421875 43.953125 25.203125 43.953125 \r\nQ 22.3125 43.953125 20.015625 42.21875 \r\nQ 17.71875 40.484375 16.75 37.40625 \r\nQ 15.28125 32.71875 15.28125 27.15625 \r\nL 15.28125 0 \r\nz\r\n\" id=\"ArialMT-114\"/>\r\n      <path d=\"M 6.640625 0 \r\nL 6.640625 71.578125 \r\nL 15.4375 71.578125 \r\nL 15.4375 30.765625 \r\nL 36.234375 51.859375 \r\nL 47.609375 51.859375 \r\nL 27.78125 32.625 \r\nL 49.609375 0 \r\nL 38.765625 0 \r\nL 21.625 26.515625 \r\nL 15.4375 20.5625 \r\nL 15.4375 0 \r\nz\r\n\" id=\"ArialMT-107\"/>\r\n      <path d=\"M 25.78125 7.859375 \r\nL 27.046875 0.09375 \r\nQ 23.34375 -0.6875 20.40625 -0.6875 \r\nQ 15.625 -0.6875 12.984375 0.828125 \r\nQ 10.359375 2.34375 9.28125 4.8125 \r\nQ 8.203125 7.28125 8.203125 15.1875 \r\nL 8.203125 45.015625 \r\nL 1.765625 45.015625 \r\nL 1.765625 51.859375 \r\nL 8.203125 51.859375 \r\nL 8.203125 64.703125 \r\nL 16.9375 69.96875 \r\nL 16.9375 51.859375 \r\nL 25.78125 51.859375 \r\nL 25.78125 45.015625 \r\nL 16.9375 45.015625 \r\nL 16.9375 14.703125 \r\nQ 16.9375 10.9375 17.40625 9.859375 \r\nQ 17.875 8.796875 18.921875 8.15625 \r\nQ 19.96875 7.515625 21.921875 7.515625 \r\nQ 23.390625 7.515625 25.78125 7.859375 \r\nz\r\n\" id=\"ArialMT-116\"/>\r\n      <path d=\"M 6.640625 61.46875 \r\nL 6.640625 71.578125 \r\nL 15.4375 71.578125 \r\nL 15.4375 61.46875 \r\nz\r\nM 6.640625 0 \r\nL 6.640625 51.859375 \r\nL 15.4375 51.859375 \r\nL 15.4375 0 \r\nz\r\n\" id=\"ArialMT-105\"/>\r\n      <path d=\"M 6.59375 0 \r\nL 6.59375 51.859375 \r\nL 14.5 51.859375 \r\nL 14.5 44.484375 \r\nQ 20.21875 53.03125 31 53.03125 \r\nQ 35.6875 53.03125 39.625 51.34375 \r\nQ 43.5625 49.65625 45.515625 46.921875 \r\nQ 47.46875 44.1875 48.25 40.4375 \r\nQ 48.734375 37.984375 48.734375 31.890625 \r\nL 48.734375 0 \r\nL 39.9375 0 \r\nL 39.9375 31.546875 \r\nQ 39.9375 36.921875 38.90625 39.578125 \r\nQ 37.890625 42.234375 35.28125 43.8125 \r\nQ 32.671875 45.40625 29.15625 45.40625 \r\nQ 23.53125 45.40625 19.453125 41.84375 \r\nQ 15.375 38.28125 15.375 28.328125 \r\nL 15.375 0 \r\nz\r\n\" id=\"ArialMT-110\"/>\r\n      <path d=\"M 4.984375 -4.296875 \r\nL 13.53125 -5.5625 \r\nQ 14.0625 -9.515625 16.5 -11.328125 \r\nQ 19.78125 -13.765625 25.4375 -13.765625 \r\nQ 31.546875 -13.765625 34.859375 -11.328125 \r\nQ 38.1875 -8.890625 39.359375 -4.5 \r\nQ 40.046875 -1.8125 39.984375 6.78125 \r\nQ 34.234375 0 25.640625 0 \r\nQ 14.9375 0 9.078125 7.71875 \r\nQ 3.21875 15.4375 3.21875 26.21875 \r\nQ 3.21875 33.640625 5.90625 39.90625 \r\nQ 8.59375 46.1875 13.6875 49.609375 \r\nQ 18.796875 53.03125 25.6875 53.03125 \r\nQ 34.859375 53.03125 40.828125 45.609375 \r\nL 40.828125 51.859375 \r\nL 48.921875 51.859375 \r\nL 48.921875 7.03125 \r\nQ 48.921875 -5.078125 46.453125 -10.125 \r\nQ 44 -15.1875 38.640625 -18.109375 \r\nQ 33.296875 -21.046875 25.484375 -21.046875 \r\nQ 16.21875 -21.046875 10.5 -16.875 \r\nQ 4.78125 -12.703125 4.984375 -4.296875 \r\nz\r\nM 12.25 26.859375 \r\nQ 12.25 16.65625 16.296875 11.96875 \r\nQ 20.359375 7.28125 26.46875 7.28125 \r\nQ 32.515625 7.28125 36.609375 11.9375 \r\nQ 40.71875 16.609375 40.71875 26.5625 \r\nQ 40.71875 36.078125 36.5 40.90625 \r\nQ 32.28125 45.75 26.3125 45.75 \r\nQ 20.453125 45.75 16.34375 40.984375 \r\nQ 12.25 36.234375 12.25 26.859375 \r\nz\r\n\" id=\"ArialMT-103\"/>\r\n      <path id=\"ArialMT-32\"/>\r\n      <path d=\"M 7.90625 0 \r\nL 7.90625 71.578125 \r\nL 59.671875 71.578125 \r\nL 59.671875 63.140625 \r\nL 17.390625 63.140625 \r\nL 17.390625 41.21875 \r\nL 56.984375 41.21875 \r\nL 56.984375 32.8125 \r\nL 17.390625 32.8125 \r\nL 17.390625 8.453125 \r\nL 61.328125 8.453125 \r\nL 61.328125 0 \r\nz\r\n\" id=\"ArialMT-69\"/>\r\n      <path d=\"M 0.734375 0 \r\nL 19.671875 26.953125 \r\nL 2.15625 51.859375 \r\nL 13.140625 51.859375 \r\nL 21.09375 39.703125 \r\nQ 23.34375 36.234375 24.703125 33.890625 \r\nQ 26.859375 37.109375 28.65625 39.59375 \r\nL 37.40625 51.859375 \r\nL 47.90625 51.859375 \r\nL 29.984375 27.4375 \r\nL 49.265625 0 \r\nL 38.484375 0 \r\nL 27.828125 16.109375 \r\nL 25 20.453125 \r\nL 11.375 0 \r\nz\r\n\" id=\"ArialMT-120\"/>\r\n      <path d=\"M 6.59375 -19.875 \r\nL 6.59375 51.859375 \r\nL 14.59375 51.859375 \r\nL 14.59375 45.125 \r\nQ 17.4375 49.078125 21 51.046875 \r\nQ 24.5625 53.03125 29.640625 53.03125 \r\nQ 36.28125 53.03125 41.359375 49.609375 \r\nQ 46.4375 46.1875 49.015625 39.953125 \r\nQ 51.609375 33.734375 51.609375 26.3125 \r\nQ 51.609375 18.359375 48.75 11.984375 \r\nQ 45.90625 5.609375 40.453125 2.21875 \r\nQ 35.015625 -1.171875 29 -1.171875 \r\nQ 24.609375 -1.171875 21.109375 0.6875 \r\nQ 17.625 2.546875 15.375 5.375 \r\nL 15.375 -19.875 \r\nz\r\nM 14.546875 25.640625 \r\nQ 14.546875 15.625 18.59375 10.84375 \r\nQ 22.65625 6.0625 28.421875 6.0625 \r\nQ 34.28125 6.0625 38.453125 11.015625 \r\nQ 42.625 15.96875 42.625 26.375 \r\nQ 42.625 36.28125 38.546875 41.203125 \r\nQ 34.46875 46.140625 28.8125 46.140625 \r\nQ 23.1875 46.140625 18.859375 40.890625 \r\nQ 14.546875 35.640625 14.546875 25.640625 \r\nz\r\n\" id=\"ArialMT-112\"/>\r\n     </defs>\r\n     <g style=\"fill:#262626;\" transform=\"translate(81.868125 40.533437)scale(0.11 -0.11)\">\r\n      <use xlink:href=\"#ArialMT-77\"/>\r\n      <use x=\"83.300781\" xlink:href=\"#ArialMT-97\"/>\r\n      <use x=\"138.916016\" xlink:href=\"#ArialMT-114\"/>\r\n      <use x=\"172.216797\" xlink:href=\"#ArialMT-107\"/>\r\n      <use x=\"222.216797\" xlink:href=\"#ArialMT-101\"/>\r\n      <use x=\"277.832031\" xlink:href=\"#ArialMT-116\"/>\r\n      <use x=\"305.615234\" xlink:href=\"#ArialMT-105\"/>\r\n      <use x=\"327.832031\" xlink:href=\"#ArialMT-110\"/>\r\n      <use x=\"383.447266\" xlink:href=\"#ArialMT-103\"/>\r\n      <use x=\"439.0625\" xlink:href=\"#ArialMT-32\"/>\r\n      <use x=\"466.845703\" xlink:href=\"#ArialMT-69\"/>\r\n      <use x=\"533.544922\" xlink:href=\"#ArialMT-120\"/>\r\n      <use x=\"583.544922\" xlink:href=\"#ArialMT-112\"/>\r\n      <use x=\"639.160156\" xlink:href=\"#ArialMT-101\"/>\r\n      <use x=\"694.775391\" xlink:href=\"#ArialMT-110\"/>\r\n      <use x=\"750.390625\" xlink:href=\"#ArialMT-115\"/>\r\n      <use x=\"800.390625\" xlink:href=\"#ArialMT-101\"/>\r\n     </g>\r\n    </g>\r\n   </g>\r\n  </g>\r\n </g>\r\n <defs>\r\n  <clipPath id=\"p1fe48989af\">\r\n   <rect height=\"217.44\" width=\"334.8\" x=\"41.168125\" y=\"7.2\"/>\r\n  </clipPath>\r\n </defs>\r\n</svg>\r\n",
      "image/png": "[encoded data removed]"
     },
     "metadata": {}
    }
   ],
   "source": [
    "dataset[['Sales', 'Marketing Expense']].plot()"
   ]
  },
  {
   "cell_type": "markdown",
   "metadata": {},
   "source": [
    "# Train Model"
   ]
  },
  {
   "cell_type": "code",
   "execution_count": 5,
   "metadata": {},
   "outputs": [],
   "source": [
    "ts_column = 'Time Period'\n",
    "target = 'Sales'\n",
    "sep = ','"
   ]
  },
  {
   "cell_type": "code",
   "execution_count": 6,
   "metadata": {},
   "outputs": [],
   "source": [
    "FORECAST_PERIOD = 3"
   ]
  },
  {
   "cell_type": "code",
   "execution_count": 7,
   "metadata": {
    "tags": []
   },
   "outputs": [
    {
     "output_type": "stream",
     "name": "stdout",
     "text": [
      "(45, 3) (3, 3)\n"
     ]
    }
   ],
   "source": [
    "train = dataset[:-FORECAST_PERIOD]\n",
    "test = dataset[-FORECAST_PERIOD:]\n",
    "print(train.shape, test.shape)"
   ]
  },
  {
   "cell_type": "code",
   "execution_count": 8,
   "metadata": {},
   "outputs": [],
   "source": [
    "automl_model = ATS(\n",
    "    score_type='rmse',\n",
    "    forecast_period=FORECAST_PERIOD,\n",
    "    model_type='best', verbose=0\n",
    ")        "
   ]
  },
  {
   "cell_type": "code",
   "execution_count": 9,
   "metadata": {
    "tags": []
   },
   "outputs": [
    {
     "output_type": "stream",
     "name": "stdout",
     "text": [
      "Start of Fit.....\n",
      "    Target variable = Sales\n",
      "Start of loading of data.....\n",
      "Input is data frame. Performing Time Series Analysis\n",
      "ts_column: Time Period sep: , target: Sales\n",
      "    Dataframe loaded successfully. Shape of data set = (45, 2)\n",
      "Time Interval of obserations has not been provided. Program will try to figure this out now...\n",
      "Time series input in days = 31\n",
      "It is a Monthly time series.\n",
      "\u001b[1mWARNING: Running best models will take time... Be Patient...\u001b[0m\n",
      "\n",
      "\n",
      "==================================================\n",
      "Building Prophet Model\n",
      "==================================================\n",
      "\n",
      "\n",
      "\u001b[1m\n",
      "Running Facebook Prophet Model...\u001b[0m\n",
      "INFO:numexpr.utils:NumExpr defaulting to 8 threads.\n",
      "  Starting Prophet Fit\n",
      "  End of Prophet Fit\n",
      "  Starting Prophet Cross Validation\n",
      "  End of Prophet Cross Validation\n",
      "    RMSE = 80.21\n",
      "    Std Deviation of Originals = 126.24\n",
      "    Normalized RMSE = 64%\n",
      "    RMSE = 47.00\n",
      "    Std Deviation of Originals = 126.24\n",
      "    Normalized RMSE = 37%\n",
      "\n",
      "\n",
      "==================================================\n",
      "Building Auto SARIMAX Model\n",
      "==================================================\n",
      "\n",
      "\n",
      "\u001b[1m\n",
      "Running Auto SARIMAX Model...\u001b[0m\n",
      "Performing stepwise search to minimize aic\n",
      "Fit ARIMA(0,1,0)x(0,0,0,0) [intercept=True]; AIC=516.877, BIC=520.446, Time=0.016 seconds\n",
      "Fit ARIMA(1,1,0)x(0,0,0,0) [intercept=True]; AIC=517.837, BIC=523.190, Time=0.047 seconds\n",
      "Fit ARIMA(0,1,1)x(0,0,0,0) [intercept=True]; AIC=517.547, BIC=522.899, Time=0.073 seconds\n",
      "Fit ARIMA(0,1,0)x(0,0,0,0) [intercept=False]; AIC=515.075, BIC=516.860, Time=0.013 seconds\n",
      "Fit ARIMA(1,1,1)x(0,0,0,0) [intercept=True]; AIC=513.891, BIC=521.027, Time=0.094 seconds\n",
      "Near non-invertible roots for order (1, 1, 1)(0, 0, 0, 0); setting score to inf (at least one inverse root too close to the border of the unit circle: 0.998)\n",
      "Total fit time: 0.252 seconds\n",
      "\u001b[1mRefitting data with previously found best parameters\u001b[0m\n",
      "    Best aic metric = 485.3\n",
      "\n",
      "\n",
      "==================================================\n",
      "Building VAR Model\n",
      "==================================================\n",
      "\n",
      "\n",
      "\u001b[1m\n",
      "Running VAR Model...\u001b[0m\n",
      "    Shifting 1 predictors by 1 to align prior predictor values with current target values...\n",
      "\n",
      "Additional Variable in VAR model = Marketing Expense\n",
      " Iteration 1 completed\n",
      " Iteration 2 completed\n",
      " Iteration 3 completed\n",
      " Iteration 4 completed\n",
      " Iteration 5 completed\n",
      " Iteration 6 completed\n",
      " Iteration 7 completed\n",
      " Iteration 8 completed\n",
      " Iteration 9 completed\n",
      " Iteration 10 completed\n",
      " Iteration 11 completed\n",
      " Iteration 12 completed\n",
      " Iteration 13 completed\n",
      " Iteration 14 completed\n",
      " Iteration 15 completed\n",
      " Iteration 16 completed\n",
      "    Best AR order p = 2, MA order q = 0, Interim metric = 1042.043\n",
      "Best variable selected for VAR: Marketing Expense\n",
      "    RMSE = 69.09\n",
      "    Std Deviation of Originals = 105.65\n",
      "    Normalized RMSE = 65%\n",
      "    RMSE = 186.14\n",
      "    Std Deviation of Originals = 101.66\n",
      "    Normalized RMSE = 183%\n",
      "    RMSE = 196.44\n",
      "    Std Deviation of Originals = 111.62\n",
      "    Normalized RMSE = 176%\n",
      "Refitting data with previously found best parameters\n",
      "    Best aic metric = 1042.0\n",
      "\n",
      "\n",
      "==================================================\n",
      "Building ML Model\n",
      "==================================================\n",
      "\n",
      "\n",
      "\u001b[1m\n",
      "Running Machine Learning Models...\u001b[0m\n",
      "    Shifting 1 predictors by lag=2 to align prior predictor with current target...\n",
      "Fitting ML model\n",
      "\u001b[1m\n",
      "Best Model is: \u001b[0mProphet\n",
      "    Best Model (Mean CV) Score: 63.60\n",
      "\n",
      "\n",
      "--------------------------------------------------\n",
      "Total time taken: 122.17814373970032 seconds.\n",
      "--------------------------------------------------\n",
      "\n",
      "\n"
     ]
    },
    {
     "output_type": "execute_result",
     "data": {
      "text/plain": [
       "<auto_ts.auto_timeseries at 0x255f05dba58>"
      ]
     },
     "metadata": {},
     "execution_count": 9
    }
   ],
   "source": [
    "automl_model.fit(\n",
    "    traindata=train,\n",
    "    ts_column=ts_column,\n",
    "    target=target,\n",
    "    cv=3,\n",
    "    sep=sep)        "
   ]
  },
  {
   "cell_type": "markdown",
   "metadata": {},
   "source": [
    "# Evaluate Results"
   ]
  },
  {
   "cell_type": "code",
   "execution_count": 10,
   "metadata": {},
   "outputs": [
    {
     "output_type": "execute_result",
     "data": {
      "text/plain": [
       "           name        rmse\n",
       "0       Prophet   63.603252\n",
       "3            ML   74.847572\n",
       "1  auto_SARIMAX   89.835589\n",
       "2           VAR  150.557138"
      ],
      "text/html": "<div>\n<style scoped>\n    .dataframe tbody tr th:only-of-type {\n        vertical-align: middle;\n    }\n\n    .dataframe tbody tr th {\n        vertical-align: top;\n    }\n\n    .dataframe thead th {\n        text-align: right;\n    }\n</style>\n<table border=\"1\" class=\"dataframe\">\n  <thead>\n    <tr style=\"text-align: right;\">\n      <th></th>\n      <th>name</th>\n      <th>rmse</th>\n    </tr>\n  </thead>\n  <tbody>\n    <tr>\n      <th>0</th>\n      <td>Prophet</td>\n      <td>63.603252</td>\n    </tr>\n    <tr>\n      <th>3</th>\n      <td>ML</td>\n      <td>74.847572</td>\n    </tr>\n    <tr>\n      <th>1</th>\n      <td>auto_SARIMAX</td>\n      <td>89.835589</td>\n    </tr>\n    <tr>\n      <th>2</th>\n      <td>VAR</td>\n      <td>150.557138</td>\n    </tr>\n  </tbody>\n</table>\n</div>"
     },
     "metadata": {},
     "execution_count": 10
    }
   ],
   "source": [
    "automl_model.get_leaderboard()"
   ]
  },
  {
   "cell_type": "code",
   "execution_count": 11,
   "metadata": {},
   "outputs": [
    {
     "output_type": "execute_result",
     "data": {
      "text/plain": [
       "<matplotlib.axes._subplots.AxesSubplot at 0x255f1ebdfd0>"
      ]
     },
     "metadata": {},
     "execution_count": 11
    },
    {
     "output_type": "display_data",
     "data": {
      "text/plain": "<Figure size 432x288 with 1 Axes>",
      "image/svg+xml": "<?xml version=\"1.0\" encoding=\"utf-8\" standalone=\"no\"?>\r\n<!DOCTYPE svg PUBLIC \"-//W3C//DTD SVG 1.1//EN\"\r\n  \"http://www.w3.org/Graphics/SVG/1.1/DTD/svg11.dtd\">\r\n<!-- Created with matplotlib (https://matplotlib.org/) -->\r\n<svg height=\"266.508281pt\" version=\"1.1\" viewBox=\"0 0 392.025469 266.508281\" width=\"392.025469pt\" xmlns=\"http://www.w3.org/2000/svg\" xmlns:xlink=\"http://www.w3.org/1999/xlink\">\r\n <defs>\r\n  <style type=\"text/css\">\r\n*{stroke-linecap:butt;stroke-linejoin:round;}\r\n  </style>\r\n </defs>\r\n <g id=\"figure_1\">\r\n  <g id=\"patch_1\">\r\n   <path d=\"M 0 266.508281 \r\nL 392.025469 266.508281 \r\nL 392.025469 0 \r\nL 0 0 \r\nz\r\n\" style=\"fill:#ffffff;\"/>\r\n  </g>\r\n  <g id=\"axes_1\">\r\n   <g id=\"patch_2\">\r\n    <path d=\"M 50.025469 224.64 \r\nL 384.825469 224.64 \r\nL 384.825469 7.2 \r\nL 50.025469 7.2 \r\nz\r\n\" style=\"fill:#ffffff;\"/>\r\n   </g>\r\n   <g id=\"matplotlib.axis_1\">\r\n    <g id=\"xtick_1\">\r\n     <g id=\"text_1\">\r\n      <!-- Prophet -->\r\n      <defs>\r\n       <path d=\"M 7.71875 0 \r\nL 7.71875 71.578125 \r\nL 34.71875 71.578125 \r\nQ 41.84375 71.578125 45.609375 70.90625 \r\nQ 50.875 70.015625 54.4375 67.546875 \r\nQ 58.015625 65.09375 60.1875 60.640625 \r\nQ 62.359375 56.203125 62.359375 50.875 \r\nQ 62.359375 41.75 56.546875 35.421875 \r\nQ 50.734375 29.109375 35.546875 29.109375 \r\nL 17.1875 29.109375 \r\nL 17.1875 0 \r\nz\r\nM 17.1875 37.546875 \r\nL 35.6875 37.546875 \r\nQ 44.875 37.546875 48.734375 40.96875 \r\nQ 52.59375 44.390625 52.59375 50.59375 \r\nQ 52.59375 55.078125 50.3125 58.265625 \r\nQ 48.046875 61.46875 44.34375 62.5 \r\nQ 41.9375 63.140625 35.5 63.140625 \r\nL 17.1875 63.140625 \r\nz\r\n\" id=\"ArialMT-80\"/>\r\n       <path d=\"M 6.5 0 \r\nL 6.5 51.859375 \r\nL 14.40625 51.859375 \r\nL 14.40625 44 \r\nQ 17.4375 49.515625 20 51.265625 \r\nQ 22.5625 53.03125 25.640625 53.03125 \r\nQ 30.078125 53.03125 34.671875 50.203125 \r\nL 31.640625 42.046875 \r\nQ 28.421875 43.953125 25.203125 43.953125 \r\nQ 22.3125 43.953125 20.015625 42.21875 \r\nQ 17.71875 40.484375 16.75 37.40625 \r\nQ 15.28125 32.71875 15.28125 27.15625 \r\nL 15.28125 0 \r\nz\r\n\" id=\"ArialMT-114\"/>\r\n       <path d=\"M 3.328125 25.921875 \r\nQ 3.328125 40.328125 11.328125 47.265625 \r\nQ 18.015625 53.03125 27.640625 53.03125 \r\nQ 38.328125 53.03125 45.109375 46.015625 \r\nQ 51.90625 39.015625 51.90625 26.65625 \r\nQ 51.90625 16.65625 48.90625 10.90625 \r\nQ 45.90625 5.171875 40.15625 2 \r\nQ 34.421875 -1.171875 27.640625 -1.171875 \r\nQ 16.75 -1.171875 10.03125 5.8125 \r\nQ 3.328125 12.796875 3.328125 25.921875 \r\nz\r\nM 12.359375 25.921875 \r\nQ 12.359375 15.96875 16.703125 11.015625 \r\nQ 21.046875 6.0625 27.640625 6.0625 \r\nQ 34.1875 6.0625 38.53125 11.03125 \r\nQ 42.875 16.015625 42.875 26.21875 \r\nQ 42.875 35.84375 38.5 40.796875 \r\nQ 34.125 45.75 27.640625 45.75 \r\nQ 21.046875 45.75 16.703125 40.8125 \r\nQ 12.359375 35.890625 12.359375 25.921875 \r\nz\r\n\" id=\"ArialMT-111\"/>\r\n       <path d=\"M 6.59375 -19.875 \r\nL 6.59375 51.859375 \r\nL 14.59375 51.859375 \r\nL 14.59375 45.125 \r\nQ 17.4375 49.078125 21 51.046875 \r\nQ 24.5625 53.03125 29.640625 53.03125 \r\nQ 36.28125 53.03125 41.359375 49.609375 \r\nQ 46.4375 46.1875 49.015625 39.953125 \r\nQ 51.609375 33.734375 51.609375 26.3125 \r\nQ 51.609375 18.359375 48.75 11.984375 \r\nQ 45.90625 5.609375 40.453125 2.21875 \r\nQ 35.015625 -1.171875 29 -1.171875 \r\nQ 24.609375 -1.171875 21.109375 0.6875 \r\nQ 17.625 2.546875 15.375 5.375 \r\nL 15.375 -19.875 \r\nz\r\nM 14.546875 25.640625 \r\nQ 14.546875 15.625 18.59375 10.84375 \r\nQ 22.65625 6.0625 28.421875 6.0625 \r\nQ 34.28125 6.0625 38.453125 11.015625 \r\nQ 42.625 15.96875 42.625 26.375 \r\nQ 42.625 36.28125 38.546875 41.203125 \r\nQ 34.46875 46.140625 28.8125 46.140625 \r\nQ 23.1875 46.140625 18.859375 40.890625 \r\nQ 14.546875 35.640625 14.546875 25.640625 \r\nz\r\n\" id=\"ArialMT-112\"/>\r\n       <path d=\"M 6.59375 0 \r\nL 6.59375 71.578125 \r\nL 15.375 71.578125 \r\nL 15.375 45.90625 \r\nQ 21.53125 53.03125 30.90625 53.03125 \r\nQ 36.671875 53.03125 40.921875 50.75 \r\nQ 45.171875 48.484375 47 44.484375 \r\nQ 48.828125 40.484375 48.828125 32.859375 \r\nL 48.828125 0 \r\nL 40.046875 0 \r\nL 40.046875 32.859375 \r\nQ 40.046875 39.453125 37.1875 42.453125 \r\nQ 34.328125 45.453125 29.109375 45.453125 \r\nQ 25.203125 45.453125 21.75 43.421875 \r\nQ 18.3125 41.40625 16.84375 37.9375 \r\nQ 15.375 34.46875 15.375 28.375 \r\nL 15.375 0 \r\nz\r\n\" id=\"ArialMT-104\"/>\r\n       <path d=\"M 42.09375 16.703125 \r\nL 51.171875 15.578125 \r\nQ 49.03125 7.625 43.21875 3.21875 \r\nQ 37.40625 -1.171875 28.375 -1.171875 \r\nQ 17 -1.171875 10.328125 5.828125 \r\nQ 3.65625 12.84375 3.65625 25.484375 \r\nQ 3.65625 38.578125 10.390625 45.796875 \r\nQ 17.140625 53.03125 27.875 53.03125 \r\nQ 38.28125 53.03125 44.875 45.953125 \r\nQ 51.46875 38.875 51.46875 26.03125 \r\nQ 51.46875 25.25 51.421875 23.6875 \r\nL 12.75 23.6875 \r\nQ 13.234375 15.140625 17.578125 10.59375 \r\nQ 21.921875 6.0625 28.421875 6.0625 \r\nQ 33.25 6.0625 36.671875 8.59375 \r\nQ 40.09375 11.140625 42.09375 16.703125 \r\nz\r\nM 13.234375 30.90625 \r\nL 42.1875 30.90625 \r\nQ 41.609375 37.453125 38.875 40.71875 \r\nQ 34.671875 45.796875 27.984375 45.796875 \r\nQ 21.921875 45.796875 17.796875 41.75 \r\nQ 13.671875 37.703125 13.234375 30.90625 \r\nz\r\n\" id=\"ArialMT-101\"/>\r\n       <path d=\"M 25.78125 7.859375 \r\nL 27.046875 0.09375 \r\nQ 23.34375 -0.6875 20.40625 -0.6875 \r\nQ 15.625 -0.6875 12.984375 0.828125 \r\nQ 10.359375 2.34375 9.28125 4.8125 \r\nQ 8.203125 7.28125 8.203125 15.1875 \r\nL 8.203125 45.015625 \r\nL 1.765625 45.015625 \r\nL 1.765625 51.859375 \r\nL 8.203125 51.859375 \r\nL 8.203125 64.703125 \r\nL 16.9375 69.96875 \r\nL 16.9375 51.859375 \r\nL 25.78125 51.859375 \r\nL 25.78125 45.015625 \r\nL 16.9375 45.015625 \r\nL 16.9375 14.703125 \r\nQ 16.9375 10.9375 17.40625 9.859375 \r\nQ 17.875 8.796875 18.921875 8.15625 \r\nQ 19.96875 7.515625 21.921875 7.515625 \r\nQ 23.390625 7.515625 25.78125 7.859375 \r\nz\r\n\" id=\"ArialMT-116\"/>\r\n      </defs>\r\n      <g style=\"fill:#262626;\" transform=\"translate(72.613438 242.013594)scale(0.11 -0.11)\">\r\n       <use xlink:href=\"#ArialMT-80\"/>\r\n       <use x=\"66.699219\" xlink:href=\"#ArialMT-114\"/>\r\n       <use x=\"100\" xlink:href=\"#ArialMT-111\"/>\r\n       <use x=\"155.615234\" xlink:href=\"#ArialMT-112\"/>\r\n       <use x=\"211.230469\" xlink:href=\"#ArialMT-104\"/>\r\n       <use x=\"266.845703\" xlink:href=\"#ArialMT-101\"/>\r\n       <use x=\"322.460938\" xlink:href=\"#ArialMT-116\"/>\r\n      </g>\r\n     </g>\r\n    </g>\r\n    <g id=\"xtick_2\">\r\n     <g id=\"text_2\">\r\n      <!-- auto_SARIMAX -->\r\n      <defs>\r\n       <path d=\"M 40.4375 6.390625 \r\nQ 35.546875 2.25 31.03125 0.53125 \r\nQ 26.515625 -1.171875 21.34375 -1.171875 \r\nQ 12.796875 -1.171875 8.203125 3 \r\nQ 3.609375 7.171875 3.609375 13.671875 \r\nQ 3.609375 17.484375 5.34375 20.625 \r\nQ 7.078125 23.78125 9.890625 25.6875 \r\nQ 12.703125 27.59375 16.21875 28.5625 \r\nQ 18.796875 29.25 24.03125 29.890625 \r\nQ 34.671875 31.15625 39.703125 32.90625 \r\nQ 39.75 34.71875 39.75 35.203125 \r\nQ 39.75 40.578125 37.25 42.78125 \r\nQ 33.890625 45.75 27.25 45.75 \r\nQ 21.046875 45.75 18.09375 43.578125 \r\nQ 15.140625 41.40625 13.71875 35.890625 \r\nL 5.125 37.0625 \r\nQ 6.296875 42.578125 8.984375 45.96875 \r\nQ 11.671875 49.359375 16.75 51.1875 \r\nQ 21.828125 53.03125 28.515625 53.03125 \r\nQ 35.15625 53.03125 39.296875 51.46875 \r\nQ 43.453125 49.90625 45.40625 47.53125 \r\nQ 47.359375 45.171875 48.140625 41.546875 \r\nQ 48.578125 39.3125 48.578125 33.453125 \r\nL 48.578125 21.734375 \r\nQ 48.578125 9.46875 49.140625 6.21875 \r\nQ 49.703125 2.984375 51.375 0 \r\nL 42.1875 0 \r\nQ 40.828125 2.734375 40.4375 6.390625 \r\nz\r\nM 39.703125 26.03125 \r\nQ 34.90625 24.078125 25.34375 22.703125 \r\nQ 19.921875 21.921875 17.671875 20.9375 \r\nQ 15.4375 19.96875 14.203125 18.09375 \r\nQ 12.984375 16.21875 12.984375 13.921875 \r\nQ 12.984375 10.40625 15.640625 8.0625 \r\nQ 18.3125 5.71875 23.4375 5.71875 \r\nQ 28.515625 5.71875 32.46875 7.9375 \r\nQ 36.421875 10.15625 38.28125 14.015625 \r\nQ 39.703125 17 39.703125 22.796875 \r\nz\r\n\" id=\"ArialMT-97\"/>\r\n       <path d=\"M 40.578125 0 \r\nL 40.578125 7.625 \r\nQ 34.515625 -1.171875 24.125 -1.171875 \r\nQ 19.53125 -1.171875 15.546875 0.578125 \r\nQ 11.578125 2.34375 9.640625 5 \r\nQ 7.71875 7.671875 6.9375 11.53125 \r\nQ 6.390625 14.109375 6.390625 19.734375 \r\nL 6.390625 51.859375 \r\nL 15.1875 51.859375 \r\nL 15.1875 23.09375 \r\nQ 15.1875 16.21875 15.71875 13.8125 \r\nQ 16.546875 10.359375 19.234375 8.375 \r\nQ 21.921875 6.390625 25.875 6.390625 \r\nQ 29.828125 6.390625 33.296875 8.421875 \r\nQ 36.765625 10.453125 38.203125 13.9375 \r\nQ 39.65625 17.4375 39.65625 24.078125 \r\nL 39.65625 51.859375 \r\nL 48.4375 51.859375 \r\nL 48.4375 0 \r\nz\r\n\" id=\"ArialMT-117\"/>\r\n       <path d=\"M -1.515625 -19.875 \r\nL -1.515625 -13.53125 \r\nL 56.734375 -13.53125 \r\nL 56.734375 -19.875 \r\nz\r\n\" id=\"ArialMT-95\"/>\r\n       <path d=\"M 4.5 23 \r\nL 13.421875 23.78125 \r\nQ 14.0625 18.40625 16.375 14.96875 \r\nQ 18.703125 11.53125 23.578125 9.40625 \r\nQ 28.46875 7.28125 34.578125 7.28125 \r\nQ 39.984375 7.28125 44.140625 8.890625 \r\nQ 48.296875 10.5 50.3125 13.296875 \r\nQ 52.34375 16.109375 52.34375 19.4375 \r\nQ 52.34375 22.796875 50.390625 25.3125 \r\nQ 48.4375 27.828125 43.953125 29.546875 \r\nQ 41.0625 30.671875 31.203125 33.03125 \r\nQ 21.34375 35.40625 17.390625 37.5 \r\nQ 12.25 40.1875 9.734375 44.15625 \r\nQ 7.234375 48.140625 7.234375 53.078125 \r\nQ 7.234375 58.5 10.296875 63.203125 \r\nQ 13.375 67.921875 19.28125 70.359375 \r\nQ 25.203125 72.796875 32.421875 72.796875 \r\nQ 40.375 72.796875 46.453125 70.234375 \r\nQ 52.546875 67.671875 55.8125 62.6875 \r\nQ 59.078125 57.71875 59.328125 51.421875 \r\nL 50.25 50.734375 \r\nQ 49.515625 57.515625 45.28125 60.984375 \r\nQ 41.0625 64.453125 32.8125 64.453125 \r\nQ 24.21875 64.453125 20.28125 61.296875 \r\nQ 16.359375 58.15625 16.359375 53.71875 \r\nQ 16.359375 49.859375 19.140625 47.359375 \r\nQ 21.875 44.875 33.421875 42.265625 \r\nQ 44.96875 39.65625 49.265625 37.703125 \r\nQ 55.515625 34.8125 58.484375 30.390625 \r\nQ 61.46875 25.984375 61.46875 20.21875 \r\nQ 61.46875 14.5 58.203125 9.4375 \r\nQ 54.9375 4.390625 48.796875 1.578125 \r\nQ 42.671875 -1.21875 35.015625 -1.21875 \r\nQ 25.296875 -1.21875 18.71875 1.609375 \r\nQ 12.15625 4.4375 8.421875 10.125 \r\nQ 4.6875 15.828125 4.5 23 \r\nz\r\n\" id=\"ArialMT-83\"/>\r\n       <path d=\"M -0.140625 0 \r\nL 27.34375 71.578125 \r\nL 37.546875 71.578125 \r\nL 66.84375 0 \r\nL 56.0625 0 \r\nL 47.703125 21.6875 \r\nL 17.78125 21.6875 \r\nL 9.90625 0 \r\nz\r\nM 20.515625 29.390625 \r\nL 44.78125 29.390625 \r\nL 37.3125 49.21875 \r\nQ 33.890625 58.25 32.234375 64.0625 \r\nQ 30.859375 57.171875 28.375 50.390625 \r\nz\r\n\" id=\"ArialMT-65\"/>\r\n       <path d=\"M 7.859375 0 \r\nL 7.859375 71.578125 \r\nL 39.59375 71.578125 \r\nQ 49.171875 71.578125 54.140625 69.640625 \r\nQ 59.125 67.71875 62.109375 62.828125 \r\nQ 65.09375 57.953125 65.09375 52.046875 \r\nQ 65.09375 44.4375 60.15625 39.203125 \r\nQ 55.21875 33.984375 44.921875 32.5625 \r\nQ 48.6875 30.765625 50.640625 29 \r\nQ 54.78125 25.203125 58.5 19.484375 \r\nL 70.953125 0 \r\nL 59.03125 0 \r\nL 49.5625 14.890625 \r\nQ 45.40625 21.34375 42.71875 24.75 \r\nQ 40.046875 28.171875 37.921875 29.53125 \r\nQ 35.796875 30.90625 33.59375 31.453125 \r\nQ 31.984375 31.78125 28.328125 31.78125 \r\nL 17.328125 31.78125 \r\nL 17.328125 0 \r\nz\r\nM 17.328125 39.984375 \r\nL 37.703125 39.984375 \r\nQ 44.1875 39.984375 47.84375 41.328125 \r\nQ 51.515625 42.671875 53.421875 45.625 \r\nQ 55.328125 48.578125 55.328125 52.046875 \r\nQ 55.328125 57.125 51.640625 60.390625 \r\nQ 47.953125 63.671875 39.984375 63.671875 \r\nL 17.328125 63.671875 \r\nz\r\n\" id=\"ArialMT-82\"/>\r\n       <path d=\"M 9.328125 0 \r\nL 9.328125 71.578125 \r\nL 18.796875 71.578125 \r\nL 18.796875 0 \r\nz\r\n\" id=\"ArialMT-73\"/>\r\n       <path d=\"M 7.421875 0 \r\nL 7.421875 71.578125 \r\nL 21.6875 71.578125 \r\nL 38.625 20.90625 \r\nQ 40.96875 13.8125 42.046875 10.296875 \r\nQ 43.265625 14.203125 45.84375 21.78125 \r\nL 62.984375 71.578125 \r\nL 75.734375 71.578125 \r\nL 75.734375 0 \r\nL 66.609375 0 \r\nL 66.609375 59.90625 \r\nL 45.796875 0 \r\nL 37.25 0 \r\nL 16.546875 60.9375 \r\nL 16.546875 0 \r\nz\r\n\" id=\"ArialMT-77\"/>\r\n       <path d=\"M 0.4375 0 \r\nL 28.125 37.3125 \r\nL 3.71875 71.578125 \r\nL 14.984375 71.578125 \r\nL 27.984375 53.21875 \r\nQ 32.03125 47.515625 33.734375 44.4375 \r\nQ 36.140625 48.34375 39.40625 52.59375 \r\nL 53.8125 71.578125 \r\nL 64.109375 71.578125 \r\nL 38.96875 37.84375 \r\nL 66.0625 0 \r\nL 54.34375 0 \r\nL 36.328125 25.53125 \r\nQ 34.8125 27.734375 33.203125 30.328125 \r\nQ 30.8125 26.421875 29.78125 24.953125 \r\nL 11.8125 0 \r\nz\r\n\" id=\"ArialMT-88\"/>\r\n      </defs>\r\n      <g style=\"fill:#262626;\" transform=\"translate(137.057422 242.147656)scale(0.11 -0.11)\">\r\n       <use xlink:href=\"#ArialMT-97\"/>\r\n       <use x=\"55.615234\" xlink:href=\"#ArialMT-117\"/>\r\n       <use x=\"111.230469\" xlink:href=\"#ArialMT-116\"/>\r\n       <use x=\"139.013672\" xlink:href=\"#ArialMT-111\"/>\r\n       <use x=\"194.628906\" xlink:href=\"#ArialMT-95\"/>\r\n       <use x=\"250.244141\" xlink:href=\"#ArialMT-83\"/>\r\n       <use x=\"316.943359\" xlink:href=\"#ArialMT-65\"/>\r\n       <use x=\"383.642578\" xlink:href=\"#ArialMT-82\"/>\r\n       <use x=\"455.859375\" xlink:href=\"#ArialMT-73\"/>\r\n       <use x=\"483.642578\" xlink:href=\"#ArialMT-77\"/>\r\n       <use x=\"566.943359\" xlink:href=\"#ArialMT-65\"/>\r\n       <use x=\"633.642578\" xlink:href=\"#ArialMT-88\"/>\r\n      </g>\r\n     </g>\r\n    </g>\r\n    <g id=\"xtick_3\">\r\n     <g id=\"text_3\">\r\n      <!-- VAR -->\r\n      <defs>\r\n       <path d=\"M 28.171875 0 \r\nL 0.4375 71.578125 \r\nL 10.6875 71.578125 \r\nL 29.296875 19.578125 \r\nQ 31.546875 13.328125 33.0625 7.859375 \r\nQ 34.71875 13.71875 36.921875 19.578125 \r\nL 56.25 71.578125 \r\nL 65.921875 71.578125 \r\nL 37.890625 0 \r\nz\r\n\" id=\"ArialMT-86\"/>\r\n      </defs>\r\n      <g style=\"fill:#262626;\" transform=\"translate(247.972109 242.013594)scale(0.11 -0.11)\">\r\n       <use xlink:href=\"#ArialMT-86\"/>\r\n       <use x=\"66.589844\" xlink:href=\"#ArialMT-65\"/>\r\n       <use x=\"133.289062\" xlink:href=\"#ArialMT-82\"/>\r\n      </g>\r\n     </g>\r\n    </g>\r\n    <g id=\"xtick_4\">\r\n     <g id=\"text_4\">\r\n      <!-- ML -->\r\n      <defs>\r\n       <path d=\"M 7.328125 0 \r\nL 7.328125 71.578125 \r\nL 16.796875 71.578125 \r\nL 16.796875 8.453125 \r\nL 52.046875 8.453125 \r\nL 52.046875 0 \r\nz\r\n\" id=\"ArialMT-76\"/>\r\n      </defs>\r\n      <g style=\"fill:#262626;\" transform=\"translate(335.335625 242.013594)scale(0.11 -0.11)\">\r\n       <use xlink:href=\"#ArialMT-77\"/>\r\n       <use x=\"83.300781\" xlink:href=\"#ArialMT-76\"/>\r\n      </g>\r\n     </g>\r\n    </g>\r\n    <g id=\"text_5\">\r\n     <!-- Model -->\r\n     <defs>\r\n      <path d=\"M 40.234375 0 \r\nL 40.234375 6.546875 \r\nQ 35.296875 -1.171875 25.734375 -1.171875 \r\nQ 19.53125 -1.171875 14.328125 2.25 \r\nQ 9.125 5.671875 6.265625 11.796875 \r\nQ 3.421875 17.921875 3.421875 25.875 \r\nQ 3.421875 33.640625 6 39.96875 \r\nQ 8.59375 46.296875 13.765625 49.65625 \r\nQ 18.953125 53.03125 25.34375 53.03125 \r\nQ 30.03125 53.03125 33.6875 51.046875 \r\nQ 37.359375 49.078125 39.65625 45.90625 \r\nL 39.65625 71.578125 \r\nL 48.390625 71.578125 \r\nL 48.390625 0 \r\nz\r\nM 12.453125 25.875 \r\nQ 12.453125 15.921875 16.640625 10.984375 \r\nQ 20.84375 6.0625 26.5625 6.0625 \r\nQ 32.328125 6.0625 36.34375 10.765625 \r\nQ 40.375 15.484375 40.375 25.140625 \r\nQ 40.375 35.796875 36.265625 40.765625 \r\nQ 32.171875 45.75 26.171875 45.75 \r\nQ 20.3125 45.75 16.375 40.96875 \r\nQ 12.453125 36.1875 12.453125 25.875 \r\nz\r\n\" id=\"ArialMT-100\"/>\r\n      <path d=\"M 6.390625 0 \r\nL 6.390625 71.578125 \r\nL 15.1875 71.578125 \r\nL 15.1875 0 \r\nz\r\n\" id=\"ArialMT-108\"/>\r\n     </defs>\r\n     <g style=\"fill:#262626;\" transform=\"translate(201.084844 256.923281)scale(0.12 -0.12)\">\r\n      <use xlink:href=\"#ArialMT-77\"/>\r\n      <use x=\"83.300781\" xlink:href=\"#ArialMT-111\"/>\r\n      <use x=\"138.916016\" xlink:href=\"#ArialMT-100\"/>\r\n      <use x=\"194.53125\" xlink:href=\"#ArialMT-101\"/>\r\n      <use x=\"250.146484\" xlink:href=\"#ArialMT-108\"/>\r\n     </g>\r\n    </g>\r\n   </g>\r\n   <g id=\"matplotlib.axis_2\">\r\n    <g id=\"ytick_1\">\r\n     <g id=\"text_6\">\r\n      <!-- 40 -->\r\n      <defs>\r\n       <path d=\"M 32.328125 0 \r\nL 32.328125 17.140625 \r\nL 1.265625 17.140625 \r\nL 1.265625 25.203125 \r\nL 33.9375 71.578125 \r\nL 41.109375 71.578125 \r\nL 41.109375 25.203125 \r\nL 50.78125 25.203125 \r\nL 50.78125 17.140625 \r\nL 41.109375 17.140625 \r\nL 41.109375 0 \r\nz\r\nM 32.328125 25.203125 \r\nL 32.328125 57.46875 \r\nL 9.90625 25.203125 \r\nz\r\n\" id=\"ArialMT-52\"/>\r\n       <path d=\"M 4.15625 35.296875 \r\nQ 4.15625 48 6.765625 55.734375 \r\nQ 9.375 63.484375 14.515625 67.671875 \r\nQ 19.671875 71.875 27.484375 71.875 \r\nQ 33.25 71.875 37.59375 69.546875 \r\nQ 41.9375 67.234375 44.765625 62.859375 \r\nQ 47.609375 58.5 49.21875 52.21875 \r\nQ 50.828125 45.953125 50.828125 35.296875 \r\nQ 50.828125 22.703125 48.234375 14.96875 \r\nQ 45.65625 7.234375 40.5 3 \r\nQ 35.359375 -1.21875 27.484375 -1.21875 \r\nQ 17.140625 -1.21875 11.234375 6.203125 \r\nQ 4.15625 15.140625 4.15625 35.296875 \r\nz\r\nM 13.1875 35.296875 \r\nQ 13.1875 17.671875 17.3125 11.828125 \r\nQ 21.4375 6 27.484375 6 \r\nQ 33.546875 6 37.671875 11.859375 \r\nQ 41.796875 17.71875 41.796875 35.296875 \r\nQ 41.796875 52.984375 37.671875 58.78125 \r\nQ 33.546875 64.59375 27.390625 64.59375 \r\nQ 21.34375 64.59375 17.71875 59.46875 \r\nQ 13.1875 52.9375 13.1875 35.296875 \r\nz\r\n\" id=\"ArialMT-48\"/>\r\n      </defs>\r\n      <g style=\"fill:#262626;\" transform=\"translate(28.291406 220.732381)scale(0.11 -0.11)\">\r\n       <use xlink:href=\"#ArialMT-52\"/>\r\n       <use x=\"55.615234\" xlink:href=\"#ArialMT-48\"/>\r\n      </g>\r\n     </g>\r\n    </g>\r\n    <g id=\"ytick_2\">\r\n     <g id=\"text_7\">\r\n      <!-- 60 -->\r\n      <defs>\r\n       <path d=\"M 49.75 54.046875 \r\nL 41.015625 53.375 \r\nQ 39.84375 58.546875 37.703125 60.890625 \r\nQ 34.125 64.65625 28.90625 64.65625 \r\nQ 24.703125 64.65625 21.53125 62.3125 \r\nQ 17.390625 59.28125 14.984375 53.46875 \r\nQ 12.59375 47.65625 12.5 36.921875 \r\nQ 15.671875 41.75 20.265625 44.09375 \r\nQ 24.859375 46.4375 29.890625 46.4375 \r\nQ 38.671875 46.4375 44.84375 39.96875 \r\nQ 51.03125 33.5 51.03125 23.25 \r\nQ 51.03125 16.5 48.125 10.71875 \r\nQ 45.21875 4.9375 40.140625 1.859375 \r\nQ 35.0625 -1.21875 28.609375 -1.21875 \r\nQ 17.625 -1.21875 10.6875 6.859375 \r\nQ 3.765625 14.9375 3.765625 33.5 \r\nQ 3.765625 54.25 11.421875 63.671875 \r\nQ 18.109375 71.875 29.4375 71.875 \r\nQ 37.890625 71.875 43.28125 67.140625 \r\nQ 48.6875 62.40625 49.75 54.046875 \r\nz\r\nM 13.875 23.1875 \r\nQ 13.875 18.65625 15.796875 14.5 \r\nQ 17.71875 10.359375 21.1875 8.171875 \r\nQ 24.65625 6 28.46875 6 \r\nQ 34.03125 6 38.03125 10.484375 \r\nQ 42.046875 14.984375 42.046875 22.703125 \r\nQ 42.046875 30.125 38.078125 34.390625 \r\nQ 34.125 38.671875 28.125 38.671875 \r\nQ 22.171875 38.671875 18.015625 34.390625 \r\nQ 13.875 30.125 13.875 23.1875 \r\nz\r\n\" id=\"ArialMT-54\"/>\r\n      </defs>\r\n      <g style=\"fill:#262626;\" transform=\"translate(28.291406 195.200032)scale(0.11 -0.11)\">\r\n       <use xlink:href=\"#ArialMT-54\"/>\r\n       <use x=\"55.615234\" xlink:href=\"#ArialMT-48\"/>\r\n      </g>\r\n     </g>\r\n    </g>\r\n    <g id=\"ytick_3\">\r\n     <g id=\"text_8\">\r\n      <!-- 80 -->\r\n      <defs>\r\n       <path d=\"M 17.671875 38.8125 \r\nQ 12.203125 40.828125 9.5625 44.53125 \r\nQ 6.9375 48.25 6.9375 53.421875 \r\nQ 6.9375 61.234375 12.546875 66.546875 \r\nQ 18.171875 71.875 27.484375 71.875 \r\nQ 36.859375 71.875 42.578125 66.421875 \r\nQ 48.296875 60.984375 48.296875 53.171875 \r\nQ 48.296875 48.1875 45.671875 44.5 \r\nQ 43.0625 40.828125 37.75 38.8125 \r\nQ 44.34375 36.671875 47.78125 31.875 \r\nQ 51.21875 27.09375 51.21875 20.453125 \r\nQ 51.21875 11.28125 44.71875 5.03125 \r\nQ 38.234375 -1.21875 27.640625 -1.21875 \r\nQ 17.046875 -1.21875 10.546875 5.046875 \r\nQ 4.046875 11.328125 4.046875 20.703125 \r\nQ 4.046875 27.6875 7.59375 32.390625 \r\nQ 11.140625 37.109375 17.671875 38.8125 \r\nz\r\nM 15.921875 53.71875 \r\nQ 15.921875 48.640625 19.1875 45.40625 \r\nQ 22.46875 42.1875 27.6875 42.1875 \r\nQ 32.765625 42.1875 36.015625 45.375 \r\nQ 39.265625 48.578125 39.265625 53.21875 \r\nQ 39.265625 58.0625 35.90625 61.359375 \r\nQ 32.5625 64.65625 27.59375 64.65625 \r\nQ 22.5625 64.65625 19.234375 61.421875 \r\nQ 15.921875 58.203125 15.921875 53.71875 \r\nz\r\nM 13.09375 20.65625 \r\nQ 13.09375 16.890625 14.875 13.375 \r\nQ 16.65625 9.859375 20.171875 7.921875 \r\nQ 23.6875 6 27.734375 6 \r\nQ 34.03125 6 38.125 10.046875 \r\nQ 42.234375 14.109375 42.234375 20.359375 \r\nQ 42.234375 26.703125 38.015625 30.859375 \r\nQ 33.796875 35.015625 27.4375 35.015625 \r\nQ 21.234375 35.015625 17.15625 30.90625 \r\nQ 13.09375 26.8125 13.09375 20.65625 \r\nz\r\n\" id=\"ArialMT-56\"/>\r\n      </defs>\r\n      <g style=\"fill:#262626;\" transform=\"translate(28.291406 169.667683)scale(0.11 -0.11)\">\r\n       <use xlink:href=\"#ArialMT-56\"/>\r\n       <use x=\"55.615234\" xlink:href=\"#ArialMT-48\"/>\r\n      </g>\r\n     </g>\r\n    </g>\r\n    <g id=\"ytick_4\">\r\n     <g id=\"text_9\">\r\n      <!-- 100 -->\r\n      <defs>\r\n       <path d=\"M 37.25 0 \r\nL 28.46875 0 \r\nL 28.46875 56 \r\nQ 25.296875 52.984375 20.140625 49.953125 \r\nQ 14.984375 46.921875 10.890625 45.40625 \r\nL 10.890625 53.90625 \r\nQ 18.265625 57.375 23.78125 62.296875 \r\nQ 29.296875 67.234375 31.59375 71.875 \r\nL 37.25 71.875 \r\nz\r\n\" id=\"ArialMT-49\"/>\r\n      </defs>\r\n      <g style=\"fill:#262626;\" transform=\"translate(22.174375 144.135333)scale(0.11 -0.11)\">\r\n       <use xlink:href=\"#ArialMT-49\"/>\r\n       <use x=\"55.615234\" xlink:href=\"#ArialMT-48\"/>\r\n       <use x=\"111.230469\" xlink:href=\"#ArialMT-48\"/>\r\n      </g>\r\n     </g>\r\n    </g>\r\n    <g id=\"ytick_5\">\r\n     <g id=\"text_10\">\r\n      <!-- 120 -->\r\n      <defs>\r\n       <path d=\"M 50.34375 8.453125 \r\nL 50.34375 0 \r\nL 3.03125 0 \r\nQ 2.9375 3.171875 4.046875 6.109375 \r\nQ 5.859375 10.9375 9.828125 15.625 \r\nQ 13.8125 20.3125 21.34375 26.46875 \r\nQ 33.015625 36.03125 37.109375 41.625 \r\nQ 41.21875 47.21875 41.21875 52.203125 \r\nQ 41.21875 57.421875 37.46875 61 \r\nQ 33.734375 64.59375 27.734375 64.59375 \r\nQ 21.390625 64.59375 17.578125 60.78125 \r\nQ 13.765625 56.984375 13.71875 50.25 \r\nL 4.6875 51.171875 \r\nQ 5.609375 61.28125 11.65625 66.578125 \r\nQ 17.71875 71.875 27.9375 71.875 \r\nQ 38.234375 71.875 44.234375 66.15625 \r\nQ 50.25 60.453125 50.25 52 \r\nQ 50.25 47.703125 48.484375 43.546875 \r\nQ 46.734375 39.40625 42.65625 34.8125 \r\nQ 38.578125 30.21875 29.109375 22.21875 \r\nQ 21.1875 15.578125 18.9375 13.203125 \r\nQ 16.703125 10.84375 15.234375 8.453125 \r\nz\r\n\" id=\"ArialMT-50\"/>\r\n      </defs>\r\n      <g style=\"fill:#262626;\" transform=\"translate(22.174375 118.602984)scale(0.11 -0.11)\">\r\n       <use xlink:href=\"#ArialMT-49\"/>\r\n       <use x=\"55.615234\" xlink:href=\"#ArialMT-50\"/>\r\n       <use x=\"111.230469\" xlink:href=\"#ArialMT-48\"/>\r\n      </g>\r\n     </g>\r\n    </g>\r\n    <g id=\"ytick_6\">\r\n     <g id=\"text_11\">\r\n      <!-- 140 -->\r\n      <g style=\"fill:#262626;\" transform=\"translate(22.174375 93.070635)scale(0.11 -0.11)\">\r\n       <use xlink:href=\"#ArialMT-49\"/>\r\n       <use x=\"55.615234\" xlink:href=\"#ArialMT-52\"/>\r\n       <use x=\"111.230469\" xlink:href=\"#ArialMT-48\"/>\r\n      </g>\r\n     </g>\r\n    </g>\r\n    <g id=\"ytick_7\">\r\n     <g id=\"text_12\">\r\n      <!-- 160 -->\r\n      <g style=\"fill:#262626;\" transform=\"translate(22.174375 67.538286)scale(0.11 -0.11)\">\r\n       <use xlink:href=\"#ArialMT-49\"/>\r\n       <use x=\"55.615234\" xlink:href=\"#ArialMT-54\"/>\r\n       <use x=\"111.230469\" xlink:href=\"#ArialMT-48\"/>\r\n      </g>\r\n     </g>\r\n    </g>\r\n    <g id=\"ytick_8\">\r\n     <g id=\"text_13\">\r\n      <!-- 180 -->\r\n      <g style=\"fill:#262626;\" transform=\"translate(22.174375 42.005937)scale(0.11 -0.11)\">\r\n       <use xlink:href=\"#ArialMT-49\"/>\r\n       <use x=\"55.615234\" xlink:href=\"#ArialMT-56\"/>\r\n       <use x=\"111.230469\" xlink:href=\"#ArialMT-48\"/>\r\n      </g>\r\n     </g>\r\n    </g>\r\n    <g id=\"ytick_9\">\r\n     <g id=\"text_14\">\r\n      <!-- 200 -->\r\n      <g style=\"fill:#262626;\" transform=\"translate(22.174375 16.473588)scale(0.11 -0.11)\">\r\n       <use xlink:href=\"#ArialMT-50\"/>\r\n       <use x=\"55.615234\" xlink:href=\"#ArialMT-48\"/>\r\n       <use x=\"111.230469\" xlink:href=\"#ArialMT-48\"/>\r\n      </g>\r\n     </g>\r\n    </g>\r\n    <g id=\"text_15\">\r\n     <!-- CV Scores -->\r\n     <defs>\r\n      <path d=\"M 58.796875 25.09375 \r\nL 68.265625 22.703125 \r\nQ 65.28125 11.03125 57.546875 4.90625 \r\nQ 49.8125 -1.21875 38.625 -1.21875 \r\nQ 27.046875 -1.21875 19.796875 3.484375 \r\nQ 12.546875 8.203125 8.765625 17.140625 \r\nQ 4.984375 26.078125 4.984375 36.328125 \r\nQ 4.984375 47.515625 9.25 55.828125 \r\nQ 13.53125 64.15625 21.40625 68.46875 \r\nQ 29.296875 72.796875 38.765625 72.796875 \r\nQ 49.515625 72.796875 56.828125 67.328125 \r\nQ 64.15625 61.859375 67.046875 51.953125 \r\nL 57.71875 49.75 \r\nQ 55.21875 57.5625 50.484375 61.125 \r\nQ 45.75 64.703125 38.578125 64.703125 \r\nQ 30.328125 64.703125 24.78125 60.734375 \r\nQ 19.234375 56.78125 16.984375 50.109375 \r\nQ 14.75 43.453125 14.75 36.375 \r\nQ 14.75 27.25 17.40625 20.4375 \r\nQ 20.0625 13.625 25.671875 10.25 \r\nQ 31.296875 6.890625 37.84375 6.890625 \r\nQ 45.796875 6.890625 51.3125 11.46875 \r\nQ 56.84375 16.0625 58.796875 25.09375 \r\nz\r\n\" id=\"ArialMT-67\"/>\r\n      <path id=\"ArialMT-32\"/>\r\n      <path d=\"M 40.4375 19 \r\nL 49.078125 17.875 \r\nQ 47.65625 8.9375 41.8125 3.875 \r\nQ 35.984375 -1.171875 27.484375 -1.171875 \r\nQ 16.84375 -1.171875 10.375 5.78125 \r\nQ 3.90625 12.75 3.90625 25.734375 \r\nQ 3.90625 34.125 6.6875 40.421875 \r\nQ 9.46875 46.734375 15.15625 49.875 \r\nQ 20.84375 53.03125 27.546875 53.03125 \r\nQ 35.984375 53.03125 41.359375 48.75 \r\nQ 46.734375 44.484375 48.25 36.625 \r\nL 39.703125 35.296875 \r\nQ 38.484375 40.53125 35.375 43.15625 \r\nQ 32.28125 45.796875 27.875 45.796875 \r\nQ 21.234375 45.796875 17.078125 41.03125 \r\nQ 12.9375 36.28125 12.9375 25.984375 \r\nQ 12.9375 15.53125 16.9375 10.796875 \r\nQ 20.953125 6.0625 27.390625 6.0625 \r\nQ 32.5625 6.0625 36.03125 9.234375 \r\nQ 39.5 12.40625 40.4375 19 \r\nz\r\n\" id=\"ArialMT-99\"/>\r\n      <path d=\"M 3.078125 15.484375 \r\nL 11.765625 16.84375 \r\nQ 12.5 11.625 15.84375 8.84375 \r\nQ 19.1875 6.0625 25.203125 6.0625 \r\nQ 31.25 6.0625 34.171875 8.515625 \r\nQ 37.109375 10.984375 37.109375 14.3125 \r\nQ 37.109375 17.28125 34.515625 19 \r\nQ 32.71875 20.171875 25.53125 21.96875 \r\nQ 15.875 24.421875 12.140625 26.203125 \r\nQ 8.40625 27.984375 6.46875 31.125 \r\nQ 4.546875 34.28125 4.546875 38.09375 \r\nQ 4.546875 41.546875 6.125 44.5 \r\nQ 7.71875 47.46875 10.453125 49.421875 \r\nQ 12.5 50.921875 16.03125 51.96875 \r\nQ 19.578125 53.03125 23.640625 53.03125 \r\nQ 29.734375 53.03125 34.34375 51.265625 \r\nQ 38.96875 49.515625 41.15625 46.5 \r\nQ 43.359375 43.5 44.1875 38.484375 \r\nL 35.59375 37.3125 \r\nQ 35.015625 41.3125 32.203125 43.546875 \r\nQ 29.390625 45.796875 24.265625 45.796875 \r\nQ 18.21875 45.796875 15.625 43.796875 \r\nQ 13.03125 41.796875 13.03125 39.109375 \r\nQ 13.03125 37.40625 14.109375 36.03125 \r\nQ 15.1875 34.625 17.484375 33.6875 \r\nQ 18.796875 33.203125 25.25 31.453125 \r\nQ 34.578125 28.953125 38.25 27.359375 \r\nQ 41.9375 25.78125 44.03125 22.75 \r\nQ 46.140625 19.734375 46.140625 15.234375 \r\nQ 46.140625 10.84375 43.578125 6.953125 \r\nQ 41.015625 3.078125 36.171875 0.953125 \r\nQ 31.34375 -1.171875 25.25 -1.171875 \r\nQ 15.140625 -1.171875 9.84375 3.03125 \r\nQ 4.546875 7.234375 3.078125 15.484375 \r\nz\r\n\" id=\"ArialMT-115\"/>\r\n     </defs>\r\n     <g style=\"fill:#262626;\" transform=\"translate(15.789375 144.595312)rotate(-90)scale(0.12 -0.12)\">\r\n      <use xlink:href=\"#ArialMT-67\"/>\r\n      <use x=\"72.216797\" xlink:href=\"#ArialMT-86\"/>\r\n      <use x=\"138.916016\" xlink:href=\"#ArialMT-32\"/>\r\n      <use x=\"166.699219\" xlink:href=\"#ArialMT-83\"/>\r\n      <use x=\"233.398438\" xlink:href=\"#ArialMT-99\"/>\r\n      <use x=\"283.398438\" xlink:href=\"#ArialMT-111\"/>\r\n      <use x=\"339.013672\" xlink:href=\"#ArialMT-114\"/>\r\n      <use x=\"372.314453\" xlink:href=\"#ArialMT-101\"/>\r\n      <use x=\"427.929688\" xlink:href=\"#ArialMT-115\"/>\r\n     </g>\r\n    </g>\r\n   </g>\r\n   <g id=\"patch_3\">\r\n    <path clip-path=\"url(#pb5d61314b9)\" d=\"M 58.395469 197.261358 \r\nL 125.355469 197.261358 \r\nL 125.355469 176.065163 \r\nL 58.395469 176.065163 \r\nL 58.395469 197.261358 \r\nz\r\n\" style=\"fill:#5875a4;stroke:#4c4c4c;stroke-linejoin:miter;stroke-width:1.5;\"/>\r\n   </g>\r\n   <g id=\"patch_4\">\r\n    <path clip-path=\"url(#pb5d61314b9)\" d=\"M 142.095469 168.951963 \r\nL 209.055469 168.951963 \r\nL 209.055469 128.326197 \r\nL 142.095469 128.326197 \r\nL 142.095469 168.951963 \r\nz\r\n\" style=\"fill:#cc8963;stroke:#4c4c4c;stroke-linejoin:miter;stroke-width:1.5;\"/>\r\n   </g>\r\n   <g id=\"patch_5\">\r\n    <path clip-path=\"url(#pb5d61314b9)\" d=\"M 225.795469 104.942799 \r\nL 292.755469 104.942799 \r\nL 292.755469 23.658158 \r\nL 225.795469 23.658158 \r\nL 225.795469 104.942799 \r\nz\r\n\" style=\"fill:#5f9e6e;stroke:#4c4c4c;stroke-linejoin:miter;stroke-width:1.5;\"/>\r\n   </g>\r\n   <g id=\"patch_6\">\r\n    <path clip-path=\"url(#pb5d61314b9)\" d=\"M 309.495469 186.997873 \r\nL 376.455469 186.997873 \r\nL 376.455469 151.084666 \r\nL 309.495469 151.084666 \r\nL 309.495469 186.997873 \r\nz\r\n\" style=\"fill:#b55d60;stroke:#4c4c4c;stroke-linejoin:miter;stroke-width:1.5;\"/>\r\n   </g>\r\n   <g id=\"line2d_1\">\r\n    <path clip-path=\"url(#pb5d61314b9)\" d=\"M 91.875469 197.261358 \r\nL 91.875469 207.859455 \r\n\" style=\"fill:none;stroke:#4c4c4c;stroke-linecap:round;stroke-width:1.5;\"/>\r\n   </g>\r\n   <g id=\"line2d_2\">\r\n    <path clip-path=\"url(#pb5d61314b9)\" d=\"M 91.875469 176.065163 \r\nL 91.875469 165.467065 \r\n\" style=\"fill:none;stroke:#4c4c4c;stroke-linecap:round;stroke-width:1.5;\"/>\r\n   </g>\r\n   <g id=\"line2d_3\">\r\n    <path clip-path=\"url(#pb5d61314b9)\" d=\"M 75.135469 207.859455 \r\nL 108.615469 207.859455 \r\n\" style=\"fill:none;stroke:#4c4c4c;stroke-linecap:round;stroke-width:1.5;\"/>\r\n   </g>\r\n   <g id=\"line2d_4\">\r\n    <path clip-path=\"url(#pb5d61314b9)\" d=\"M 75.135469 165.467065 \r\nL 108.615469 165.467065 \r\n\" style=\"fill:none;stroke:#4c4c4c;stroke-linecap:round;stroke-width:1.5;\"/>\r\n   </g>\r\n   <g id=\"line2d_5\"/>\r\n   <g id=\"line2d_6\">\r\n    <path clip-path=\"url(#pb5d61314b9)\" d=\"M 175.575469 168.951963 \r\nL 175.575469 202.871409 \r\n\" style=\"fill:none;stroke:#4c4c4c;stroke-linecap:round;stroke-width:1.5;\"/>\r\n   </g>\r\n   <g id=\"line2d_7\">\r\n    <path clip-path=\"url(#pb5d61314b9)\" d=\"M 175.575469 128.326197 \r\nL 175.575469 121.619876 \r\n\" style=\"fill:none;stroke:#4c4c4c;stroke-linecap:round;stroke-width:1.5;\"/>\r\n   </g>\r\n   <g id=\"line2d_8\">\r\n    <path clip-path=\"url(#pb5d61314b9)\" d=\"M 158.835469 202.871409 \r\nL 192.315469 202.871409 \r\n\" style=\"fill:none;stroke:#4c4c4c;stroke-linecap:round;stroke-width:1.5;\"/>\r\n   </g>\r\n   <g id=\"line2d_9\">\r\n    <path clip-path=\"url(#pb5d61314b9)\" d=\"M 158.835469 121.619876 \r\nL 192.315469 121.619876 \r\n\" style=\"fill:none;stroke:#4c4c4c;stroke-linecap:round;stroke-width:1.5;\"/>\r\n   </g>\r\n   <g id=\"line2d_10\"/>\r\n   <g id=\"line2d_11\">\r\n    <path clip-path=\"url(#pb5d61314b9)\" d=\"M 259.275469 104.942799 \r\nL 259.275469 179.652919 \r\n\" style=\"fill:none;stroke:#4c4c4c;stroke-linecap:round;stroke-width:1.5;\"/>\r\n   </g>\r\n   <g id=\"line2d_12\">\r\n    <path clip-path=\"url(#pb5d61314b9)\" d=\"M 259.275469 23.658158 \r\nL 259.275469 17.083636 \r\n\" style=\"fill:none;stroke:#4c4c4c;stroke-linecap:round;stroke-width:1.5;\"/>\r\n   </g>\r\n   <g id=\"line2d_13\">\r\n    <path clip-path=\"url(#pb5d61314b9)\" d=\"M 242.535469 179.652919 \r\nL 276.015469 179.652919 \r\n\" style=\"fill:none;stroke:#4c4c4c;stroke-linecap:round;stroke-width:1.5;\"/>\r\n   </g>\r\n   <g id=\"line2d_14\">\r\n    <path clip-path=\"url(#pb5d61314b9)\" d=\"M 242.535469 17.083636 \r\nL 276.015469 17.083636 \r\n\" style=\"fill:none;stroke:#4c4c4c;stroke-linecap:round;stroke-width:1.5;\"/>\r\n   </g>\r\n   <g id=\"line2d_15\"/>\r\n   <g id=\"line2d_16\">\r\n    <path clip-path=\"url(#pb5d61314b9)\" d=\"M 342.975469 186.997873 \r\nL 342.975469 214.756364 \r\n\" style=\"fill:none;stroke:#4c4c4c;stroke-linecap:round;stroke-width:1.5;\"/>\r\n   </g>\r\n   <g id=\"line2d_17\">\r\n    <path clip-path=\"url(#pb5d61314b9)\" d=\"M 342.975469 151.084666 \r\nL 342.975469 142.929951 \r\n\" style=\"fill:none;stroke:#4c4c4c;stroke-linecap:round;stroke-width:1.5;\"/>\r\n   </g>\r\n   <g id=\"line2d_18\">\r\n    <path clip-path=\"url(#pb5d61314b9)\" d=\"M 326.235469 214.756364 \r\nL 359.715469 214.756364 \r\n\" style=\"fill:none;stroke:#4c4c4c;stroke-linecap:round;stroke-width:1.5;\"/>\r\n   </g>\r\n   <g id=\"line2d_19\">\r\n    <path clip-path=\"url(#pb5d61314b9)\" d=\"M 326.235469 142.929951 \r\nL 359.715469 142.929951 \r\n\" style=\"fill:none;stroke:#4c4c4c;stroke-linecap:round;stroke-width:1.5;\"/>\r\n   </g>\r\n   <g id=\"line2d_20\"/>\r\n   <g id=\"line2d_21\">\r\n    <path clip-path=\"url(#pb5d61314b9)\" d=\"M 58.395469 186.66326 \r\nL 125.355469 186.66326 \r\n\" style=\"fill:none;stroke:#4c4c4c;stroke-linecap:round;stroke-width:1.5;\"/>\r\n   </g>\r\n   <g id=\"line2d_22\">\r\n    <path clip-path=\"url(#pb5d61314b9)\" d=\"M 142.095469 135.032517 \r\nL 209.055469 135.032517 \r\n\" style=\"fill:none;stroke:#4c4c4c;stroke-linecap:round;stroke-width:1.5;\"/>\r\n   </g>\r\n   <g id=\"line2d_23\">\r\n    <path clip-path=\"url(#pb5d61314b9)\" d=\"M 225.795469 30.232679 \r\nL 292.755469 30.232679 \r\n\" style=\"fill:none;stroke:#4c4c4c;stroke-linecap:round;stroke-width:1.5;\"/>\r\n   </g>\r\n   <g id=\"line2d_24\">\r\n    <path clip-path=\"url(#pb5d61314b9)\" d=\"M 309.495469 159.239382 \r\nL 376.455469 159.239382 \r\n\" style=\"fill:none;stroke:#4c4c4c;stroke-linecap:round;stroke-width:1.5;\"/>\r\n   </g>\r\n   <g id=\"patch_7\">\r\n    <path d=\"M 50.025469 224.64 \r\nL 50.025469 7.2 \r\n\" style=\"fill:none;stroke:#262626;stroke-linecap:square;stroke-linejoin:miter;stroke-width:1.25;\"/>\r\n   </g>\r\n   <g id=\"patch_8\">\r\n    <path d=\"M 384.825469 224.64 \r\nL 384.825469 7.2 \r\n\" style=\"fill:none;stroke:#262626;stroke-linecap:square;stroke-linejoin:miter;stroke-width:1.25;\"/>\r\n   </g>\r\n   <g id=\"patch_9\">\r\n    <path d=\"M 50.025469 224.64 \r\nL 384.825469 224.64 \r\n\" style=\"fill:none;stroke:#262626;stroke-linecap:square;stroke-linejoin:miter;stroke-width:1.25;\"/>\r\n   </g>\r\n   <g id=\"patch_10\">\r\n    <path d=\"M 50.025469 7.2 \r\nL 384.825469 7.2 \r\n\" style=\"fill:none;stroke:#262626;stroke-linecap:square;stroke-linejoin:miter;stroke-width:1.25;\"/>\r\n   </g>\r\n  </g>\r\n </g>\r\n <defs>\r\n  <clipPath id=\"pb5d61314b9\">\r\n   <rect height=\"217.44\" width=\"334.8\" x=\"50.025469\" y=\"7.2\"/>\r\n  </clipPath>\r\n </defs>\r\n</svg>\r\n",
      "image/png": "[encoded data removed]"
     },
     "metadata": {}
    }
   ],
   "source": [
    "automl_model.plot_cv_scores()"
   ]
  },
  {
   "cell_type": "code",
   "execution_count": 12,
   "metadata": {},
   "outputs": [
    {
     "output_type": "execute_result",
     "data": {
      "text/plain": [
       "           Model   CV Scores\n",
       "0        Prophet   80.206656\n",
       "1        Prophet   46.999848\n",
       "2   auto_SARIMAX   50.907085\n",
       "3   auto_SARIMAX  104.046646\n",
       "4   auto_SARIMAX  114.553037\n",
       "5            VAR   69.094593\n",
       "6            VAR  186.138457\n",
       "7            VAR  196.438365\n",
       "8             ML   41.597362\n",
       "9             ML   85.084925\n",
       "10            ML   97.860429"
      ],
      "text/html": "<div>\n<style scoped>\n    .dataframe tbody tr th:only-of-type {\n        vertical-align: middle;\n    }\n\n    .dataframe tbody tr th {\n        vertical-align: top;\n    }\n\n    .dataframe thead th {\n        text-align: right;\n    }\n</style>\n<table border=\"1\" class=\"dataframe\">\n  <thead>\n    <tr style=\"text-align: right;\">\n      <th></th>\n      <th>Model</th>\n      <th>CV Scores</th>\n    </tr>\n  </thead>\n  <tbody>\n    <tr>\n      <th>0</th>\n      <td>Prophet</td>\n      <td>80.206656</td>\n    </tr>\n    <tr>\n      <th>1</th>\n      <td>Prophet</td>\n      <td>46.999848</td>\n    </tr>\n    <tr>\n      <th>2</th>\n      <td>auto_SARIMAX</td>\n      <td>50.907085</td>\n    </tr>\n    <tr>\n      <th>3</th>\n      <td>auto_SARIMAX</td>\n      <td>104.046646</td>\n    </tr>\n    <tr>\n      <th>4</th>\n      <td>auto_SARIMAX</td>\n      <td>114.553037</td>\n    </tr>\n    <tr>\n      <th>5</th>\n      <td>VAR</td>\n      <td>69.094593</td>\n    </tr>\n    <tr>\n      <th>6</th>\n      <td>VAR</td>\n      <td>186.138457</td>\n    </tr>\n    <tr>\n      <th>7</th>\n      <td>VAR</td>\n      <td>196.438365</td>\n    </tr>\n    <tr>\n      <th>8</th>\n      <td>ML</td>\n      <td>41.597362</td>\n    </tr>\n    <tr>\n      <th>9</th>\n      <td>ML</td>\n      <td>85.084925</td>\n    </tr>\n    <tr>\n      <th>10</th>\n      <td>ML</td>\n      <td>97.860429</td>\n    </tr>\n  </tbody>\n</table>\n</div>"
     },
     "metadata": {},
     "execution_count": 12
    }
   ],
   "source": [
    "# There is a Bug with Prophet folds: https://github.com/AutoViML/Auto_TS/issues/25\n",
    "automl_model.get_cv_scores()"
   ]
  },
  {
   "cell_type": "code",
   "execution_count": 13,
   "metadata": {},
   "outputs": [],
   "source": [
    "results_dict = automl_model.get_ml_dict()"
   ]
  },
  {
   "cell_type": "code",
   "execution_count": 14,
   "metadata": {
    "tags": []
   },
   "outputs": [
    {
     "output_type": "execute_result",
     "data": {
      "text/plain": [
       "[           ds        yhat  yhat_lower  yhat_upper    y     cutoff\n",
       " 0  2013-02-01  439.757354  435.375766  443.519640  455 2013-01-30\n",
       " 1  2013-03-01  508.478781  497.355316  519.692163  568 2013-01-30\n",
       " 2  2013-04-01  555.686954  535.028371  576.497827  610 2013-01-30\n",
       " 3  2013-05-01  616.094882  584.895045  646.733024  706 2013-01-30\n",
       " 4  2013-06-01  608.546590  565.433973  654.286201  661 2013-01-30\n",
       " 5  2013-07-01  678.910041  621.330008  740.225797  767 2013-01-30\n",
       " 6  2013-08-01  684.047396  610.271064  760.436691  783 2013-01-30\n",
       " 7  2013-09-01  514.731335  420.859227  606.887919  583 2013-01-30\n",
       " 8  2013-10-01  442.612977  334.311246  549.999397  513 2013-01-30\n",
       " 9  2013-11-01  400.953838  275.085946  529.846942  481 2013-01-30\n",
       " 10 2013-12-01  480.415339  342.741733  627.059308  567 2013-01-30\n",
       " 11 2014-01-01  449.482216  293.438284  613.723871  525 2013-01-30\n",
       " 12 2014-02-01  455.125208  282.149048  637.094167  520 2013-01-30\n",
       " 13 2014-03-01  530.672578  338.143265  728.694694  587 2013-01-30\n",
       " 14 2014-04-01  552.576506  336.350631  773.354890  710 2013-01-30,\n",
       "            ds        yhat  yhat_lower  yhat_upper    y     cutoff\n",
       " 15 2013-07-01  755.201444  744.173261  767.673924  767 2013-06-12\n",
       " 16 2013-08-01  765.961462  753.915604  777.464222  783 2013-06-12\n",
       " 17 2013-09-01  606.693949  593.653706  618.476332  583 2013-06-12\n",
       " 18 2013-10-01  539.504721  527.914842  552.767747  513 2013-06-12\n",
       " 19 2013-11-01  502.190515  488.186789  515.719027  481 2013-06-12\n",
       " 20 2013-12-01  595.814842  579.865779  611.761732  567 2013-06-12\n",
       " 21 2014-01-01  568.540575  550.545642  585.843406  525 2013-06-12\n",
       " 22 2014-02-01  593.309600  572.919829  612.215652  520 2013-06-12\n",
       " 23 2014-03-01  687.277883  663.033898  712.369144  587 2013-06-12\n",
       " 24 2014-04-01  716.630960  689.226914  742.011378  710 2013-06-12\n",
       " 25 2014-05-01  797.812113  767.026634  828.277035  793 2013-06-12\n",
       " 26 2014-06-01  823.491624  788.118370  857.532902  749 2013-06-12\n",
       " 27 2014-07-01  882.436698  843.772505  921.448806  871 2013-06-12\n",
       " 28 2014-08-01  861.468556  815.560010  906.005609  848 2013-06-12\n",
       " 29 2014-09-01  723.114204  676.876132  771.208530  640 2013-06-12]"
      ]
     },
     "metadata": {},
     "execution_count": 14
    }
   ],
   "source": [
    "results_dict['Prophet']['forecast'] "
   ]
  },
  {
   "cell_type": "code",
   "execution_count": 15,
   "metadata": {},
   "outputs": [
    {
     "output_type": "execute_result",
     "data": {
      "text/plain": [
       "[Sales             mean    mean_se  mean_ci_lower  mean_ci_upper\n",
       " 2014-01-01  527.225025  60.287731     409.063243     645.386807\n",
       " 2014-02-01  604.676884  68.843789     469.745537     739.608231\n",
       " 2014-03-01  611.484045  71.404777     471.533254     751.434837,\n",
       " Sales             mean    mean_se  mean_ci_lower  mean_ci_upper\n",
       " 2014-04-01  600.105124  59.253756     483.969896     716.240352\n",
       " 2014-05-01  651.392010  67.986443     518.141030     784.642989\n",
       " 2014-06-01  730.361145  70.676712     591.837335     868.884955,\n",
       " Sales             mean    mean_se  mean_ci_lower  mean_ci_upper\n",
       " 2014-07-01  739.661436  61.241803     619.629707     859.693165\n",
       " 2014-08-01  711.496859  70.202701     573.902093     849.091624\n",
       " 2014-09-01  699.027694  72.936411     556.074955     841.980433]"
      ]
     },
     "metadata": {},
     "execution_count": 15
    }
   ],
   "source": [
    "results_dict['auto_SARIMAX']['forecast']"
   ]
  },
  {
   "cell_type": "code",
   "execution_count": 16,
   "metadata": {},
   "outputs": [
    {
     "output_type": "execute_result",
     "data": {
      "text/plain": [
       "[Sales             mean    mean_se  mean_ci_lower  mean_ci_upper\n",
       " 2014-01-01  595.621989  61.490180     475.103451     716.140526\n",
       " 2014-02-01  614.799780  80.839084     456.358086     773.241474\n",
       " 2014-03-01  605.647376  91.787511     425.747160     785.547592,\n",
       " Sales             mean    mean_se  mean_ci_lower  mean_ci_upper\n",
       " 2014-04-01  578.143142  63.282444     454.111830     702.174454\n",
       " 2014-05-01  568.947414  81.707189     408.804267     729.090562\n",
       " 2014-06-01  558.325452  90.764160     380.430967     736.219938,\n",
       " Sales             mean    mean_se  mean_ci_lower  mean_ci_upper\n",
       " 2014-07-01  675.220756  64.456905     548.887543     801.553968\n",
       " 2014-08-01  592.925592  88.501667     419.465511     766.385673\n",
       " 2014-09-01  528.772183  99.856099     333.057826     724.486540]"
      ]
     },
     "metadata": {},
     "execution_count": 16
    }
   ],
   "source": [
    "results_dict['VAR']['forecast'] "
   ]
  },
  {
   "cell_type": "code",
   "execution_count": 17,
   "metadata": {},
   "outputs": [
    {
     "output_type": "execute_result",
     "data": {
      "text/plain": [
       "[]"
      ]
     },
     "metadata": {},
     "execution_count": 17
    }
   ],
   "source": [
    "results_dict['ML']['forecast'] # This has CV implemented, but currently does not return the forecast values from the CV (maybe a future enhancement)"
   ]
  },
  {
   "cell_type": "markdown",
   "metadata": {},
   "source": [
    "# Forecast Results"
   ]
  },
  {
   "cell_type": "code",
   "execution_count": 18,
   "metadata": {},
   "outputs": [
    {
     "output_type": "execute_result",
     "data": {
      "text/plain": [
       "   Time Period  Sales  Marketing Expense\n",
       "45  2014-10-01    581             570.30\n",
       "46  2014-11-01    519             527.60\n",
       "47  2014-12-01    605             559.75"
      ],
      "text/html": "<div>\n<style scoped>\n    .dataframe tbody tr th:only-of-type {\n        vertical-align: middle;\n    }\n\n    .dataframe tbody tr th {\n        vertical-align: top;\n    }\n\n    .dataframe thead th {\n        text-align: right;\n    }\n</style>\n<table border=\"1\" class=\"dataframe\">\n  <thead>\n    <tr style=\"text-align: right;\">\n      <th></th>\n      <th>Time Period</th>\n      <th>Sales</th>\n      <th>Marketing Expense</th>\n    </tr>\n  </thead>\n  <tbody>\n    <tr>\n      <th>45</th>\n      <td>2014-10-01</td>\n      <td>581</td>\n      <td>570.30</td>\n    </tr>\n    <tr>\n      <th>46</th>\n      <td>2014-11-01</td>\n      <td>519</td>\n      <td>527.60</td>\n    </tr>\n    <tr>\n      <th>47</th>\n      <td>2014-12-01</td>\n      <td>605</td>\n      <td>559.75</td>\n    </tr>\n  </tbody>\n</table>\n</div>"
     },
     "metadata": {},
     "execution_count": 18
    }
   ],
   "source": [
    "# Actual Test\n",
    "test"
   ]
  },
  {
   "cell_type": "code",
   "execution_count": 19,
   "metadata": {
    "tags": []
   },
   "outputs": [
    {
     "output_type": "stream",
     "name": "stdout",
     "text": [
      "Building Forecast dataframe. Forecast Period = 3\n"
     ]
    },
    {
     "output_type": "execute_result",
     "data": {
      "text/plain": [
       "          ds       trend  yhat_lower  yhat_upper  trend_lower  trend_upper  \\\n",
       "0 2014-10-01  689.914384  573.444593  629.391919   689.687253   690.137333   \n",
       "1 2014-11-01  696.096979  539.612904  595.065852   695.492575   696.737196   \n",
       "2 2014-12-01  702.080136  612.398312  667.783862   700.807335   703.232398   \n",
       "\n",
       "   Marketing Expense  Marketing Expense_lower  Marketing Expense_upper  \\\n",
       "0          -0.207675                -0.207675                -0.207675   \n",
       "1          -1.472682                -1.472682                -1.472682   \n",
       "2          -0.520223                -0.520223                -0.520223   \n",
       "\n",
       "   additive_terms  ...  extra_regressors_additive  \\\n",
       "0      -88.592296  ...                  -0.207675   \n",
       "1     -128.710073  ...                  -1.472682   \n",
       "2      -61.923930  ...                  -0.520223   \n",
       "\n",
       "   extra_regressors_additive_lower  extra_regressors_additive_upper  \\\n",
       "0                        -0.207675                        -0.207675   \n",
       "1                        -1.472682                        -1.472682   \n",
       "2                        -0.520223                        -0.520223   \n",
       "\n",
       "       yearly  yearly_lower  yearly_upper  multiplicative_terms  \\\n",
       "0  -88.384621    -88.384621    -88.384621                   0.0   \n",
       "1 -127.237391   -127.237391   -127.237391                   0.0   \n",
       "2  -61.403706    -61.403706    -61.403706                   0.0   \n",
       "\n",
       "   multiplicative_terms_lower  multiplicative_terms_upper        yhat  \n",
       "0                         0.0                         0.0  601.322088  \n",
       "1                         0.0                         0.0  567.386906  \n",
       "2                         0.0                         0.0  640.156206  \n",
       "\n",
       "[3 rows x 22 columns]"
      ],
      "text/html": "<div>\n<style scoped>\n    .dataframe tbody tr th:only-of-type {\n        vertical-align: middle;\n    }\n\n    .dataframe tbody tr th {\n        vertical-align: top;\n    }\n\n    .dataframe thead th {\n        text-align: right;\n    }\n</style>\n<table border=\"1\" class=\"dataframe\">\n  <thead>\n    <tr style=\"text-align: right;\">\n      <th></th>\n      <th>ds</th>\n      <th>trend</th>\n      <th>yhat_lower</th>\n      <th>yhat_upper</th>\n      <th>trend_lower</th>\n      <th>trend_upper</th>\n      <th>Marketing Expense</th>\n      <th>Marketing Expense_lower</th>\n      <th>Marketing Expense_upper</th>\n      <th>additive_terms</th>\n      <th>...</th>\n      <th>extra_regressors_additive</th>\n      <th>extra_regressors_additive_lower</th>\n      <th>extra_regressors_additive_upper</th>\n      <th>yearly</th>\n      <th>yearly_lower</th>\n      <th>yearly_upper</th>\n      <th>multiplicative_terms</th>\n      <th>multiplicative_terms_lower</th>\n      <th>multiplicative_terms_upper</th>\n      <th>yhat</th>\n    </tr>\n  </thead>\n  <tbody>\n    <tr>\n      <th>0</th>\n      <td>2014-10-01</td>\n      <td>689.914384</td>\n      <td>573.444593</td>\n      <td>629.391919</td>\n      <td>689.687253</td>\n      <td>690.137333</td>\n      <td>-0.207675</td>\n      <td>-0.207675</td>\n      <td>-0.207675</td>\n      <td>-88.592296</td>\n      <td>...</td>\n      <td>-0.207675</td>\n      <td>-0.207675</td>\n      <td>-0.207675</td>\n      <td>-88.384621</td>\n      <td>-88.384621</td>\n      <td>-88.384621</td>\n      <td>0.0</td>\n      <td>0.0</td>\n      <td>0.0</td>\n      <td>601.322088</td>\n    </tr>\n    <tr>\n      <th>1</th>\n      <td>2014-11-01</td>\n      <td>696.096979</td>\n      <td>539.612904</td>\n      <td>595.065852</td>\n      <td>695.492575</td>\n      <td>696.737196</td>\n      <td>-1.472682</td>\n      <td>-1.472682</td>\n      <td>-1.472682</td>\n      <td>-128.710073</td>\n      <td>...</td>\n      <td>-1.472682</td>\n      <td>-1.472682</td>\n      <td>-1.472682</td>\n      <td>-127.237391</td>\n      <td>-127.237391</td>\n      <td>-127.237391</td>\n      <td>0.0</td>\n      <td>0.0</td>\n      <td>0.0</td>\n      <td>567.386906</td>\n    </tr>\n    <tr>\n      <th>2</th>\n      <td>2014-12-01</td>\n      <td>702.080136</td>\n      <td>612.398312</td>\n      <td>667.783862</td>\n      <td>700.807335</td>\n      <td>703.232398</td>\n      <td>-0.520223</td>\n      <td>-0.520223</td>\n      <td>-0.520223</td>\n      <td>-61.923930</td>\n      <td>...</td>\n      <td>-0.520223</td>\n      <td>-0.520223</td>\n      <td>-0.520223</td>\n      <td>-61.403706</td>\n      <td>-61.403706</td>\n      <td>-61.403706</td>\n      <td>0.0</td>\n      <td>0.0</td>\n      <td>0.0</td>\n      <td>640.156206</td>\n    </tr>\n  </tbody>\n</table>\n<p>3 rows × 22 columns</p>\n</div>"
     },
     "metadata": {},
     "execution_count": 19
    }
   ],
   "source": [
    "# Using Best Model\n",
    "future_predictions = automl_model.predict(\n",
    "    testdata=test.drop(columns=target),\n",
    "    forecast_period=FORECAST_PERIOD\n",
    ")  \n",
    "future_predictions"
   ]
  },
  {
   "cell_type": "code",
   "execution_count": 20,
   "metadata": {
    "tags": []
   },
   "outputs": [
    {
     "output_type": "stream",
     "name": "stdout",
     "text": [
      "Building Forecast dataframe. Forecast Period = 3\n"
     ]
    },
    {
     "output_type": "execute_result",
     "data": {
      "text/plain": [
       "          ds       trend  yhat_lower  yhat_upper  trend_lower  trend_upper  \\\n",
       "0 2014-10-01  689.914384  571.713089  627.715599   689.658755   690.122342   \n",
       "1 2014-11-01  696.096979  539.652420  594.438980   695.420023   696.733432   \n",
       "2 2014-12-01  702.080136  611.901484  665.445808   700.870453   703.336265   \n",
       "\n",
       "   Marketing Expense  Marketing Expense_lower  Marketing Expense_upper  \\\n",
       "0          -0.207675                -0.207675                -0.207675   \n",
       "1          -1.472682                -1.472682                -1.472682   \n",
       "2          -0.520223                -0.520223                -0.520223   \n",
       "\n",
       "   additive_terms  ...  extra_regressors_additive  \\\n",
       "0      -88.592296  ...                  -0.207675   \n",
       "1     -128.710073  ...                  -1.472682   \n",
       "2      -61.923930  ...                  -0.520223   \n",
       "\n",
       "   extra_regressors_additive_lower  extra_regressors_additive_upper  \\\n",
       "0                        -0.207675                        -0.207675   \n",
       "1                        -1.472682                        -1.472682   \n",
       "2                        -0.520223                        -0.520223   \n",
       "\n",
       "       yearly  yearly_lower  yearly_upper  multiplicative_terms  \\\n",
       "0  -88.384621    -88.384621    -88.384621                   0.0   \n",
       "1 -127.237391   -127.237391   -127.237391                   0.0   \n",
       "2  -61.403706    -61.403706    -61.403706                   0.0   \n",
       "\n",
       "   multiplicative_terms_lower  multiplicative_terms_upper        yhat  \n",
       "0                         0.0                         0.0  601.322088  \n",
       "1                         0.0                         0.0  567.386906  \n",
       "2                         0.0                         0.0  640.156206  \n",
       "\n",
       "[3 rows x 22 columns]"
      ],
      "text/html": "<div>\n<style scoped>\n    .dataframe tbody tr th:only-of-type {\n        vertical-align: middle;\n    }\n\n    .dataframe tbody tr th {\n        vertical-align: top;\n    }\n\n    .dataframe thead th {\n        text-align: right;\n    }\n</style>\n<table border=\"1\" class=\"dataframe\">\n  <thead>\n    <tr style=\"text-align: right;\">\n      <th></th>\n      <th>ds</th>\n      <th>trend</th>\n      <th>yhat_lower</th>\n      <th>yhat_upper</th>\n      <th>trend_lower</th>\n      <th>trend_upper</th>\n      <th>Marketing Expense</th>\n      <th>Marketing Expense_lower</th>\n      <th>Marketing Expense_upper</th>\n      <th>additive_terms</th>\n      <th>...</th>\n      <th>extra_regressors_additive</th>\n      <th>extra_regressors_additive_lower</th>\n      <th>extra_regressors_additive_upper</th>\n      <th>yearly</th>\n      <th>yearly_lower</th>\n      <th>yearly_upper</th>\n      <th>multiplicative_terms</th>\n      <th>multiplicative_terms_lower</th>\n      <th>multiplicative_terms_upper</th>\n      <th>yhat</th>\n    </tr>\n  </thead>\n  <tbody>\n    <tr>\n      <th>0</th>\n      <td>2014-10-01</td>\n      <td>689.914384</td>\n      <td>571.713089</td>\n      <td>627.715599</td>\n      <td>689.658755</td>\n      <td>690.122342</td>\n      <td>-0.207675</td>\n      <td>-0.207675</td>\n      <td>-0.207675</td>\n      <td>-88.592296</td>\n      <td>...</td>\n      <td>-0.207675</td>\n      <td>-0.207675</td>\n      <td>-0.207675</td>\n      <td>-88.384621</td>\n      <td>-88.384621</td>\n      <td>-88.384621</td>\n      <td>0.0</td>\n      <td>0.0</td>\n      <td>0.0</td>\n      <td>601.322088</td>\n    </tr>\n    <tr>\n      <th>1</th>\n      <td>2014-11-01</td>\n      <td>696.096979</td>\n      <td>539.652420</td>\n      <td>594.438980</td>\n      <td>695.420023</td>\n      <td>696.733432</td>\n      <td>-1.472682</td>\n      <td>-1.472682</td>\n      <td>-1.472682</td>\n      <td>-128.710073</td>\n      <td>...</td>\n      <td>-1.472682</td>\n      <td>-1.472682</td>\n      <td>-1.472682</td>\n      <td>-127.237391</td>\n      <td>-127.237391</td>\n      <td>-127.237391</td>\n      <td>0.0</td>\n      <td>0.0</td>\n      <td>0.0</td>\n      <td>567.386906</td>\n    </tr>\n    <tr>\n      <th>2</th>\n      <td>2014-12-01</td>\n      <td>702.080136</td>\n      <td>611.901484</td>\n      <td>665.445808</td>\n      <td>700.870453</td>\n      <td>703.336265</td>\n      <td>-0.520223</td>\n      <td>-0.520223</td>\n      <td>-0.520223</td>\n      <td>-61.923930</td>\n      <td>...</td>\n      <td>-0.520223</td>\n      <td>-0.520223</td>\n      <td>-0.520223</td>\n      <td>-61.403706</td>\n      <td>-61.403706</td>\n      <td>-61.403706</td>\n      <td>0.0</td>\n      <td>0.0</td>\n      <td>0.0</td>\n      <td>640.156206</td>\n    </tr>\n  </tbody>\n</table>\n<p>3 rows × 22 columns</p>\n</div>"
     },
     "metadata": {},
     "execution_count": 20
    }
   ],
   "source": [
    "# Using specific model\n",
    "future_predictions = automl_model.predict(\n",
    "    testdata=test.drop(columns=target),\n",
    "    forecast_period=FORECAST_PERIOD,\n",
    "    model='Prophet'\n",
    ")\n",
    "future_predictions"
   ]
  },
  {
   "cell_type": "code",
   "execution_count": 21,
   "metadata": {},
   "outputs": [
    {
     "output_type": "execute_result",
     "data": {
      "text/plain": [
       "Sales             mean    mean_se  mean_ci_lower  mean_ci_upper\n",
       "2014-10-01  632.090365  66.045245     502.644062     761.536667\n",
       "2014-11-01  638.980028  71.476275     498.889103     779.070952\n",
       "2014-12-01  665.157002  72.481310     523.096244     807.217760"
      ],
      "text/html": "<div>\n<style scoped>\n    .dataframe tbody tr th:only-of-type {\n        vertical-align: middle;\n    }\n\n    .dataframe tbody tr th {\n        vertical-align: top;\n    }\n\n    .dataframe thead th {\n        text-align: right;\n    }\n</style>\n<table border=\"1\" class=\"dataframe\">\n  <thead>\n    <tr style=\"text-align: right;\">\n      <th>Sales</th>\n      <th>mean</th>\n      <th>mean_se</th>\n      <th>mean_ci_lower</th>\n      <th>mean_ci_upper</th>\n    </tr>\n  </thead>\n  <tbody>\n    <tr>\n      <th>2014-10-01</th>\n      <td>632.090365</td>\n      <td>66.045245</td>\n      <td>502.644062</td>\n      <td>761.536667</td>\n    </tr>\n    <tr>\n      <th>2014-11-01</th>\n      <td>638.980028</td>\n      <td>71.476275</td>\n      <td>498.889103</td>\n      <td>779.070952</td>\n    </tr>\n    <tr>\n      <th>2014-12-01</th>\n      <td>665.157002</td>\n      <td>72.481310</td>\n      <td>523.096244</td>\n      <td>807.217760</td>\n    </tr>\n  </tbody>\n</table>\n</div>"
     },
     "metadata": {},
     "execution_count": 21
    }
   ],
   "source": [
    "# Using specific model\n",
    "future_predictions = automl_model.predict(\n",
    "    testdata=test.drop(columns=target),\n",
    "    forecast_period=FORECAST_PERIOD,\n",
    "    model='auto_SARIMAX'\n",
    ")\n",
    "future_predictions"
   ]
  },
  {
   "cell_type": "code",
   "execution_count": 22,
   "metadata": {},
   "outputs": [
    {
     "output_type": "execute_result",
     "data": {
      "text/plain": [
       "              mean  mean_se  mean_ci_lower  mean_ci_upper\n",
       "Time Period                                              \n",
       "2014-10-01   523.6      NaN            NaN            NaN\n",
       "2014-11-01   513.0      NaN            NaN            NaN\n",
       "2014-12-01   522.9      NaN            NaN            NaN"
      ],
      "text/html": "<div>\n<style scoped>\n    .dataframe tbody tr th:only-of-type {\n        vertical-align: middle;\n    }\n\n    .dataframe tbody tr th {\n        vertical-align: top;\n    }\n\n    .dataframe thead th {\n        text-align: right;\n    }\n</style>\n<table border=\"1\" class=\"dataframe\">\n  <thead>\n    <tr style=\"text-align: right;\">\n      <th></th>\n      <th>mean</th>\n      <th>mean_se</th>\n      <th>mean_ci_lower</th>\n      <th>mean_ci_upper</th>\n    </tr>\n    <tr>\n      <th>Time Period</th>\n      <th></th>\n      <th></th>\n      <th></th>\n      <th></th>\n    </tr>\n  </thead>\n  <tbody>\n    <tr>\n      <th>2014-10-01</th>\n      <td>523.6</td>\n      <td>NaN</td>\n      <td>NaN</td>\n      <td>NaN</td>\n    </tr>\n    <tr>\n      <th>2014-11-01</th>\n      <td>513.0</td>\n      <td>NaN</td>\n      <td>NaN</td>\n      <td>NaN</td>\n    </tr>\n    <tr>\n      <th>2014-12-01</th>\n      <td>522.9</td>\n      <td>NaN</td>\n      <td>NaN</td>\n      <td>NaN</td>\n    </tr>\n  </tbody>\n</table>\n</div>"
     },
     "metadata": {},
     "execution_count": 22
    }
   ],
   "source": [
    "# Using specific model\n",
    "future_predictions = automl_model.predict(\n",
    "    testdata=test.drop(columns=target),\n",
    "    forecast_period=FORECAST_PERIOD,\n",
    "    model='ML'\n",
    ")\n",
    "future_predictions"
   ]
  },
  {
   "cell_type": "code",
   "execution_count": 23,
   "metadata": {
    "tags": []
   },
   "outputs": [
    {
     "output_type": "execute_result",
     "data": {
      "text/plain": [
       "Sales             mean     mean_se  mean_ci_lower  mean_ci_upper\n",
       "2014-10-01  545.770852   69.227485     410.087474     681.454230\n",
       "2014-11-01  494.253700   93.651833     310.699480     677.807919\n",
       "2014-12-01  466.351998  107.392814     255.865950     676.838047"
      ],
      "text/html": "<div>\n<style scoped>\n    .dataframe tbody tr th:only-of-type {\n        vertical-align: middle;\n    }\n\n    .dataframe tbody tr th {\n        vertical-align: top;\n    }\n\n    .dataframe thead th {\n        text-align: right;\n    }\n</style>\n<table border=\"1\" class=\"dataframe\">\n  <thead>\n    <tr style=\"text-align: right;\">\n      <th>Sales</th>\n      <th>mean</th>\n      <th>mean_se</th>\n      <th>mean_ci_lower</th>\n      <th>mean_ci_upper</th>\n    </tr>\n  </thead>\n  <tbody>\n    <tr>\n      <th>2014-10-01</th>\n      <td>545.770852</td>\n      <td>69.227485</td>\n      <td>410.087474</td>\n      <td>681.454230</td>\n    </tr>\n    <tr>\n      <th>2014-11-01</th>\n      <td>494.253700</td>\n      <td>93.651833</td>\n      <td>310.699480</td>\n      <td>677.807919</td>\n    </tr>\n    <tr>\n      <th>2014-12-01</th>\n      <td>466.351998</td>\n      <td>107.392814</td>\n      <td>255.865950</td>\n      <td>676.838047</td>\n    </tr>\n  </tbody>\n</table>\n</div>"
     },
     "metadata": {},
     "execution_count": 23
    }
   ],
   "source": [
    "# Using specific model\n",
    "future_predictions = automl_model.predict(\n",
    "    # X_exogen=test.drop(columns=target), # This can be specified but will be ignored for VAR\n",
    "    forecast_period=FORECAST_PERIOD,\n",
    "    model='VAR'\n",
    ")\n",
    "future_predictions"
   ]
  }
 ]
}